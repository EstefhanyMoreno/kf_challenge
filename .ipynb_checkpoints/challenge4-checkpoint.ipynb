{
 "cells": [
  {
   "cell_type": "code",
   "execution_count": 1,
   "metadata": {},
   "outputs": [],
   "source": [
    "import pandas as pd\n",
    "import plotly.express as px"
   ]
  },
  {
   "cell_type": "code",
   "execution_count": 2,
   "metadata": {},
   "outputs": [],
   "source": [
    "df1= pd.read_csv('data1.csv')\n",
    "df2= pd.read_csv('data2.csv')"
   ]
  },
  {
   "cell_type": "code",
   "execution_count": 3,
   "metadata": {},
   "outputs": [
    {
     "data": {
      "text/html": [
       "<div>\n",
       "<style scoped>\n",
       "    .dataframe tbody tr th:only-of-type {\n",
       "        vertical-align: middle;\n",
       "    }\n",
       "\n",
       "    .dataframe tbody tr th {\n",
       "        vertical-align: top;\n",
       "    }\n",
       "\n",
       "    .dataframe thead th {\n",
       "        text-align: right;\n",
       "    }\n",
       "</style>\n",
       "<table border=\"1\" class=\"dataframe\">\n",
       "  <thead>\n",
       "    <tr style=\"text-align: right;\">\n",
       "      <th></th>\n",
       "      <th>Llave</th>\n",
       "      <th>Edad</th>\n",
       "      <th>Sexo</th>\n",
       "      <th>Edo Civil</th>\n",
       "    </tr>\n",
       "  </thead>\n",
       "  <tbody>\n",
       "    <tr>\n",
       "      <td>0</td>\n",
       "      <td>68370623</td>\n",
       "      <td>16</td>\n",
       "      <td>F</td>\n",
       "      <td>S</td>\n",
       "    </tr>\n",
       "    <tr>\n",
       "      <td>1</td>\n",
       "      <td>17714801</td>\n",
       "      <td>62</td>\n",
       "      <td>M</td>\n",
       "      <td>S</td>\n",
       "    </tr>\n",
       "    <tr>\n",
       "      <td>2</td>\n",
       "      <td>73690212</td>\n",
       "      <td>27</td>\n",
       "      <td>F</td>\n",
       "      <td>S</td>\n",
       "    </tr>\n",
       "    <tr>\n",
       "      <td>3</td>\n",
       "      <td>17327632</td>\n",
       "      <td>61</td>\n",
       "      <td>M</td>\n",
       "      <td>S</td>\n",
       "    </tr>\n",
       "    <tr>\n",
       "      <td>4</td>\n",
       "      <td>1410832</td>\n",
       "      <td>24</td>\n",
       "      <td>F</td>\n",
       "      <td>S</td>\n",
       "    </tr>\n",
       "    <tr>\n",
       "      <td>...</td>\n",
       "      <td>...</td>\n",
       "      <td>...</td>\n",
       "      <td>...</td>\n",
       "      <td>...</td>\n",
       "    </tr>\n",
       "    <tr>\n",
       "      <td>995</td>\n",
       "      <td>39660974</td>\n",
       "      <td>62</td>\n",
       "      <td>F</td>\n",
       "      <td>C</td>\n",
       "    </tr>\n",
       "    <tr>\n",
       "      <td>996</td>\n",
       "      <td>85132983</td>\n",
       "      <td>43</td>\n",
       "      <td>M</td>\n",
       "      <td>S</td>\n",
       "    </tr>\n",
       "    <tr>\n",
       "      <td>997</td>\n",
       "      <td>30541983</td>\n",
       "      <td>9</td>\n",
       "      <td>M</td>\n",
       "      <td>C</td>\n",
       "    </tr>\n",
       "    <tr>\n",
       "      <td>998</td>\n",
       "      <td>8711971</td>\n",
       "      <td>59</td>\n",
       "      <td>M</td>\n",
       "      <td>C</td>\n",
       "    </tr>\n",
       "    <tr>\n",
       "      <td>999</td>\n",
       "      <td>6754885</td>\n",
       "      <td>15</td>\n",
       "      <td>F</td>\n",
       "      <td>S</td>\n",
       "    </tr>\n",
       "  </tbody>\n",
       "</table>\n",
       "<p>1000 rows × 4 columns</p>\n",
       "</div>"
      ],
      "text/plain": [
       "        Llave  Edad Sexo Edo Civil\n",
       "0    68370623    16    F         S\n",
       "1    17714801    62    M         S\n",
       "2    73690212    27    F         S\n",
       "3    17327632    61    M         S\n",
       "4     1410832    24    F         S\n",
       "..        ...   ...  ...       ...\n",
       "995  39660974    62    F         C\n",
       "996  85132983    43    M         S\n",
       "997  30541983     9    M         C\n",
       "998   8711971    59    M         C\n",
       "999   6754885    15    F         S\n",
       "\n",
       "[1000 rows x 4 columns]"
      ]
     },
     "execution_count": 3,
     "metadata": {},
     "output_type": "execute_result"
    }
   ],
   "source": [
    "df1"
   ]
  },
  {
   "cell_type": "code",
   "execution_count": 4,
   "metadata": {
    "scrolled": true
   },
   "outputs": [
    {
     "data": {
      "text/html": [
       "<div>\n",
       "<style scoped>\n",
       "    .dataframe tbody tr th:only-of-type {\n",
       "        vertical-align: middle;\n",
       "    }\n",
       "\n",
       "    .dataframe tbody tr th {\n",
       "        vertical-align: top;\n",
       "    }\n",
       "\n",
       "    .dataframe thead th {\n",
       "        text-align: right;\n",
       "    }\n",
       "</style>\n",
       "<table border=\"1\" class=\"dataframe\">\n",
       "  <thead>\n",
       "    <tr style=\"text-align: right;\">\n",
       "      <th></th>\n",
       "      <th>Llave</th>\n",
       "      <th>Antigüedad</th>\n",
       "      <th>Ingresos</th>\n",
       "      <th>Saldo</th>\n",
       "    </tr>\n",
       "  </thead>\n",
       "  <tbody>\n",
       "    <tr>\n",
       "      <td>0</td>\n",
       "      <td>63645743</td>\n",
       "      <td>8</td>\n",
       "      <td>7237</td>\n",
       "      <td>45632</td>\n",
       "    </tr>\n",
       "    <tr>\n",
       "      <td>1</td>\n",
       "      <td>49373681</td>\n",
       "      <td>50</td>\n",
       "      <td>45792</td>\n",
       "      <td>34556</td>\n",
       "    </tr>\n",
       "    <tr>\n",
       "      <td>2</td>\n",
       "      <td>20537939</td>\n",
       "      <td>59</td>\n",
       "      <td>45740</td>\n",
       "      <td>63318</td>\n",
       "    </tr>\n",
       "    <tr>\n",
       "      <td>3</td>\n",
       "      <td>62125804</td>\n",
       "      <td>33</td>\n",
       "      <td>38214</td>\n",
       "      <td>65770</td>\n",
       "    </tr>\n",
       "    <tr>\n",
       "      <td>4</td>\n",
       "      <td>87089216</td>\n",
       "      <td>27</td>\n",
       "      <td>8621</td>\n",
       "      <td>38493</td>\n",
       "    </tr>\n",
       "    <tr>\n",
       "      <td>...</td>\n",
       "      <td>...</td>\n",
       "      <td>...</td>\n",
       "      <td>...</td>\n",
       "      <td>...</td>\n",
       "    </tr>\n",
       "    <tr>\n",
       "      <td>995</td>\n",
       "      <td>78951748</td>\n",
       "      <td>5</td>\n",
       "      <td>11928</td>\n",
       "      <td>24612</td>\n",
       "    </tr>\n",
       "    <tr>\n",
       "      <td>996</td>\n",
       "      <td>84965222</td>\n",
       "      <td>3</td>\n",
       "      <td>42543</td>\n",
       "      <td>47296</td>\n",
       "    </tr>\n",
       "    <tr>\n",
       "      <td>997</td>\n",
       "      <td>19623105</td>\n",
       "      <td>15</td>\n",
       "      <td>24802</td>\n",
       "      <td>61290</td>\n",
       "    </tr>\n",
       "    <tr>\n",
       "      <td>998</td>\n",
       "      <td>75208815</td>\n",
       "      <td>35</td>\n",
       "      <td>37777</td>\n",
       "      <td>41216</td>\n",
       "    </tr>\n",
       "    <tr>\n",
       "      <td>999</td>\n",
       "      <td>32969863</td>\n",
       "      <td>5</td>\n",
       "      <td>7751</td>\n",
       "      <td>60349</td>\n",
       "    </tr>\n",
       "  </tbody>\n",
       "</table>\n",
       "<p>1000 rows × 4 columns</p>\n",
       "</div>"
      ],
      "text/plain": [
       "        Llave  Antigüedad  Ingresos  Saldo\n",
       "0    63645743           8      7237  45632\n",
       "1    49373681          50     45792  34556\n",
       "2    20537939          59     45740  63318\n",
       "3    62125804          33     38214  65770\n",
       "4    87089216          27      8621  38493\n",
       "..        ...         ...       ...    ...\n",
       "995  78951748           5     11928  24612\n",
       "996  84965222           3     42543  47296\n",
       "997  19623105          15     24802  61290\n",
       "998  75208815          35     37777  41216\n",
       "999  32969863           5      7751  60349\n",
       "\n",
       "[1000 rows x 4 columns]"
      ]
     },
     "execution_count": 4,
     "metadata": {},
     "output_type": "execute_result"
    }
   ],
   "source": [
    "df2"
   ]
  },
  {
   "cell_type": "code",
   "execution_count": 5,
   "metadata": {},
   "outputs": [],
   "source": [
    "df= pd.merge(df1, df2, on='Llave') #uniendo df por lo que tienen en común"
   ]
  },
  {
   "cell_type": "code",
   "execution_count": 14,
   "metadata": {},
   "outputs": [
    {
     "data": {
      "text/plain": [
       "Llave         0\n",
       "Edad          0\n",
       "Sexo          0\n",
       "Edo Civil     0\n",
       "Antigüedad    0\n",
       "Ingresos      0\n",
       "Saldo         0\n",
       "dtype: int64"
      ]
     },
     "execution_count": 14,
     "metadata": {},
     "output_type": "execute_result"
    }
   ],
   "source": [
    "df.isna().sum() #no hay nulos"
   ]
  },
  {
   "cell_type": "code",
   "execution_count": 6,
   "metadata": {
    "scrolled": false
   },
   "outputs": [
    {
     "data": {
      "text/html": [
       "<div>\n",
       "<style scoped>\n",
       "    .dataframe tbody tr th:only-of-type {\n",
       "        vertical-align: middle;\n",
       "    }\n",
       "\n",
       "    .dataframe tbody tr th {\n",
       "        vertical-align: top;\n",
       "    }\n",
       "\n",
       "    .dataframe thead th {\n",
       "        text-align: right;\n",
       "    }\n",
       "</style>\n",
       "<table border=\"1\" class=\"dataframe\">\n",
       "  <thead>\n",
       "    <tr style=\"text-align: right;\">\n",
       "      <th></th>\n",
       "      <th>Llave</th>\n",
       "      <th>Edad</th>\n",
       "      <th>Sexo</th>\n",
       "      <th>Edo Civil</th>\n",
       "      <th>Antigüedad</th>\n",
       "      <th>Ingresos</th>\n",
       "      <th>Saldo</th>\n",
       "    </tr>\n",
       "  </thead>\n",
       "  <tbody>\n",
       "    <tr>\n",
       "      <td>0</td>\n",
       "      <td>68370623</td>\n",
       "      <td>16</td>\n",
       "      <td>F</td>\n",
       "      <td>S</td>\n",
       "      <td>33</td>\n",
       "      <td>24177</td>\n",
       "      <td>60868</td>\n",
       "    </tr>\n",
       "    <tr>\n",
       "      <td>1</td>\n",
       "      <td>17714801</td>\n",
       "      <td>62</td>\n",
       "      <td>M</td>\n",
       "      <td>S</td>\n",
       "      <td>49</td>\n",
       "      <td>43386</td>\n",
       "      <td>17586</td>\n",
       "    </tr>\n",
       "    <tr>\n",
       "      <td>2</td>\n",
       "      <td>73690212</td>\n",
       "      <td>27</td>\n",
       "      <td>F</td>\n",
       "      <td>S</td>\n",
       "      <td>26</td>\n",
       "      <td>49929</td>\n",
       "      <td>60831</td>\n",
       "    </tr>\n",
       "    <tr>\n",
       "      <td>3</td>\n",
       "      <td>17327632</td>\n",
       "      <td>61</td>\n",
       "      <td>M</td>\n",
       "      <td>S</td>\n",
       "      <td>7</td>\n",
       "      <td>695</td>\n",
       "      <td>32623</td>\n",
       "    </tr>\n",
       "    <tr>\n",
       "      <td>4</td>\n",
       "      <td>1410832</td>\n",
       "      <td>24</td>\n",
       "      <td>F</td>\n",
       "      <td>S</td>\n",
       "      <td>31</td>\n",
       "      <td>15015</td>\n",
       "      <td>28221</td>\n",
       "    </tr>\n",
       "    <tr>\n",
       "      <td>...</td>\n",
       "      <td>...</td>\n",
       "      <td>...</td>\n",
       "      <td>...</td>\n",
       "      <td>...</td>\n",
       "      <td>...</td>\n",
       "      <td>...</td>\n",
       "      <td>...</td>\n",
       "    </tr>\n",
       "    <tr>\n",
       "      <td>762</td>\n",
       "      <td>39660974</td>\n",
       "      <td>62</td>\n",
       "      <td>F</td>\n",
       "      <td>C</td>\n",
       "      <td>24</td>\n",
       "      <td>5280</td>\n",
       "      <td>68799</td>\n",
       "    </tr>\n",
       "    <tr>\n",
       "      <td>763</td>\n",
       "      <td>85132983</td>\n",
       "      <td>43</td>\n",
       "      <td>M</td>\n",
       "      <td>S</td>\n",
       "      <td>32</td>\n",
       "      <td>11855</td>\n",
       "      <td>40248</td>\n",
       "    </tr>\n",
       "    <tr>\n",
       "      <td>764</td>\n",
       "      <td>30541983</td>\n",
       "      <td>9</td>\n",
       "      <td>M</td>\n",
       "      <td>C</td>\n",
       "      <td>59</td>\n",
       "      <td>7230</td>\n",
       "      <td>59379</td>\n",
       "    </tr>\n",
       "    <tr>\n",
       "      <td>765</td>\n",
       "      <td>8711971</td>\n",
       "      <td>59</td>\n",
       "      <td>M</td>\n",
       "      <td>C</td>\n",
       "      <td>17</td>\n",
       "      <td>2039</td>\n",
       "      <td>8675</td>\n",
       "    </tr>\n",
       "    <tr>\n",
       "      <td>766</td>\n",
       "      <td>6754885</td>\n",
       "      <td>15</td>\n",
       "      <td>F</td>\n",
       "      <td>S</td>\n",
       "      <td>47</td>\n",
       "      <td>12497</td>\n",
       "      <td>41727</td>\n",
       "    </tr>\n",
       "  </tbody>\n",
       "</table>\n",
       "<p>767 rows × 7 columns</p>\n",
       "</div>"
      ],
      "text/plain": [
       "        Llave  Edad Sexo Edo Civil  Antigüedad  Ingresos  Saldo\n",
       "0    68370623    16    F         S          33     24177  60868\n",
       "1    17714801    62    M         S          49     43386  17586\n",
       "2    73690212    27    F         S          26     49929  60831\n",
       "3    17327632    61    M         S           7       695  32623\n",
       "4     1410832    24    F         S          31     15015  28221\n",
       "..        ...   ...  ...       ...         ...       ...    ...\n",
       "762  39660974    62    F         C          24      5280  68799\n",
       "763  85132983    43    M         S          32     11855  40248\n",
       "764  30541983     9    M         C          59      7230  59379\n",
       "765   8711971    59    M         C          17      2039   8675\n",
       "766   6754885    15    F         S          47     12497  41727\n",
       "\n",
       "[767 rows x 7 columns]"
      ]
     },
     "execution_count": 6,
     "metadata": {},
     "output_type": "execute_result"
    }
   ],
   "source": [
    "df #233 filas fueron perdidas"
   ]
  },
  {
   "cell_type": "code",
   "execution_count": 40,
   "metadata": {
    "scrolled": false
   },
   "outputs": [
    {
     "data": {
      "application/vnd.plotly.v1+json": {
       "config": {
        "plotlyServerURL": "https://plot.ly"
       },
       "data": [
        {
         "alignmentgroup": "True",
         "bingroup": "x",
         "hovertemplate": "Edad=%{x}<br>count=%{y}<extra></extra>",
         "legendgroup": "",
         "marker": {
          "color": "#636efa"
         },
         "name": "",
         "offsetgroup": "",
         "orientation": "v",
         "showlegend": false,
         "type": "histogram",
         "x": [
          16,
          62,
          27,
          61,
          24,
          40,
          63,
          54,
          69,
          13,
          49,
          34,
          47,
          26,
          70,
          4,
          45,
          41,
          32,
          23,
          37,
          4,
          1,
          6,
          42,
          23,
          43,
          39,
          59,
          45,
          68,
          60,
          3,
          54,
          44,
          38,
          56,
          45,
          9,
          65,
          41,
          35,
          28,
          43,
          7,
          63,
          32,
          54,
          15,
          62,
          58,
          44,
          54,
          66,
          5,
          24,
          62,
          66,
          68,
          23,
          42,
          66,
          59,
          16,
          17,
          45,
          3,
          47,
          68,
          35,
          37,
          20,
          36,
          67,
          54,
          14,
          52,
          34,
          59,
          68,
          64,
          67,
          5,
          62,
          25,
          20,
          35,
          45,
          14,
          66,
          64,
          25,
          51,
          26,
          33,
          25,
          59,
          21,
          27,
          31,
          4,
          50,
          34,
          19,
          48,
          9,
          0,
          37,
          27,
          57,
          53,
          20,
          65,
          49,
          51,
          10,
          61,
          56,
          52,
          64,
          34,
          61,
          13,
          28,
          9,
          53,
          41,
          7,
          24,
          1,
          53,
          42,
          16,
          37,
          26,
          69,
          34,
          22,
          5,
          39,
          29,
          45,
          15,
          65,
          48,
          33,
          38,
          66,
          54,
          3,
          57,
          36,
          45,
          27,
          55,
          55,
          50,
          17,
          7,
          44,
          38,
          16,
          62,
          5,
          39,
          11,
          53,
          25,
          10,
          8,
          41,
          19,
          25,
          40,
          56,
          39,
          63,
          29,
          32,
          50,
          67,
          42,
          21,
          56,
          63,
          13,
          1,
          16,
          59,
          45,
          29,
          40,
          49,
          55,
          40,
          49,
          56,
          36,
          9,
          30,
          3,
          50,
          4,
          61,
          45,
          15,
          56,
          42,
          61,
          28,
          16,
          58,
          51,
          59,
          49,
          20,
          14,
          21,
          18,
          25,
          44,
          5,
          59,
          42,
          8,
          32,
          48,
          49,
          23,
          18,
          43,
          24,
          16,
          11,
          65,
          65,
          49,
          39,
          53,
          45,
          57,
          65,
          54,
          14,
          26,
          69,
          4,
          64,
          21,
          42,
          57,
          30,
          40,
          55,
          11,
          15,
          27,
          8,
          17,
          40,
          69,
          44,
          26,
          40,
          33,
          24,
          30,
          28,
          19,
          47,
          13,
          69,
          17,
          43,
          56,
          63,
          24,
          31,
          67,
          67,
          58,
          67,
          59,
          19,
          16,
          27,
          48,
          17,
          28,
          51,
          60,
          21,
          8,
          38,
          4,
          3,
          28,
          21,
          32,
          13,
          47,
          28,
          31,
          2,
          51,
          21,
          56,
          66,
          19,
          60,
          55,
          5,
          12,
          37,
          55,
          58,
          56,
          4,
          33,
          65,
          68,
          6,
          55,
          57,
          51,
          44,
          67,
          42,
          33,
          2,
          13,
          23,
          66,
          10,
          38,
          56,
          2,
          21,
          12,
          10,
          45,
          49,
          17,
          48,
          24,
          43,
          37,
          53,
          29,
          5,
          29,
          63,
          67,
          10,
          15,
          59,
          58,
          58,
          47,
          60,
          40,
          35,
          24,
          10,
          41,
          32,
          29,
          26,
          5,
          64,
          64,
          30,
          67,
          62,
          45,
          2,
          6,
          61,
          23,
          27,
          28,
          19,
          30,
          15,
          15,
          36,
          33,
          54,
          3,
          64,
          3,
          69,
          43,
          63,
          63,
          3,
          25,
          4,
          7,
          55,
          42,
          36,
          4,
          33,
          37,
          7,
          64,
          8,
          38,
          33,
          7,
          34,
          65,
          45,
          36,
          65,
          38,
          16,
          35,
          57,
          42,
          32,
          63,
          1,
          12,
          65,
          59,
          59,
          48,
          53,
          42,
          13,
          60,
          7,
          56,
          2,
          17,
          20,
          52,
          53,
          69,
          44,
          49,
          16,
          62,
          47,
          24,
          62,
          6,
          46,
          67,
          59,
          29,
          11,
          38,
          32,
          61,
          31,
          69,
          30,
          70,
          22,
          33,
          18,
          13,
          15,
          41,
          0,
          64,
          56,
          16,
          54,
          54,
          16,
          20,
          69,
          4,
          40,
          27,
          8,
          57,
          17,
          19,
          11,
          42,
          23,
          45,
          30,
          46,
          24,
          56,
          3,
          24,
          50,
          62,
          62,
          31,
          57,
          23,
          39,
          57,
          40,
          5,
          62,
          64,
          28,
          41,
          9,
          32,
          7,
          42,
          60,
          19,
          63,
          52,
          25,
          22,
          4,
          32,
          69,
          28,
          22,
          30,
          19,
          44,
          44,
          59,
          67,
          53,
          17,
          49,
          18,
          63,
          14,
          1,
          4,
          3,
          12,
          24,
          12,
          67,
          30,
          18,
          45,
          57,
          40,
          67,
          63,
          67,
          20,
          31,
          55,
          20,
          32,
          3,
          22,
          29,
          56,
          16,
          32,
          61,
          69,
          10,
          13,
          48,
          42,
          3,
          55,
          70,
          14,
          14,
          37,
          63,
          42,
          42,
          61,
          12,
          47,
          4,
          16,
          26,
          66,
          12,
          70,
          43,
          63,
          0,
          14,
          58,
          50,
          19,
          22,
          1,
          14,
          53,
          14,
          31,
          14,
          66,
          27,
          16,
          55,
          7,
          6,
          25,
          38,
          51,
          4,
          64,
          29,
          62,
          66,
          19,
          34,
          46,
          50,
          14,
          24,
          46,
          3,
          12,
          13,
          52,
          68,
          65,
          53,
          22,
          12,
          26,
          48,
          57,
          41,
          51,
          64,
          17,
          40,
          13,
          53,
          11,
          25,
          63,
          22,
          34,
          50,
          34,
          57,
          37,
          21,
          15,
          35,
          46,
          26,
          66,
          24,
          25,
          6,
          61,
          46,
          4,
          12,
          16,
          46,
          36,
          30,
          2,
          13,
          37,
          33,
          35,
          66,
          41,
          24,
          50,
          6,
          47,
          7,
          22,
          52,
          43,
          50,
          40,
          59,
          7,
          36,
          23,
          45,
          13,
          33,
          65,
          6,
          49,
          50,
          34,
          24,
          15,
          53,
          36,
          16,
          6,
          49,
          15,
          28,
          63,
          64,
          29,
          41,
          23,
          62,
          45,
          69,
          4,
          66,
          64,
          14,
          66,
          38,
          6,
          7,
          61,
          43,
          36,
          24,
          29,
          50,
          31,
          39,
          8,
          15,
          20,
          10,
          30,
          30,
          48,
          15,
          39,
          17,
          43,
          58,
          8,
          5,
          4,
          9,
          5,
          45,
          55,
          19,
          51,
          37,
          16,
          3,
          48,
          67,
          41,
          44,
          36,
          6,
          22,
          42,
          20,
          19,
          35,
          65,
          62,
          43,
          9,
          59,
          15
         ],
         "xaxis": "x",
         "yaxis": "y"
        }
       ],
       "layout": {
        "barmode": "relative",
        "legend": {
         "tracegroupgap": 0
        },
        "template": {
         "data": {
          "bar": [
           {
            "error_x": {
             "color": "#2a3f5f"
            },
            "error_y": {
             "color": "#2a3f5f"
            },
            "marker": {
             "line": {
              "color": "#E5ECF6",
              "width": 0.5
             }
            },
            "type": "bar"
           }
          ],
          "barpolar": [
           {
            "marker": {
             "line": {
              "color": "#E5ECF6",
              "width": 0.5
             }
            },
            "type": "barpolar"
           }
          ],
          "carpet": [
           {
            "aaxis": {
             "endlinecolor": "#2a3f5f",
             "gridcolor": "white",
             "linecolor": "white",
             "minorgridcolor": "white",
             "startlinecolor": "#2a3f5f"
            },
            "baxis": {
             "endlinecolor": "#2a3f5f",
             "gridcolor": "white",
             "linecolor": "white",
             "minorgridcolor": "white",
             "startlinecolor": "#2a3f5f"
            },
            "type": "carpet"
           }
          ],
          "choropleth": [
           {
            "colorbar": {
             "outlinewidth": 0,
             "ticks": ""
            },
            "type": "choropleth"
           }
          ],
          "contour": [
           {
            "colorbar": {
             "outlinewidth": 0,
             "ticks": ""
            },
            "colorscale": [
             [
              0,
              "#0d0887"
             ],
             [
              0.1111111111111111,
              "#46039f"
             ],
             [
              0.2222222222222222,
              "#7201a8"
             ],
             [
              0.3333333333333333,
              "#9c179e"
             ],
             [
              0.4444444444444444,
              "#bd3786"
             ],
             [
              0.5555555555555556,
              "#d8576b"
             ],
             [
              0.6666666666666666,
              "#ed7953"
             ],
             [
              0.7777777777777778,
              "#fb9f3a"
             ],
             [
              0.8888888888888888,
              "#fdca26"
             ],
             [
              1,
              "#f0f921"
             ]
            ],
            "type": "contour"
           }
          ],
          "contourcarpet": [
           {
            "colorbar": {
             "outlinewidth": 0,
             "ticks": ""
            },
            "type": "contourcarpet"
           }
          ],
          "heatmap": [
           {
            "colorbar": {
             "outlinewidth": 0,
             "ticks": ""
            },
            "colorscale": [
             [
              0,
              "#0d0887"
             ],
             [
              0.1111111111111111,
              "#46039f"
             ],
             [
              0.2222222222222222,
              "#7201a8"
             ],
             [
              0.3333333333333333,
              "#9c179e"
             ],
             [
              0.4444444444444444,
              "#bd3786"
             ],
             [
              0.5555555555555556,
              "#d8576b"
             ],
             [
              0.6666666666666666,
              "#ed7953"
             ],
             [
              0.7777777777777778,
              "#fb9f3a"
             ],
             [
              0.8888888888888888,
              "#fdca26"
             ],
             [
              1,
              "#f0f921"
             ]
            ],
            "type": "heatmap"
           }
          ],
          "heatmapgl": [
           {
            "colorbar": {
             "outlinewidth": 0,
             "ticks": ""
            },
            "colorscale": [
             [
              0,
              "#0d0887"
             ],
             [
              0.1111111111111111,
              "#46039f"
             ],
             [
              0.2222222222222222,
              "#7201a8"
             ],
             [
              0.3333333333333333,
              "#9c179e"
             ],
             [
              0.4444444444444444,
              "#bd3786"
             ],
             [
              0.5555555555555556,
              "#d8576b"
             ],
             [
              0.6666666666666666,
              "#ed7953"
             ],
             [
              0.7777777777777778,
              "#fb9f3a"
             ],
             [
              0.8888888888888888,
              "#fdca26"
             ],
             [
              1,
              "#f0f921"
             ]
            ],
            "type": "heatmapgl"
           }
          ],
          "histogram": [
           {
            "marker": {
             "colorbar": {
              "outlinewidth": 0,
              "ticks": ""
             }
            },
            "type": "histogram"
           }
          ],
          "histogram2d": [
           {
            "colorbar": {
             "outlinewidth": 0,
             "ticks": ""
            },
            "colorscale": [
             [
              0,
              "#0d0887"
             ],
             [
              0.1111111111111111,
              "#46039f"
             ],
             [
              0.2222222222222222,
              "#7201a8"
             ],
             [
              0.3333333333333333,
              "#9c179e"
             ],
             [
              0.4444444444444444,
              "#bd3786"
             ],
             [
              0.5555555555555556,
              "#d8576b"
             ],
             [
              0.6666666666666666,
              "#ed7953"
             ],
             [
              0.7777777777777778,
              "#fb9f3a"
             ],
             [
              0.8888888888888888,
              "#fdca26"
             ],
             [
              1,
              "#f0f921"
             ]
            ],
            "type": "histogram2d"
           }
          ],
          "histogram2dcontour": [
           {
            "colorbar": {
             "outlinewidth": 0,
             "ticks": ""
            },
            "colorscale": [
             [
              0,
              "#0d0887"
             ],
             [
              0.1111111111111111,
              "#46039f"
             ],
             [
              0.2222222222222222,
              "#7201a8"
             ],
             [
              0.3333333333333333,
              "#9c179e"
             ],
             [
              0.4444444444444444,
              "#bd3786"
             ],
             [
              0.5555555555555556,
              "#d8576b"
             ],
             [
              0.6666666666666666,
              "#ed7953"
             ],
             [
              0.7777777777777778,
              "#fb9f3a"
             ],
             [
              0.8888888888888888,
              "#fdca26"
             ],
             [
              1,
              "#f0f921"
             ]
            ],
            "type": "histogram2dcontour"
           }
          ],
          "mesh3d": [
           {
            "colorbar": {
             "outlinewidth": 0,
             "ticks": ""
            },
            "type": "mesh3d"
           }
          ],
          "parcoords": [
           {
            "line": {
             "colorbar": {
              "outlinewidth": 0,
              "ticks": ""
             }
            },
            "type": "parcoords"
           }
          ],
          "pie": [
           {
            "automargin": true,
            "type": "pie"
           }
          ],
          "scatter": [
           {
            "marker": {
             "colorbar": {
              "outlinewidth": 0,
              "ticks": ""
             }
            },
            "type": "scatter"
           }
          ],
          "scatter3d": [
           {
            "line": {
             "colorbar": {
              "outlinewidth": 0,
              "ticks": ""
             }
            },
            "marker": {
             "colorbar": {
              "outlinewidth": 0,
              "ticks": ""
             }
            },
            "type": "scatter3d"
           }
          ],
          "scattercarpet": [
           {
            "marker": {
             "colorbar": {
              "outlinewidth": 0,
              "ticks": ""
             }
            },
            "type": "scattercarpet"
           }
          ],
          "scattergeo": [
           {
            "marker": {
             "colorbar": {
              "outlinewidth": 0,
              "ticks": ""
             }
            },
            "type": "scattergeo"
           }
          ],
          "scattergl": [
           {
            "marker": {
             "colorbar": {
              "outlinewidth": 0,
              "ticks": ""
             }
            },
            "type": "scattergl"
           }
          ],
          "scattermapbox": [
           {
            "marker": {
             "colorbar": {
              "outlinewidth": 0,
              "ticks": ""
             }
            },
            "type": "scattermapbox"
           }
          ],
          "scatterpolar": [
           {
            "marker": {
             "colorbar": {
              "outlinewidth": 0,
              "ticks": ""
             }
            },
            "type": "scatterpolar"
           }
          ],
          "scatterpolargl": [
           {
            "marker": {
             "colorbar": {
              "outlinewidth": 0,
              "ticks": ""
             }
            },
            "type": "scatterpolargl"
           }
          ],
          "scatterternary": [
           {
            "marker": {
             "colorbar": {
              "outlinewidth": 0,
              "ticks": ""
             }
            },
            "type": "scatterternary"
           }
          ],
          "surface": [
           {
            "colorbar": {
             "outlinewidth": 0,
             "ticks": ""
            },
            "colorscale": [
             [
              0,
              "#0d0887"
             ],
             [
              0.1111111111111111,
              "#46039f"
             ],
             [
              0.2222222222222222,
              "#7201a8"
             ],
             [
              0.3333333333333333,
              "#9c179e"
             ],
             [
              0.4444444444444444,
              "#bd3786"
             ],
             [
              0.5555555555555556,
              "#d8576b"
             ],
             [
              0.6666666666666666,
              "#ed7953"
             ],
             [
              0.7777777777777778,
              "#fb9f3a"
             ],
             [
              0.8888888888888888,
              "#fdca26"
             ],
             [
              1,
              "#f0f921"
             ]
            ],
            "type": "surface"
           }
          ],
          "table": [
           {
            "cells": {
             "fill": {
              "color": "#EBF0F8"
             },
             "line": {
              "color": "white"
             }
            },
            "header": {
             "fill": {
              "color": "#C8D4E3"
             },
             "line": {
              "color": "white"
             }
            },
            "type": "table"
           }
          ]
         },
         "layout": {
          "annotationdefaults": {
           "arrowcolor": "#2a3f5f",
           "arrowhead": 0,
           "arrowwidth": 1
          },
          "coloraxis": {
           "colorbar": {
            "outlinewidth": 0,
            "ticks": ""
           }
          },
          "colorscale": {
           "diverging": [
            [
             0,
             "#8e0152"
            ],
            [
             0.1,
             "#c51b7d"
            ],
            [
             0.2,
             "#de77ae"
            ],
            [
             0.3,
             "#f1b6da"
            ],
            [
             0.4,
             "#fde0ef"
            ],
            [
             0.5,
             "#f7f7f7"
            ],
            [
             0.6,
             "#e6f5d0"
            ],
            [
             0.7,
             "#b8e186"
            ],
            [
             0.8,
             "#7fbc41"
            ],
            [
             0.9,
             "#4d9221"
            ],
            [
             1,
             "#276419"
            ]
           ],
           "sequential": [
            [
             0,
             "#0d0887"
            ],
            [
             0.1111111111111111,
             "#46039f"
            ],
            [
             0.2222222222222222,
             "#7201a8"
            ],
            [
             0.3333333333333333,
             "#9c179e"
            ],
            [
             0.4444444444444444,
             "#bd3786"
            ],
            [
             0.5555555555555556,
             "#d8576b"
            ],
            [
             0.6666666666666666,
             "#ed7953"
            ],
            [
             0.7777777777777778,
             "#fb9f3a"
            ],
            [
             0.8888888888888888,
             "#fdca26"
            ],
            [
             1,
             "#f0f921"
            ]
           ],
           "sequentialminus": [
            [
             0,
             "#0d0887"
            ],
            [
             0.1111111111111111,
             "#46039f"
            ],
            [
             0.2222222222222222,
             "#7201a8"
            ],
            [
             0.3333333333333333,
             "#9c179e"
            ],
            [
             0.4444444444444444,
             "#bd3786"
            ],
            [
             0.5555555555555556,
             "#d8576b"
            ],
            [
             0.6666666666666666,
             "#ed7953"
            ],
            [
             0.7777777777777778,
             "#fb9f3a"
            ],
            [
             0.8888888888888888,
             "#fdca26"
            ],
            [
             1,
             "#f0f921"
            ]
           ]
          },
          "colorway": [
           "#636efa",
           "#EF553B",
           "#00cc96",
           "#ab63fa",
           "#FFA15A",
           "#19d3f3",
           "#FF6692",
           "#B6E880",
           "#FF97FF",
           "#FECB52"
          ],
          "font": {
           "color": "#2a3f5f"
          },
          "geo": {
           "bgcolor": "white",
           "lakecolor": "white",
           "landcolor": "#E5ECF6",
           "showlakes": true,
           "showland": true,
           "subunitcolor": "white"
          },
          "hoverlabel": {
           "align": "left"
          },
          "hovermode": "closest",
          "mapbox": {
           "style": "light"
          },
          "paper_bgcolor": "white",
          "plot_bgcolor": "#E5ECF6",
          "polar": {
           "angularaxis": {
            "gridcolor": "white",
            "linecolor": "white",
            "ticks": ""
           },
           "bgcolor": "#E5ECF6",
           "radialaxis": {
            "gridcolor": "white",
            "linecolor": "white",
            "ticks": ""
           }
          },
          "scene": {
           "xaxis": {
            "backgroundcolor": "#E5ECF6",
            "gridcolor": "white",
            "gridwidth": 2,
            "linecolor": "white",
            "showbackground": true,
            "ticks": "",
            "zerolinecolor": "white"
           },
           "yaxis": {
            "backgroundcolor": "#E5ECF6",
            "gridcolor": "white",
            "gridwidth": 2,
            "linecolor": "white",
            "showbackground": true,
            "ticks": "",
            "zerolinecolor": "white"
           },
           "zaxis": {
            "backgroundcolor": "#E5ECF6",
            "gridcolor": "white",
            "gridwidth": 2,
            "linecolor": "white",
            "showbackground": true,
            "ticks": "",
            "zerolinecolor": "white"
           }
          },
          "shapedefaults": {
           "line": {
            "color": "#2a3f5f"
           }
          },
          "ternary": {
           "aaxis": {
            "gridcolor": "white",
            "linecolor": "white",
            "ticks": ""
           },
           "baxis": {
            "gridcolor": "white",
            "linecolor": "white",
            "ticks": ""
           },
           "bgcolor": "#E5ECF6",
           "caxis": {
            "gridcolor": "white",
            "linecolor": "white",
            "ticks": ""
           }
          },
          "title": {
           "x": 0.05
          },
          "xaxis": {
           "automargin": true,
           "gridcolor": "white",
           "linecolor": "white",
           "ticks": "",
           "title": {
            "standoff": 15
           },
           "zerolinecolor": "white",
           "zerolinewidth": 2
          },
          "yaxis": {
           "automargin": true,
           "gridcolor": "white",
           "linecolor": "white",
           "ticks": "",
           "title": {
            "standoff": 15
           },
           "zerolinecolor": "white",
           "zerolinewidth": 2
          }
         }
        },
        "title": {
         "text": "Distribución de la Edad"
        },
        "xaxis": {
         "anchor": "y",
         "domain": [
          0,
          1
         ],
         "title": {
          "text": "Edad"
         }
        },
        "yaxis": {
         "anchor": "x",
         "domain": [
          0,
          1
         ],
         "title": {
          "text": "count"
         }
        }
       }
      },
      "text/html": [
       "<div>                            <div id=\"d3f8653d-e560-46cc-a962-ed8a3776cd1d\" class=\"plotly-graph-div\" style=\"height:525px; width:100%;\"></div>            <script type=\"text/javascript\">                require([\"plotly\"], function(Plotly) {                    window.PLOTLYENV=window.PLOTLYENV || {};                                    if (document.getElementById(\"d3f8653d-e560-46cc-a962-ed8a3776cd1d\")) {                    Plotly.newPlot(                        \"d3f8653d-e560-46cc-a962-ed8a3776cd1d\",                        [{\"alignmentgroup\": \"True\", \"bingroup\": \"x\", \"hovertemplate\": \"Edad=%{x}<br>count=%{y}<extra></extra>\", \"legendgroup\": \"\", \"marker\": {\"color\": \"#636efa\"}, \"name\": \"\", \"offsetgroup\": \"\", \"orientation\": \"v\", \"showlegend\": false, \"type\": \"histogram\", \"x\": [16, 62, 27, 61, 24, 40, 63, 54, 69, 13, 49, 34, 47, 26, 70, 4, 45, 41, 32, 23, 37, 4, 1, 6, 42, 23, 43, 39, 59, 45, 68, 60, 3, 54, 44, 38, 56, 45, 9, 65, 41, 35, 28, 43, 7, 63, 32, 54, 15, 62, 58, 44, 54, 66, 5, 24, 62, 66, 68, 23, 42, 66, 59, 16, 17, 45, 3, 47, 68, 35, 37, 20, 36, 67, 54, 14, 52, 34, 59, 68, 64, 67, 5, 62, 25, 20, 35, 45, 14, 66, 64, 25, 51, 26, 33, 25, 59, 21, 27, 31, 4, 50, 34, 19, 48, 9, 0, 37, 27, 57, 53, 20, 65, 49, 51, 10, 61, 56, 52, 64, 34, 61, 13, 28, 9, 53, 41, 7, 24, 1, 53, 42, 16, 37, 26, 69, 34, 22, 5, 39, 29, 45, 15, 65, 48, 33, 38, 66, 54, 3, 57, 36, 45, 27, 55, 55, 50, 17, 7, 44, 38, 16, 62, 5, 39, 11, 53, 25, 10, 8, 41, 19, 25, 40, 56, 39, 63, 29, 32, 50, 67, 42, 21, 56, 63, 13, 1, 16, 59, 45, 29, 40, 49, 55, 40, 49, 56, 36, 9, 30, 3, 50, 4, 61, 45, 15, 56, 42, 61, 28, 16, 58, 51, 59, 49, 20, 14, 21, 18, 25, 44, 5, 59, 42, 8, 32, 48, 49, 23, 18, 43, 24, 16, 11, 65, 65, 49, 39, 53, 45, 57, 65, 54, 14, 26, 69, 4, 64, 21, 42, 57, 30, 40, 55, 11, 15, 27, 8, 17, 40, 69, 44, 26, 40, 33, 24, 30, 28, 19, 47, 13, 69, 17, 43, 56, 63, 24, 31, 67, 67, 58, 67, 59, 19, 16, 27, 48, 17, 28, 51, 60, 21, 8, 38, 4, 3, 28, 21, 32, 13, 47, 28, 31, 2, 51, 21, 56, 66, 19, 60, 55, 5, 12, 37, 55, 58, 56, 4, 33, 65, 68, 6, 55, 57, 51, 44, 67, 42, 33, 2, 13, 23, 66, 10, 38, 56, 2, 21, 12, 10, 45, 49, 17, 48, 24, 43, 37, 53, 29, 5, 29, 63, 67, 10, 15, 59, 58, 58, 47, 60, 40, 35, 24, 10, 41, 32, 29, 26, 5, 64, 64, 30, 67, 62, 45, 2, 6, 61, 23, 27, 28, 19, 30, 15, 15, 36, 33, 54, 3, 64, 3, 69, 43, 63, 63, 3, 25, 4, 7, 55, 42, 36, 4, 33, 37, 7, 64, 8, 38, 33, 7, 34, 65, 45, 36, 65, 38, 16, 35, 57, 42, 32, 63, 1, 12, 65, 59, 59, 48, 53, 42, 13, 60, 7, 56, 2, 17, 20, 52, 53, 69, 44, 49, 16, 62, 47, 24, 62, 6, 46, 67, 59, 29, 11, 38, 32, 61, 31, 69, 30, 70, 22, 33, 18, 13, 15, 41, 0, 64, 56, 16, 54, 54, 16, 20, 69, 4, 40, 27, 8, 57, 17, 19, 11, 42, 23, 45, 30, 46, 24, 56, 3, 24, 50, 62, 62, 31, 57, 23, 39, 57, 40, 5, 62, 64, 28, 41, 9, 32, 7, 42, 60, 19, 63, 52, 25, 22, 4, 32, 69, 28, 22, 30, 19, 44, 44, 59, 67, 53, 17, 49, 18, 63, 14, 1, 4, 3, 12, 24, 12, 67, 30, 18, 45, 57, 40, 67, 63, 67, 20, 31, 55, 20, 32, 3, 22, 29, 56, 16, 32, 61, 69, 10, 13, 48, 42, 3, 55, 70, 14, 14, 37, 63, 42, 42, 61, 12, 47, 4, 16, 26, 66, 12, 70, 43, 63, 0, 14, 58, 50, 19, 22, 1, 14, 53, 14, 31, 14, 66, 27, 16, 55, 7, 6, 25, 38, 51, 4, 64, 29, 62, 66, 19, 34, 46, 50, 14, 24, 46, 3, 12, 13, 52, 68, 65, 53, 22, 12, 26, 48, 57, 41, 51, 64, 17, 40, 13, 53, 11, 25, 63, 22, 34, 50, 34, 57, 37, 21, 15, 35, 46, 26, 66, 24, 25, 6, 61, 46, 4, 12, 16, 46, 36, 30, 2, 13, 37, 33, 35, 66, 41, 24, 50, 6, 47, 7, 22, 52, 43, 50, 40, 59, 7, 36, 23, 45, 13, 33, 65, 6, 49, 50, 34, 24, 15, 53, 36, 16, 6, 49, 15, 28, 63, 64, 29, 41, 23, 62, 45, 69, 4, 66, 64, 14, 66, 38, 6, 7, 61, 43, 36, 24, 29, 50, 31, 39, 8, 15, 20, 10, 30, 30, 48, 15, 39, 17, 43, 58, 8, 5, 4, 9, 5, 45, 55, 19, 51, 37, 16, 3, 48, 67, 41, 44, 36, 6, 22, 42, 20, 19, 35, 65, 62, 43, 9, 59, 15], \"xaxis\": \"x\", \"yaxis\": \"y\"}],                        {\"barmode\": \"relative\", \"legend\": {\"tracegroupgap\": 0}, \"template\": {\"data\": {\"bar\": [{\"error_x\": {\"color\": \"#2a3f5f\"}, \"error_y\": {\"color\": \"#2a3f5f\"}, \"marker\": {\"line\": {\"color\": \"#E5ECF6\", \"width\": 0.5}}, \"type\": \"bar\"}], \"barpolar\": [{\"marker\": {\"line\": {\"color\": \"#E5ECF6\", \"width\": 0.5}}, \"type\": \"barpolar\"}], \"carpet\": [{\"aaxis\": {\"endlinecolor\": \"#2a3f5f\", \"gridcolor\": \"white\", \"linecolor\": \"white\", \"minorgridcolor\": \"white\", \"startlinecolor\": \"#2a3f5f\"}, \"baxis\": {\"endlinecolor\": \"#2a3f5f\", \"gridcolor\": \"white\", \"linecolor\": \"white\", \"minorgridcolor\": \"white\", \"startlinecolor\": \"#2a3f5f\"}, \"type\": \"carpet\"}], \"choropleth\": [{\"colorbar\": {\"outlinewidth\": 0, \"ticks\": \"\"}, \"type\": \"choropleth\"}], \"contour\": [{\"colorbar\": {\"outlinewidth\": 0, \"ticks\": \"\"}, \"colorscale\": [[0.0, \"#0d0887\"], [0.1111111111111111, \"#46039f\"], [0.2222222222222222, \"#7201a8\"], [0.3333333333333333, \"#9c179e\"], [0.4444444444444444, \"#bd3786\"], [0.5555555555555556, \"#d8576b\"], [0.6666666666666666, \"#ed7953\"], [0.7777777777777778, \"#fb9f3a\"], [0.8888888888888888, \"#fdca26\"], [1.0, \"#f0f921\"]], \"type\": \"contour\"}], \"contourcarpet\": [{\"colorbar\": {\"outlinewidth\": 0, \"ticks\": \"\"}, \"type\": \"contourcarpet\"}], \"heatmap\": [{\"colorbar\": {\"outlinewidth\": 0, \"ticks\": \"\"}, \"colorscale\": [[0.0, \"#0d0887\"], [0.1111111111111111, \"#46039f\"], [0.2222222222222222, \"#7201a8\"], [0.3333333333333333, \"#9c179e\"], [0.4444444444444444, \"#bd3786\"], [0.5555555555555556, \"#d8576b\"], [0.6666666666666666, \"#ed7953\"], [0.7777777777777778, \"#fb9f3a\"], [0.8888888888888888, \"#fdca26\"], [1.0, \"#f0f921\"]], \"type\": \"heatmap\"}], \"heatmapgl\": [{\"colorbar\": {\"outlinewidth\": 0, \"ticks\": \"\"}, \"colorscale\": [[0.0, \"#0d0887\"], [0.1111111111111111, \"#46039f\"], [0.2222222222222222, \"#7201a8\"], [0.3333333333333333, \"#9c179e\"], [0.4444444444444444, \"#bd3786\"], [0.5555555555555556, \"#d8576b\"], [0.6666666666666666, \"#ed7953\"], [0.7777777777777778, \"#fb9f3a\"], [0.8888888888888888, \"#fdca26\"], [1.0, \"#f0f921\"]], \"type\": \"heatmapgl\"}], \"histogram\": [{\"marker\": {\"colorbar\": {\"outlinewidth\": 0, \"ticks\": \"\"}}, \"type\": \"histogram\"}], \"histogram2d\": [{\"colorbar\": {\"outlinewidth\": 0, \"ticks\": \"\"}, \"colorscale\": [[0.0, \"#0d0887\"], [0.1111111111111111, \"#46039f\"], [0.2222222222222222, \"#7201a8\"], [0.3333333333333333, \"#9c179e\"], [0.4444444444444444, \"#bd3786\"], [0.5555555555555556, \"#d8576b\"], [0.6666666666666666, \"#ed7953\"], [0.7777777777777778, \"#fb9f3a\"], [0.8888888888888888, \"#fdca26\"], [1.0, \"#f0f921\"]], \"type\": \"histogram2d\"}], \"histogram2dcontour\": [{\"colorbar\": {\"outlinewidth\": 0, \"ticks\": \"\"}, \"colorscale\": [[0.0, \"#0d0887\"], [0.1111111111111111, \"#46039f\"], [0.2222222222222222, \"#7201a8\"], [0.3333333333333333, \"#9c179e\"], [0.4444444444444444, \"#bd3786\"], [0.5555555555555556, \"#d8576b\"], [0.6666666666666666, \"#ed7953\"], [0.7777777777777778, \"#fb9f3a\"], [0.8888888888888888, \"#fdca26\"], [1.0, \"#f0f921\"]], \"type\": \"histogram2dcontour\"}], \"mesh3d\": [{\"colorbar\": {\"outlinewidth\": 0, \"ticks\": \"\"}, \"type\": \"mesh3d\"}], \"parcoords\": [{\"line\": {\"colorbar\": {\"outlinewidth\": 0, \"ticks\": \"\"}}, \"type\": \"parcoords\"}], \"pie\": [{\"automargin\": true, \"type\": \"pie\"}], \"scatter\": [{\"marker\": {\"colorbar\": {\"outlinewidth\": 0, \"ticks\": \"\"}}, \"type\": \"scatter\"}], \"scatter3d\": [{\"line\": {\"colorbar\": {\"outlinewidth\": 0, \"ticks\": \"\"}}, \"marker\": {\"colorbar\": {\"outlinewidth\": 0, \"ticks\": \"\"}}, \"type\": \"scatter3d\"}], \"scattercarpet\": [{\"marker\": {\"colorbar\": {\"outlinewidth\": 0, \"ticks\": \"\"}}, \"type\": \"scattercarpet\"}], \"scattergeo\": [{\"marker\": {\"colorbar\": {\"outlinewidth\": 0, \"ticks\": \"\"}}, \"type\": \"scattergeo\"}], \"scattergl\": [{\"marker\": {\"colorbar\": {\"outlinewidth\": 0, \"ticks\": \"\"}}, \"type\": \"scattergl\"}], \"scattermapbox\": [{\"marker\": {\"colorbar\": {\"outlinewidth\": 0, \"ticks\": \"\"}}, \"type\": \"scattermapbox\"}], \"scatterpolar\": [{\"marker\": {\"colorbar\": {\"outlinewidth\": 0, \"ticks\": \"\"}}, \"type\": \"scatterpolar\"}], \"scatterpolargl\": [{\"marker\": {\"colorbar\": {\"outlinewidth\": 0, \"ticks\": \"\"}}, \"type\": \"scatterpolargl\"}], \"scatterternary\": [{\"marker\": {\"colorbar\": {\"outlinewidth\": 0, \"ticks\": \"\"}}, \"type\": \"scatterternary\"}], \"surface\": [{\"colorbar\": {\"outlinewidth\": 0, \"ticks\": \"\"}, \"colorscale\": [[0.0, \"#0d0887\"], [0.1111111111111111, \"#46039f\"], [0.2222222222222222, \"#7201a8\"], [0.3333333333333333, \"#9c179e\"], [0.4444444444444444, \"#bd3786\"], [0.5555555555555556, \"#d8576b\"], [0.6666666666666666, \"#ed7953\"], [0.7777777777777778, \"#fb9f3a\"], [0.8888888888888888, \"#fdca26\"], [1.0, \"#f0f921\"]], \"type\": \"surface\"}], \"table\": [{\"cells\": {\"fill\": {\"color\": \"#EBF0F8\"}, \"line\": {\"color\": \"white\"}}, \"header\": {\"fill\": {\"color\": \"#C8D4E3\"}, \"line\": {\"color\": \"white\"}}, \"type\": \"table\"}]}, \"layout\": {\"annotationdefaults\": {\"arrowcolor\": \"#2a3f5f\", \"arrowhead\": 0, \"arrowwidth\": 1}, \"coloraxis\": {\"colorbar\": {\"outlinewidth\": 0, \"ticks\": \"\"}}, \"colorscale\": {\"diverging\": [[0, \"#8e0152\"], [0.1, \"#c51b7d\"], [0.2, \"#de77ae\"], [0.3, \"#f1b6da\"], [0.4, \"#fde0ef\"], [0.5, \"#f7f7f7\"], [0.6, \"#e6f5d0\"], [0.7, \"#b8e186\"], [0.8, \"#7fbc41\"], [0.9, \"#4d9221\"], [1, \"#276419\"]], \"sequential\": [[0.0, \"#0d0887\"], [0.1111111111111111, \"#46039f\"], [0.2222222222222222, \"#7201a8\"], [0.3333333333333333, \"#9c179e\"], [0.4444444444444444, \"#bd3786\"], [0.5555555555555556, \"#d8576b\"], [0.6666666666666666, \"#ed7953\"], [0.7777777777777778, \"#fb9f3a\"], [0.8888888888888888, \"#fdca26\"], [1.0, \"#f0f921\"]], \"sequentialminus\": [[0.0, \"#0d0887\"], [0.1111111111111111, \"#46039f\"], [0.2222222222222222, \"#7201a8\"], [0.3333333333333333, \"#9c179e\"], [0.4444444444444444, \"#bd3786\"], [0.5555555555555556, \"#d8576b\"], [0.6666666666666666, \"#ed7953\"], [0.7777777777777778, \"#fb9f3a\"], [0.8888888888888888, \"#fdca26\"], [1.0, \"#f0f921\"]]}, \"colorway\": [\"#636efa\", \"#EF553B\", \"#00cc96\", \"#ab63fa\", \"#FFA15A\", \"#19d3f3\", \"#FF6692\", \"#B6E880\", \"#FF97FF\", \"#FECB52\"], \"font\": {\"color\": \"#2a3f5f\"}, \"geo\": {\"bgcolor\": \"white\", \"lakecolor\": \"white\", \"landcolor\": \"#E5ECF6\", \"showlakes\": true, \"showland\": true, \"subunitcolor\": \"white\"}, \"hoverlabel\": {\"align\": \"left\"}, \"hovermode\": \"closest\", \"mapbox\": {\"style\": \"light\"}, \"paper_bgcolor\": \"white\", \"plot_bgcolor\": \"#E5ECF6\", \"polar\": {\"angularaxis\": {\"gridcolor\": \"white\", \"linecolor\": \"white\", \"ticks\": \"\"}, \"bgcolor\": \"#E5ECF6\", \"radialaxis\": {\"gridcolor\": \"white\", \"linecolor\": \"white\", \"ticks\": \"\"}}, \"scene\": {\"xaxis\": {\"backgroundcolor\": \"#E5ECF6\", \"gridcolor\": \"white\", \"gridwidth\": 2, \"linecolor\": \"white\", \"showbackground\": true, \"ticks\": \"\", \"zerolinecolor\": \"white\"}, \"yaxis\": {\"backgroundcolor\": \"#E5ECF6\", \"gridcolor\": \"white\", \"gridwidth\": 2, \"linecolor\": \"white\", \"showbackground\": true, \"ticks\": \"\", \"zerolinecolor\": \"white\"}, \"zaxis\": {\"backgroundcolor\": \"#E5ECF6\", \"gridcolor\": \"white\", \"gridwidth\": 2, \"linecolor\": \"white\", \"showbackground\": true, \"ticks\": \"\", \"zerolinecolor\": \"white\"}}, \"shapedefaults\": {\"line\": {\"color\": \"#2a3f5f\"}}, \"ternary\": {\"aaxis\": {\"gridcolor\": \"white\", \"linecolor\": \"white\", \"ticks\": \"\"}, \"baxis\": {\"gridcolor\": \"white\", \"linecolor\": \"white\", \"ticks\": \"\"}, \"bgcolor\": \"#E5ECF6\", \"caxis\": {\"gridcolor\": \"white\", \"linecolor\": \"white\", \"ticks\": \"\"}}, \"title\": {\"x\": 0.05}, \"xaxis\": {\"automargin\": true, \"gridcolor\": \"white\", \"linecolor\": \"white\", \"ticks\": \"\", \"title\": {\"standoff\": 15}, \"zerolinecolor\": \"white\", \"zerolinewidth\": 2}, \"yaxis\": {\"automargin\": true, \"gridcolor\": \"white\", \"linecolor\": \"white\", \"ticks\": \"\", \"title\": {\"standoff\": 15}, \"zerolinecolor\": \"white\", \"zerolinewidth\": 2}}}, \"title\": {\"text\": \"Distribuci\\u00f3n de la Edad\"}, \"xaxis\": {\"anchor\": \"y\", \"domain\": [0.0, 1.0], \"title\": {\"text\": \"Edad\"}}, \"yaxis\": {\"anchor\": \"x\", \"domain\": [0.0, 1.0], \"title\": {\"text\": \"count\"}}},                        {\"responsive\": true}                    ).then(function(){\n",
       "                            \n",
       "var gd = document.getElementById('d3f8653d-e560-46cc-a962-ed8a3776cd1d');\n",
       "var x = new MutationObserver(function (mutations, observer) {{\n",
       "        var display = window.getComputedStyle(gd).display;\n",
       "        if (!display || display === 'none') {{\n",
       "            console.log([gd, 'removed!']);\n",
       "            Plotly.purge(gd);\n",
       "            observer.disconnect();\n",
       "        }}\n",
       "}});\n",
       "\n",
       "// Listen for the removal of the full notebook cells\n",
       "var notebookContainer = gd.closest('#notebook-container');\n",
       "if (notebookContainer) {{\n",
       "    x.observe(notebookContainer, {childList: true});\n",
       "}}\n",
       "\n",
       "// Listen for the clearing of the current output cell\n",
       "var outputEl = gd.closest('.output');\n",
       "if (outputEl) {{\n",
       "    x.observe(outputEl, {childList: true});\n",
       "}}\n",
       "\n",
       "                        })                };                });            </script>        </div>"
      ]
     },
     "metadata": {},
     "output_type": "display_data"
    }
   ],
   "source": [
    "fig = px.histogram(df, x='Edad', title= 'Distribución de la Edad') #hay edades desde los 0 hasta los 80 y no hay una distribución definida\n",
    "fig.show()"
   ]
  },
  {
   "cell_type": "code",
   "execution_count": 38,
   "metadata": {
    "scrolled": false
   },
   "outputs": [
    {
     "data": {
      "application/vnd.plotly.v1+json": {
       "config": {
        "plotlyServerURL": "https://plot.ly"
       },
       "data": [
        {
         "alignmentgroup": "True",
         "bingroup": "x",
         "hovertemplate": "Saldo=%{x}<br>count=%{y}<extra></extra>",
         "legendgroup": "",
         "marker": {
          "color": "#636efa"
         },
         "name": "",
         "offsetgroup": "",
         "orientation": "v",
         "showlegend": false,
         "type": "histogram",
         "x": [
          60868,
          17586,
          60831,
          32623,
          28221,
          65154,
          29176,
          42894,
          52034,
          4715,
          46196,
          68817,
          58484,
          46052,
          878,
          18833,
          47785,
          16887,
          32761,
          46553,
          35291,
          1212,
          22402,
          44507,
          47750,
          47093,
          40018,
          60595,
          14020,
          62031,
          50014,
          64709,
          53323,
          25368,
          66819,
          23158,
          2350,
          28441,
          63174,
          46581,
          48351,
          66823,
          28287,
          23158,
          69651,
          4333,
          52841,
          17327,
          9389,
          25176,
          30725,
          68295,
          17676,
          34563,
          17861,
          26306,
          37531,
          63318,
          28439,
          69513,
          33505,
          30264,
          44400,
          10108,
          43278,
          31894,
          13675,
          13317,
          7338,
          39327,
          24788,
          1074,
          28946,
          52591,
          46041,
          47274,
          11653,
          68915,
          57618,
          59985,
          35209,
          41216,
          25758,
          4004,
          28888,
          6327,
          14450,
          45378,
          32141,
          47014,
          58962,
          31938,
          23878,
          37085,
          18886,
          52885,
          45639,
          26229,
          2846,
          7061,
          46871,
          69771,
          17613,
          2749,
          38790,
          65074,
          35942,
          67542,
          60035,
          51209,
          31650,
          49895,
          19991,
          59952,
          25863,
          23838,
          21081,
          24251,
          68777,
          28557,
          9875,
          9468,
          27635,
          64345,
          55139,
          66766,
          22512,
          60813,
          65792,
          55071,
          19735,
          52883,
          32208,
          22732,
          42455,
          39786,
          28870,
          9266,
          15862,
          15490,
          51824,
          67938,
          69345,
          35852,
          49156,
          46373,
          31964,
          32289,
          8944,
          3554,
          33351,
          10001,
          15189,
          62448,
          17037,
          66147,
          5156,
          49400,
          66444,
          2367,
          39799,
          10580,
          50501,
          52698,
          442,
          27173,
          49314,
          59523,
          63209,
          50632,
          24470,
          28485,
          45861,
          53374,
          25556,
          37318,
          32059,
          5233,
          67954,
          11854,
          36242,
          61497,
          44987,
          51588,
          22492,
          48773,
          38196,
          67711,
          24471,
          41848,
          44476,
          17855,
          58327,
          5935,
          10681,
          26286,
          18790,
          30236,
          16488,
          8105,
          53640,
          53994,
          47642,
          35478,
          23003,
          62473,
          25042,
          34080,
          58207,
          13211,
          69508,
          15391,
          22429,
          7089,
          29783,
          24159,
          11264,
          3396,
          769,
          35298,
          28054,
          45568,
          18551,
          5495,
          6903,
          20059,
          26891,
          57291,
          10458,
          56186,
          24612,
          37394,
          20785,
          63554,
          48713,
          36235,
          54747,
          65770,
          53278,
          5867,
          29215,
          21378,
          2581,
          61931,
          59871,
          46857,
          18775,
          5098,
          38125,
          57768,
          58531,
          21098,
          18104,
          34556,
          58633,
          45102,
          57559,
          61632,
          3411,
          60996,
          30313,
          10836,
          34821,
          18380,
          38441,
          27286,
          41831,
          667,
          47525,
          54816,
          42508,
          50738,
          62093,
          13831,
          54297,
          62881,
          20143,
          7982,
          63984,
          26943,
          42549,
          6263,
          58655,
          9275,
          3524,
          17190,
          22713,
          54712,
          23227,
          13194,
          13338,
          22366,
          21137,
          31451,
          24642,
          55086,
          37786,
          61290,
          62449,
          34712,
          65386,
          69970,
          43949,
          23952,
          47508,
          24793,
          50920,
          26278,
          11810,
          63082,
          69159,
          42184,
          3846,
          19182,
          35486,
          24097,
          69752,
          44174,
          47410,
          28365,
          21492,
          28286,
          59094,
          14016,
          21985,
          61576,
          25115,
          59923,
          3983,
          47296,
          52221,
          16117,
          32970,
          53859,
          36853,
          56340,
          40549,
          34720,
          63868,
          64916,
          52145,
          51636,
          690,
          7364,
          2899,
          64348,
          45413,
          58311,
          15600,
          12243,
          35542,
          4122,
          53963,
          29905,
          8590,
          52956,
          65129,
          32680,
          65552,
          2305,
          59432,
          53923,
          827,
          58001,
          46913,
          51765,
          50102,
          9045,
          54951,
          1035,
          37801,
          17385,
          12301,
          57856,
          8746,
          28431,
          63642,
          17829,
          44777,
          27215,
          49199,
          3655,
          48623,
          53214,
          47598,
          46984,
          58433,
          8849,
          43527,
          68340,
          41647,
          56038,
          55285,
          30629,
          38493,
          42503,
          46132,
          68170,
          24374,
          7820,
          43341,
          69795,
          51436,
          43324,
          22372,
          58929,
          20529,
          56091,
          19971,
          42443,
          39375,
          10093,
          7787,
          58329,
          45973,
          14723,
          22293,
          64902,
          2900,
          51068,
          48386,
          37116,
          22037,
          48775,
          28470,
          7306,
          53057,
          43048,
          11036,
          69702,
          46119,
          28942,
          13503,
          13800,
          20449,
          60450,
          18554,
          58244,
          42972,
          40486,
          24296,
          62452,
          26021,
          1950,
          43611,
          32056,
          68990,
          63792,
          8886,
          38354,
          61351,
          8835,
          62886,
          52104,
          53290,
          17796,
          30742,
          21093,
          58239,
          66009,
          41404,
          24555,
          24043,
          55928,
          9424,
          25155,
          69844,
          47456,
          27674,
          20630,
          24824,
          15302,
          43379,
          67019,
          56361,
          67537,
          66412,
          63954,
          6564,
          67674,
          35247,
          63401,
          7648,
          18716,
          34448,
          43177,
          14395,
          5463,
          65714,
          64687,
          3402,
          67736,
          34123,
          8347,
          52434,
          38522,
          28482,
          45632,
          47393,
          16950,
          59143,
          60897,
          1148,
          15344,
          43909,
          21368,
          62673,
          5105,
          4272,
          36290,
          25245,
          49591,
          32648,
          29058,
          2361,
          60349,
          69964,
          62716,
          52991,
          9096,
          53926,
          34151,
          37310,
          37379,
          27802,
          50902,
          27587,
          46983,
          30468,
          3821,
          52425,
          347,
          24358,
          58516,
          53263,
          41726,
          52150,
          48752,
          60421,
          47055,
          66022,
          56910,
          9420,
          20184,
          59820,
          24802,
          34743,
          49329,
          18778,
          15857,
          8743,
          57049,
          64628,
          60832,
          1044,
          61184,
          48072,
          59242,
          17793,
          25439,
          8559,
          66673,
          50861,
          62050,
          50764,
          28138,
          3053,
          45478,
          47042,
          29396,
          56481,
          56838,
          49444,
          1331,
          64,
          12824,
          37485,
          2259,
          22811,
          33118,
          63182,
          61239,
          19927,
          36413,
          54694,
          27848,
          26087,
          46727,
          18038,
          6259,
          20018,
          49388,
          29143,
          68084,
          45913,
          30575,
          48304,
          58036,
          8080,
          10841,
          59146,
          407,
          47235,
          60327,
          23086,
          65870,
          2371,
          10859,
          54283,
          45650,
          50368,
          58131,
          64825,
          7579,
          35056,
          17987,
          56842,
          23874,
          56695,
          10081,
          67356,
          66374,
          65256,
          47092,
          50373,
          35170,
          52242,
          20336,
          1125,
          7892,
          39029,
          8599,
          66632,
          68186,
          23052,
          65357,
          21084,
          65429,
          58381,
          67778,
          8758,
          10770,
          33255,
          39728,
          36245,
          3323,
          7030,
          5238,
          23193,
          14175,
          54659,
          25211,
          24771,
          6546,
          42128,
          47189,
          41724,
          32676,
          36775,
          12647,
          41433,
          50138,
          6986,
          59242,
          21736,
          68366,
          9735,
          67663,
          58162,
          17711,
          50571,
          48259,
          49236,
          25932,
          11983,
          69209,
          54727,
          3407,
          62953,
          42841,
          35780,
          10159,
          44401,
          40818,
          59176,
          64056,
          29572,
          49603,
          34693,
          51013,
          16718,
          7507,
          56344,
          27456,
          16081,
          6583,
          33864,
          67987,
          61354,
          26746,
          12839,
          68179,
          39784,
          50126,
          57470,
          35395,
          22971,
          13263,
          29172,
          67120,
          58585,
          43614,
          17776,
          40662,
          69667,
          4629,
          29909,
          1781,
          18774,
          8662,
          21967,
          21427,
          35776,
          23008,
          15970,
          47431,
          11602,
          33172,
          17343,
          64632,
          41650,
          11360,
          49564,
          8687,
          26829,
          25592,
          60799,
          63619,
          19480,
          44490,
          39228,
          65091,
          36050,
          10517,
          45174,
          23999,
          37156,
          39217,
          20011,
          26101,
          7792,
          11472,
          58990,
          9079,
          11668,
          7454,
          46685,
          1052,
          66692,
          2958,
          12862,
          28834,
          68799,
          40248,
          59379,
          8675,
          41727
         ],
         "xaxis": "x",
         "yaxis": "y"
        }
       ],
       "layout": {
        "barmode": "relative",
        "legend": {
         "tracegroupgap": 0
        },
        "template": {
         "data": {
          "bar": [
           {
            "error_x": {
             "color": "#2a3f5f"
            },
            "error_y": {
             "color": "#2a3f5f"
            },
            "marker": {
             "line": {
              "color": "#E5ECF6",
              "width": 0.5
             }
            },
            "type": "bar"
           }
          ],
          "barpolar": [
           {
            "marker": {
             "line": {
              "color": "#E5ECF6",
              "width": 0.5
             }
            },
            "type": "barpolar"
           }
          ],
          "carpet": [
           {
            "aaxis": {
             "endlinecolor": "#2a3f5f",
             "gridcolor": "white",
             "linecolor": "white",
             "minorgridcolor": "white",
             "startlinecolor": "#2a3f5f"
            },
            "baxis": {
             "endlinecolor": "#2a3f5f",
             "gridcolor": "white",
             "linecolor": "white",
             "minorgridcolor": "white",
             "startlinecolor": "#2a3f5f"
            },
            "type": "carpet"
           }
          ],
          "choropleth": [
           {
            "colorbar": {
             "outlinewidth": 0,
             "ticks": ""
            },
            "type": "choropleth"
           }
          ],
          "contour": [
           {
            "colorbar": {
             "outlinewidth": 0,
             "ticks": ""
            },
            "colorscale": [
             [
              0,
              "#0d0887"
             ],
             [
              0.1111111111111111,
              "#46039f"
             ],
             [
              0.2222222222222222,
              "#7201a8"
             ],
             [
              0.3333333333333333,
              "#9c179e"
             ],
             [
              0.4444444444444444,
              "#bd3786"
             ],
             [
              0.5555555555555556,
              "#d8576b"
             ],
             [
              0.6666666666666666,
              "#ed7953"
             ],
             [
              0.7777777777777778,
              "#fb9f3a"
             ],
             [
              0.8888888888888888,
              "#fdca26"
             ],
             [
              1,
              "#f0f921"
             ]
            ],
            "type": "contour"
           }
          ],
          "contourcarpet": [
           {
            "colorbar": {
             "outlinewidth": 0,
             "ticks": ""
            },
            "type": "contourcarpet"
           }
          ],
          "heatmap": [
           {
            "colorbar": {
             "outlinewidth": 0,
             "ticks": ""
            },
            "colorscale": [
             [
              0,
              "#0d0887"
             ],
             [
              0.1111111111111111,
              "#46039f"
             ],
             [
              0.2222222222222222,
              "#7201a8"
             ],
             [
              0.3333333333333333,
              "#9c179e"
             ],
             [
              0.4444444444444444,
              "#bd3786"
             ],
             [
              0.5555555555555556,
              "#d8576b"
             ],
             [
              0.6666666666666666,
              "#ed7953"
             ],
             [
              0.7777777777777778,
              "#fb9f3a"
             ],
             [
              0.8888888888888888,
              "#fdca26"
             ],
             [
              1,
              "#f0f921"
             ]
            ],
            "type": "heatmap"
           }
          ],
          "heatmapgl": [
           {
            "colorbar": {
             "outlinewidth": 0,
             "ticks": ""
            },
            "colorscale": [
             [
              0,
              "#0d0887"
             ],
             [
              0.1111111111111111,
              "#46039f"
             ],
             [
              0.2222222222222222,
              "#7201a8"
             ],
             [
              0.3333333333333333,
              "#9c179e"
             ],
             [
              0.4444444444444444,
              "#bd3786"
             ],
             [
              0.5555555555555556,
              "#d8576b"
             ],
             [
              0.6666666666666666,
              "#ed7953"
             ],
             [
              0.7777777777777778,
              "#fb9f3a"
             ],
             [
              0.8888888888888888,
              "#fdca26"
             ],
             [
              1,
              "#f0f921"
             ]
            ],
            "type": "heatmapgl"
           }
          ],
          "histogram": [
           {
            "marker": {
             "colorbar": {
              "outlinewidth": 0,
              "ticks": ""
             }
            },
            "type": "histogram"
           }
          ],
          "histogram2d": [
           {
            "colorbar": {
             "outlinewidth": 0,
             "ticks": ""
            },
            "colorscale": [
             [
              0,
              "#0d0887"
             ],
             [
              0.1111111111111111,
              "#46039f"
             ],
             [
              0.2222222222222222,
              "#7201a8"
             ],
             [
              0.3333333333333333,
              "#9c179e"
             ],
             [
              0.4444444444444444,
              "#bd3786"
             ],
             [
              0.5555555555555556,
              "#d8576b"
             ],
             [
              0.6666666666666666,
              "#ed7953"
             ],
             [
              0.7777777777777778,
              "#fb9f3a"
             ],
             [
              0.8888888888888888,
              "#fdca26"
             ],
             [
              1,
              "#f0f921"
             ]
            ],
            "type": "histogram2d"
           }
          ],
          "histogram2dcontour": [
           {
            "colorbar": {
             "outlinewidth": 0,
             "ticks": ""
            },
            "colorscale": [
             [
              0,
              "#0d0887"
             ],
             [
              0.1111111111111111,
              "#46039f"
             ],
             [
              0.2222222222222222,
              "#7201a8"
             ],
             [
              0.3333333333333333,
              "#9c179e"
             ],
             [
              0.4444444444444444,
              "#bd3786"
             ],
             [
              0.5555555555555556,
              "#d8576b"
             ],
             [
              0.6666666666666666,
              "#ed7953"
             ],
             [
              0.7777777777777778,
              "#fb9f3a"
             ],
             [
              0.8888888888888888,
              "#fdca26"
             ],
             [
              1,
              "#f0f921"
             ]
            ],
            "type": "histogram2dcontour"
           }
          ],
          "mesh3d": [
           {
            "colorbar": {
             "outlinewidth": 0,
             "ticks": ""
            },
            "type": "mesh3d"
           }
          ],
          "parcoords": [
           {
            "line": {
             "colorbar": {
              "outlinewidth": 0,
              "ticks": ""
             }
            },
            "type": "parcoords"
           }
          ],
          "pie": [
           {
            "automargin": true,
            "type": "pie"
           }
          ],
          "scatter": [
           {
            "marker": {
             "colorbar": {
              "outlinewidth": 0,
              "ticks": ""
             }
            },
            "type": "scatter"
           }
          ],
          "scatter3d": [
           {
            "line": {
             "colorbar": {
              "outlinewidth": 0,
              "ticks": ""
             }
            },
            "marker": {
             "colorbar": {
              "outlinewidth": 0,
              "ticks": ""
             }
            },
            "type": "scatter3d"
           }
          ],
          "scattercarpet": [
           {
            "marker": {
             "colorbar": {
              "outlinewidth": 0,
              "ticks": ""
             }
            },
            "type": "scattercarpet"
           }
          ],
          "scattergeo": [
           {
            "marker": {
             "colorbar": {
              "outlinewidth": 0,
              "ticks": ""
             }
            },
            "type": "scattergeo"
           }
          ],
          "scattergl": [
           {
            "marker": {
             "colorbar": {
              "outlinewidth": 0,
              "ticks": ""
             }
            },
            "type": "scattergl"
           }
          ],
          "scattermapbox": [
           {
            "marker": {
             "colorbar": {
              "outlinewidth": 0,
              "ticks": ""
             }
            },
            "type": "scattermapbox"
           }
          ],
          "scatterpolar": [
           {
            "marker": {
             "colorbar": {
              "outlinewidth": 0,
              "ticks": ""
             }
            },
            "type": "scatterpolar"
           }
          ],
          "scatterpolargl": [
           {
            "marker": {
             "colorbar": {
              "outlinewidth": 0,
              "ticks": ""
             }
            },
            "type": "scatterpolargl"
           }
          ],
          "scatterternary": [
           {
            "marker": {
             "colorbar": {
              "outlinewidth": 0,
              "ticks": ""
             }
            },
            "type": "scatterternary"
           }
          ],
          "surface": [
           {
            "colorbar": {
             "outlinewidth": 0,
             "ticks": ""
            },
            "colorscale": [
             [
              0,
              "#0d0887"
             ],
             [
              0.1111111111111111,
              "#46039f"
             ],
             [
              0.2222222222222222,
              "#7201a8"
             ],
             [
              0.3333333333333333,
              "#9c179e"
             ],
             [
              0.4444444444444444,
              "#bd3786"
             ],
             [
              0.5555555555555556,
              "#d8576b"
             ],
             [
              0.6666666666666666,
              "#ed7953"
             ],
             [
              0.7777777777777778,
              "#fb9f3a"
             ],
             [
              0.8888888888888888,
              "#fdca26"
             ],
             [
              1,
              "#f0f921"
             ]
            ],
            "type": "surface"
           }
          ],
          "table": [
           {
            "cells": {
             "fill": {
              "color": "#EBF0F8"
             },
             "line": {
              "color": "white"
             }
            },
            "header": {
             "fill": {
              "color": "#C8D4E3"
             },
             "line": {
              "color": "white"
             }
            },
            "type": "table"
           }
          ]
         },
         "layout": {
          "annotationdefaults": {
           "arrowcolor": "#2a3f5f",
           "arrowhead": 0,
           "arrowwidth": 1
          },
          "coloraxis": {
           "colorbar": {
            "outlinewidth": 0,
            "ticks": ""
           }
          },
          "colorscale": {
           "diverging": [
            [
             0,
             "#8e0152"
            ],
            [
             0.1,
             "#c51b7d"
            ],
            [
             0.2,
             "#de77ae"
            ],
            [
             0.3,
             "#f1b6da"
            ],
            [
             0.4,
             "#fde0ef"
            ],
            [
             0.5,
             "#f7f7f7"
            ],
            [
             0.6,
             "#e6f5d0"
            ],
            [
             0.7,
             "#b8e186"
            ],
            [
             0.8,
             "#7fbc41"
            ],
            [
             0.9,
             "#4d9221"
            ],
            [
             1,
             "#276419"
            ]
           ],
           "sequential": [
            [
             0,
             "#0d0887"
            ],
            [
             0.1111111111111111,
             "#46039f"
            ],
            [
             0.2222222222222222,
             "#7201a8"
            ],
            [
             0.3333333333333333,
             "#9c179e"
            ],
            [
             0.4444444444444444,
             "#bd3786"
            ],
            [
             0.5555555555555556,
             "#d8576b"
            ],
            [
             0.6666666666666666,
             "#ed7953"
            ],
            [
             0.7777777777777778,
             "#fb9f3a"
            ],
            [
             0.8888888888888888,
             "#fdca26"
            ],
            [
             1,
             "#f0f921"
            ]
           ],
           "sequentialminus": [
            [
             0,
             "#0d0887"
            ],
            [
             0.1111111111111111,
             "#46039f"
            ],
            [
             0.2222222222222222,
             "#7201a8"
            ],
            [
             0.3333333333333333,
             "#9c179e"
            ],
            [
             0.4444444444444444,
             "#bd3786"
            ],
            [
             0.5555555555555556,
             "#d8576b"
            ],
            [
             0.6666666666666666,
             "#ed7953"
            ],
            [
             0.7777777777777778,
             "#fb9f3a"
            ],
            [
             0.8888888888888888,
             "#fdca26"
            ],
            [
             1,
             "#f0f921"
            ]
           ]
          },
          "colorway": [
           "#636efa",
           "#EF553B",
           "#00cc96",
           "#ab63fa",
           "#FFA15A",
           "#19d3f3",
           "#FF6692",
           "#B6E880",
           "#FF97FF",
           "#FECB52"
          ],
          "font": {
           "color": "#2a3f5f"
          },
          "geo": {
           "bgcolor": "white",
           "lakecolor": "white",
           "landcolor": "#E5ECF6",
           "showlakes": true,
           "showland": true,
           "subunitcolor": "white"
          },
          "hoverlabel": {
           "align": "left"
          },
          "hovermode": "closest",
          "mapbox": {
           "style": "light"
          },
          "paper_bgcolor": "white",
          "plot_bgcolor": "#E5ECF6",
          "polar": {
           "angularaxis": {
            "gridcolor": "white",
            "linecolor": "white",
            "ticks": ""
           },
           "bgcolor": "#E5ECF6",
           "radialaxis": {
            "gridcolor": "white",
            "linecolor": "white",
            "ticks": ""
           }
          },
          "scene": {
           "xaxis": {
            "backgroundcolor": "#E5ECF6",
            "gridcolor": "white",
            "gridwidth": 2,
            "linecolor": "white",
            "showbackground": true,
            "ticks": "",
            "zerolinecolor": "white"
           },
           "yaxis": {
            "backgroundcolor": "#E5ECF6",
            "gridcolor": "white",
            "gridwidth": 2,
            "linecolor": "white",
            "showbackground": true,
            "ticks": "",
            "zerolinecolor": "white"
           },
           "zaxis": {
            "backgroundcolor": "#E5ECF6",
            "gridcolor": "white",
            "gridwidth": 2,
            "linecolor": "white",
            "showbackground": true,
            "ticks": "",
            "zerolinecolor": "white"
           }
          },
          "shapedefaults": {
           "line": {
            "color": "#2a3f5f"
           }
          },
          "ternary": {
           "aaxis": {
            "gridcolor": "white",
            "linecolor": "white",
            "ticks": ""
           },
           "baxis": {
            "gridcolor": "white",
            "linecolor": "white",
            "ticks": ""
           },
           "bgcolor": "#E5ECF6",
           "caxis": {
            "gridcolor": "white",
            "linecolor": "white",
            "ticks": ""
           }
          },
          "title": {
           "x": 0.05
          },
          "xaxis": {
           "automargin": true,
           "gridcolor": "white",
           "linecolor": "white",
           "ticks": "",
           "title": {
            "standoff": 15
           },
           "zerolinecolor": "white",
           "zerolinewidth": 2
          },
          "yaxis": {
           "automargin": true,
           "gridcolor": "white",
           "linecolor": "white",
           "ticks": "",
           "title": {
            "standoff": 15
           },
           "zerolinecolor": "white",
           "zerolinewidth": 2
          }
         }
        },
        "title": {
         "text": "Distribución del Saldo"
        },
        "xaxis": {
         "anchor": "y",
         "domain": [
          0,
          1
         ],
         "title": {
          "text": "Saldo"
         }
        },
        "yaxis": {
         "anchor": "x",
         "domain": [
          0,
          1
         ],
         "title": {
          "text": "count"
         }
        }
       }
      },
      "text/html": [
       "<div>                            <div id=\"96301e78-1555-49db-a80c-c5057dadd2a7\" class=\"plotly-graph-div\" style=\"height:525px; width:100%;\"></div>            <script type=\"text/javascript\">                require([\"plotly\"], function(Plotly) {                    window.PLOTLYENV=window.PLOTLYENV || {};                                    if (document.getElementById(\"96301e78-1555-49db-a80c-c5057dadd2a7\")) {                    Plotly.newPlot(                        \"96301e78-1555-49db-a80c-c5057dadd2a7\",                        [{\"alignmentgroup\": \"True\", \"bingroup\": \"x\", \"hovertemplate\": \"Saldo=%{x}<br>count=%{y}<extra></extra>\", \"legendgroup\": \"\", \"marker\": {\"color\": \"#636efa\"}, \"name\": \"\", \"offsetgroup\": \"\", \"orientation\": \"v\", \"showlegend\": false, \"type\": \"histogram\", \"x\": [60868, 17586, 60831, 32623, 28221, 65154, 29176, 42894, 52034, 4715, 46196, 68817, 58484, 46052, 878, 18833, 47785, 16887, 32761, 46553, 35291, 1212, 22402, 44507, 47750, 47093, 40018, 60595, 14020, 62031, 50014, 64709, 53323, 25368, 66819, 23158, 2350, 28441, 63174, 46581, 48351, 66823, 28287, 23158, 69651, 4333, 52841, 17327, 9389, 25176, 30725, 68295, 17676, 34563, 17861, 26306, 37531, 63318, 28439, 69513, 33505, 30264, 44400, 10108, 43278, 31894, 13675, 13317, 7338, 39327, 24788, 1074, 28946, 52591, 46041, 47274, 11653, 68915, 57618, 59985, 35209, 41216, 25758, 4004, 28888, 6327, 14450, 45378, 32141, 47014, 58962, 31938, 23878, 37085, 18886, 52885, 45639, 26229, 2846, 7061, 46871, 69771, 17613, 2749, 38790, 65074, 35942, 67542, 60035, 51209, 31650, 49895, 19991, 59952, 25863, 23838, 21081, 24251, 68777, 28557, 9875, 9468, 27635, 64345, 55139, 66766, 22512, 60813, 65792, 55071, 19735, 52883, 32208, 22732, 42455, 39786, 28870, 9266, 15862, 15490, 51824, 67938, 69345, 35852, 49156, 46373, 31964, 32289, 8944, 3554, 33351, 10001, 15189, 62448, 17037, 66147, 5156, 49400, 66444, 2367, 39799, 10580, 50501, 52698, 442, 27173, 49314, 59523, 63209, 50632, 24470, 28485, 45861, 53374, 25556, 37318, 32059, 5233, 67954, 11854, 36242, 61497, 44987, 51588, 22492, 48773, 38196, 67711, 24471, 41848, 44476, 17855, 58327, 5935, 10681, 26286, 18790, 30236, 16488, 8105, 53640, 53994, 47642, 35478, 23003, 62473, 25042, 34080, 58207, 13211, 69508, 15391, 22429, 7089, 29783, 24159, 11264, 3396, 769, 35298, 28054, 45568, 18551, 5495, 6903, 20059, 26891, 57291, 10458, 56186, 24612, 37394, 20785, 63554, 48713, 36235, 54747, 65770, 53278, 5867, 29215, 21378, 2581, 61931, 59871, 46857, 18775, 5098, 38125, 57768, 58531, 21098, 18104, 34556, 58633, 45102, 57559, 61632, 3411, 60996, 30313, 10836, 34821, 18380, 38441, 27286, 41831, 667, 47525, 54816, 42508, 50738, 62093, 13831, 54297, 62881, 20143, 7982, 63984, 26943, 42549, 6263, 58655, 9275, 3524, 17190, 22713, 54712, 23227, 13194, 13338, 22366, 21137, 31451, 24642, 55086, 37786, 61290, 62449, 34712, 65386, 69970, 43949, 23952, 47508, 24793, 50920, 26278, 11810, 63082, 69159, 42184, 3846, 19182, 35486, 24097, 69752, 44174, 47410, 28365, 21492, 28286, 59094, 14016, 21985, 61576, 25115, 59923, 3983, 47296, 52221, 16117, 32970, 53859, 36853, 56340, 40549, 34720, 63868, 64916, 52145, 51636, 690, 7364, 2899, 64348, 45413, 58311, 15600, 12243, 35542, 4122, 53963, 29905, 8590, 52956, 65129, 32680, 65552, 2305, 59432, 53923, 827, 58001, 46913, 51765, 50102, 9045, 54951, 1035, 37801, 17385, 12301, 57856, 8746, 28431, 63642, 17829, 44777, 27215, 49199, 3655, 48623, 53214, 47598, 46984, 58433, 8849, 43527, 68340, 41647, 56038, 55285, 30629, 38493, 42503, 46132, 68170, 24374, 7820, 43341, 69795, 51436, 43324, 22372, 58929, 20529, 56091, 19971, 42443, 39375, 10093, 7787, 58329, 45973, 14723, 22293, 64902, 2900, 51068, 48386, 37116, 22037, 48775, 28470, 7306, 53057, 43048, 11036, 69702, 46119, 28942, 13503, 13800, 20449, 60450, 18554, 58244, 42972, 40486, 24296, 62452, 26021, 1950, 43611, 32056, 68990, 63792, 8886, 38354, 61351, 8835, 62886, 52104, 53290, 17796, 30742, 21093, 58239, 66009, 41404, 24555, 24043, 55928, 9424, 25155, 69844, 47456, 27674, 20630, 24824, 15302, 43379, 67019, 56361, 67537, 66412, 63954, 6564, 67674, 35247, 63401, 7648, 18716, 34448, 43177, 14395, 5463, 65714, 64687, 3402, 67736, 34123, 8347, 52434, 38522, 28482, 45632, 47393, 16950, 59143, 60897, 1148, 15344, 43909, 21368, 62673, 5105, 4272, 36290, 25245, 49591, 32648, 29058, 2361, 60349, 69964, 62716, 52991, 9096, 53926, 34151, 37310, 37379, 27802, 50902, 27587, 46983, 30468, 3821, 52425, 347, 24358, 58516, 53263, 41726, 52150, 48752, 60421, 47055, 66022, 56910, 9420, 20184, 59820, 24802, 34743, 49329, 18778, 15857, 8743, 57049, 64628, 60832, 1044, 61184, 48072, 59242, 17793, 25439, 8559, 66673, 50861, 62050, 50764, 28138, 3053, 45478, 47042, 29396, 56481, 56838, 49444, 1331, 64, 12824, 37485, 2259, 22811, 33118, 63182, 61239, 19927, 36413, 54694, 27848, 26087, 46727, 18038, 6259, 20018, 49388, 29143, 68084, 45913, 30575, 48304, 58036, 8080, 10841, 59146, 407, 47235, 60327, 23086, 65870, 2371, 10859, 54283, 45650, 50368, 58131, 64825, 7579, 35056, 17987, 56842, 23874, 56695, 10081, 67356, 66374, 65256, 47092, 50373, 35170, 52242, 20336, 1125, 7892, 39029, 8599, 66632, 68186, 23052, 65357, 21084, 65429, 58381, 67778, 8758, 10770, 33255, 39728, 36245, 3323, 7030, 5238, 23193, 14175, 54659, 25211, 24771, 6546, 42128, 47189, 41724, 32676, 36775, 12647, 41433, 50138, 6986, 59242, 21736, 68366, 9735, 67663, 58162, 17711, 50571, 48259, 49236, 25932, 11983, 69209, 54727, 3407, 62953, 42841, 35780, 10159, 44401, 40818, 59176, 64056, 29572, 49603, 34693, 51013, 16718, 7507, 56344, 27456, 16081, 6583, 33864, 67987, 61354, 26746, 12839, 68179, 39784, 50126, 57470, 35395, 22971, 13263, 29172, 67120, 58585, 43614, 17776, 40662, 69667, 4629, 29909, 1781, 18774, 8662, 21967, 21427, 35776, 23008, 15970, 47431, 11602, 33172, 17343, 64632, 41650, 11360, 49564, 8687, 26829, 25592, 60799, 63619, 19480, 44490, 39228, 65091, 36050, 10517, 45174, 23999, 37156, 39217, 20011, 26101, 7792, 11472, 58990, 9079, 11668, 7454, 46685, 1052, 66692, 2958, 12862, 28834, 68799, 40248, 59379, 8675, 41727], \"xaxis\": \"x\", \"yaxis\": \"y\"}],                        {\"barmode\": \"relative\", \"legend\": {\"tracegroupgap\": 0}, \"template\": {\"data\": {\"bar\": [{\"error_x\": {\"color\": \"#2a3f5f\"}, \"error_y\": {\"color\": \"#2a3f5f\"}, \"marker\": {\"line\": {\"color\": \"#E5ECF6\", \"width\": 0.5}}, \"type\": \"bar\"}], \"barpolar\": [{\"marker\": {\"line\": {\"color\": \"#E5ECF6\", \"width\": 0.5}}, \"type\": \"barpolar\"}], \"carpet\": [{\"aaxis\": {\"endlinecolor\": \"#2a3f5f\", \"gridcolor\": \"white\", \"linecolor\": \"white\", \"minorgridcolor\": \"white\", \"startlinecolor\": \"#2a3f5f\"}, \"baxis\": {\"endlinecolor\": \"#2a3f5f\", \"gridcolor\": \"white\", \"linecolor\": \"white\", \"minorgridcolor\": \"white\", \"startlinecolor\": \"#2a3f5f\"}, \"type\": \"carpet\"}], \"choropleth\": [{\"colorbar\": {\"outlinewidth\": 0, \"ticks\": \"\"}, \"type\": \"choropleth\"}], \"contour\": [{\"colorbar\": {\"outlinewidth\": 0, \"ticks\": \"\"}, \"colorscale\": [[0.0, \"#0d0887\"], [0.1111111111111111, \"#46039f\"], [0.2222222222222222, \"#7201a8\"], [0.3333333333333333, \"#9c179e\"], [0.4444444444444444, \"#bd3786\"], [0.5555555555555556, \"#d8576b\"], [0.6666666666666666, \"#ed7953\"], [0.7777777777777778, \"#fb9f3a\"], [0.8888888888888888, \"#fdca26\"], [1.0, \"#f0f921\"]], \"type\": \"contour\"}], \"contourcarpet\": [{\"colorbar\": {\"outlinewidth\": 0, \"ticks\": \"\"}, \"type\": \"contourcarpet\"}], \"heatmap\": [{\"colorbar\": {\"outlinewidth\": 0, \"ticks\": \"\"}, \"colorscale\": [[0.0, \"#0d0887\"], [0.1111111111111111, \"#46039f\"], [0.2222222222222222, \"#7201a8\"], [0.3333333333333333, \"#9c179e\"], [0.4444444444444444, \"#bd3786\"], [0.5555555555555556, \"#d8576b\"], [0.6666666666666666, \"#ed7953\"], [0.7777777777777778, \"#fb9f3a\"], [0.8888888888888888, \"#fdca26\"], [1.0, \"#f0f921\"]], \"type\": \"heatmap\"}], \"heatmapgl\": [{\"colorbar\": {\"outlinewidth\": 0, \"ticks\": \"\"}, \"colorscale\": [[0.0, \"#0d0887\"], [0.1111111111111111, \"#46039f\"], [0.2222222222222222, \"#7201a8\"], [0.3333333333333333, \"#9c179e\"], [0.4444444444444444, \"#bd3786\"], [0.5555555555555556, \"#d8576b\"], [0.6666666666666666, \"#ed7953\"], [0.7777777777777778, \"#fb9f3a\"], [0.8888888888888888, \"#fdca26\"], [1.0, \"#f0f921\"]], \"type\": \"heatmapgl\"}], \"histogram\": [{\"marker\": {\"colorbar\": {\"outlinewidth\": 0, \"ticks\": \"\"}}, \"type\": \"histogram\"}], \"histogram2d\": [{\"colorbar\": {\"outlinewidth\": 0, \"ticks\": \"\"}, \"colorscale\": [[0.0, \"#0d0887\"], [0.1111111111111111, \"#46039f\"], [0.2222222222222222, \"#7201a8\"], [0.3333333333333333, \"#9c179e\"], [0.4444444444444444, \"#bd3786\"], [0.5555555555555556, \"#d8576b\"], [0.6666666666666666, \"#ed7953\"], [0.7777777777777778, \"#fb9f3a\"], [0.8888888888888888, \"#fdca26\"], [1.0, \"#f0f921\"]], \"type\": \"histogram2d\"}], \"histogram2dcontour\": [{\"colorbar\": {\"outlinewidth\": 0, \"ticks\": \"\"}, \"colorscale\": [[0.0, \"#0d0887\"], [0.1111111111111111, \"#46039f\"], [0.2222222222222222, \"#7201a8\"], [0.3333333333333333, \"#9c179e\"], [0.4444444444444444, \"#bd3786\"], [0.5555555555555556, \"#d8576b\"], [0.6666666666666666, \"#ed7953\"], [0.7777777777777778, \"#fb9f3a\"], [0.8888888888888888, \"#fdca26\"], [1.0, \"#f0f921\"]], \"type\": \"histogram2dcontour\"}], \"mesh3d\": [{\"colorbar\": {\"outlinewidth\": 0, \"ticks\": \"\"}, \"type\": \"mesh3d\"}], \"parcoords\": [{\"line\": {\"colorbar\": {\"outlinewidth\": 0, \"ticks\": \"\"}}, \"type\": \"parcoords\"}], \"pie\": [{\"automargin\": true, \"type\": \"pie\"}], \"scatter\": [{\"marker\": {\"colorbar\": {\"outlinewidth\": 0, \"ticks\": \"\"}}, \"type\": \"scatter\"}], \"scatter3d\": [{\"line\": {\"colorbar\": {\"outlinewidth\": 0, \"ticks\": \"\"}}, \"marker\": {\"colorbar\": {\"outlinewidth\": 0, \"ticks\": \"\"}}, \"type\": \"scatter3d\"}], \"scattercarpet\": [{\"marker\": {\"colorbar\": {\"outlinewidth\": 0, \"ticks\": \"\"}}, \"type\": \"scattercarpet\"}], \"scattergeo\": [{\"marker\": {\"colorbar\": {\"outlinewidth\": 0, \"ticks\": \"\"}}, \"type\": \"scattergeo\"}], \"scattergl\": [{\"marker\": {\"colorbar\": {\"outlinewidth\": 0, \"ticks\": \"\"}}, \"type\": \"scattergl\"}], \"scattermapbox\": [{\"marker\": {\"colorbar\": {\"outlinewidth\": 0, \"ticks\": \"\"}}, \"type\": \"scattermapbox\"}], \"scatterpolar\": [{\"marker\": {\"colorbar\": {\"outlinewidth\": 0, \"ticks\": \"\"}}, \"type\": \"scatterpolar\"}], \"scatterpolargl\": [{\"marker\": {\"colorbar\": {\"outlinewidth\": 0, \"ticks\": \"\"}}, \"type\": \"scatterpolargl\"}], \"scatterternary\": [{\"marker\": {\"colorbar\": {\"outlinewidth\": 0, \"ticks\": \"\"}}, \"type\": \"scatterternary\"}], \"surface\": [{\"colorbar\": {\"outlinewidth\": 0, \"ticks\": \"\"}, \"colorscale\": [[0.0, \"#0d0887\"], [0.1111111111111111, \"#46039f\"], [0.2222222222222222, \"#7201a8\"], [0.3333333333333333, \"#9c179e\"], [0.4444444444444444, \"#bd3786\"], [0.5555555555555556, \"#d8576b\"], [0.6666666666666666, \"#ed7953\"], [0.7777777777777778, \"#fb9f3a\"], [0.8888888888888888, \"#fdca26\"], [1.0, \"#f0f921\"]], \"type\": \"surface\"}], \"table\": [{\"cells\": {\"fill\": {\"color\": \"#EBF0F8\"}, \"line\": {\"color\": \"white\"}}, \"header\": {\"fill\": {\"color\": \"#C8D4E3\"}, \"line\": {\"color\": \"white\"}}, \"type\": \"table\"}]}, \"layout\": {\"annotationdefaults\": {\"arrowcolor\": \"#2a3f5f\", \"arrowhead\": 0, \"arrowwidth\": 1}, \"coloraxis\": {\"colorbar\": {\"outlinewidth\": 0, \"ticks\": \"\"}}, \"colorscale\": {\"diverging\": [[0, \"#8e0152\"], [0.1, \"#c51b7d\"], [0.2, \"#de77ae\"], [0.3, \"#f1b6da\"], [0.4, \"#fde0ef\"], [0.5, \"#f7f7f7\"], [0.6, \"#e6f5d0\"], [0.7, \"#b8e186\"], [0.8, \"#7fbc41\"], [0.9, \"#4d9221\"], [1, \"#276419\"]], \"sequential\": [[0.0, \"#0d0887\"], [0.1111111111111111, \"#46039f\"], [0.2222222222222222, \"#7201a8\"], [0.3333333333333333, \"#9c179e\"], [0.4444444444444444, \"#bd3786\"], [0.5555555555555556, \"#d8576b\"], [0.6666666666666666, \"#ed7953\"], [0.7777777777777778, \"#fb9f3a\"], [0.8888888888888888, \"#fdca26\"], [1.0, \"#f0f921\"]], \"sequentialminus\": [[0.0, \"#0d0887\"], [0.1111111111111111, \"#46039f\"], [0.2222222222222222, \"#7201a8\"], [0.3333333333333333, \"#9c179e\"], [0.4444444444444444, \"#bd3786\"], [0.5555555555555556, \"#d8576b\"], [0.6666666666666666, \"#ed7953\"], [0.7777777777777778, \"#fb9f3a\"], [0.8888888888888888, \"#fdca26\"], [1.0, \"#f0f921\"]]}, \"colorway\": [\"#636efa\", \"#EF553B\", \"#00cc96\", \"#ab63fa\", \"#FFA15A\", \"#19d3f3\", \"#FF6692\", \"#B6E880\", \"#FF97FF\", \"#FECB52\"], \"font\": {\"color\": \"#2a3f5f\"}, \"geo\": {\"bgcolor\": \"white\", \"lakecolor\": \"white\", \"landcolor\": \"#E5ECF6\", \"showlakes\": true, \"showland\": true, \"subunitcolor\": \"white\"}, \"hoverlabel\": {\"align\": \"left\"}, \"hovermode\": \"closest\", \"mapbox\": {\"style\": \"light\"}, \"paper_bgcolor\": \"white\", \"plot_bgcolor\": \"#E5ECF6\", \"polar\": {\"angularaxis\": {\"gridcolor\": \"white\", \"linecolor\": \"white\", \"ticks\": \"\"}, \"bgcolor\": \"#E5ECF6\", \"radialaxis\": {\"gridcolor\": \"white\", \"linecolor\": \"white\", \"ticks\": \"\"}}, \"scene\": {\"xaxis\": {\"backgroundcolor\": \"#E5ECF6\", \"gridcolor\": \"white\", \"gridwidth\": 2, \"linecolor\": \"white\", \"showbackground\": true, \"ticks\": \"\", \"zerolinecolor\": \"white\"}, \"yaxis\": {\"backgroundcolor\": \"#E5ECF6\", \"gridcolor\": \"white\", \"gridwidth\": 2, \"linecolor\": \"white\", \"showbackground\": true, \"ticks\": \"\", \"zerolinecolor\": \"white\"}, \"zaxis\": {\"backgroundcolor\": \"#E5ECF6\", \"gridcolor\": \"white\", \"gridwidth\": 2, \"linecolor\": \"white\", \"showbackground\": true, \"ticks\": \"\", \"zerolinecolor\": \"white\"}}, \"shapedefaults\": {\"line\": {\"color\": \"#2a3f5f\"}}, \"ternary\": {\"aaxis\": {\"gridcolor\": \"white\", \"linecolor\": \"white\", \"ticks\": \"\"}, \"baxis\": {\"gridcolor\": \"white\", \"linecolor\": \"white\", \"ticks\": \"\"}, \"bgcolor\": \"#E5ECF6\", \"caxis\": {\"gridcolor\": \"white\", \"linecolor\": \"white\", \"ticks\": \"\"}}, \"title\": {\"x\": 0.05}, \"xaxis\": {\"automargin\": true, \"gridcolor\": \"white\", \"linecolor\": \"white\", \"ticks\": \"\", \"title\": {\"standoff\": 15}, \"zerolinecolor\": \"white\", \"zerolinewidth\": 2}, \"yaxis\": {\"automargin\": true, \"gridcolor\": \"white\", \"linecolor\": \"white\", \"ticks\": \"\", \"title\": {\"standoff\": 15}, \"zerolinecolor\": \"white\", \"zerolinewidth\": 2}}}, \"title\": {\"text\": \"Distribuci\\u00f3n del Saldo\"}, \"xaxis\": {\"anchor\": \"y\", \"domain\": [0.0, 1.0], \"title\": {\"text\": \"Saldo\"}}, \"yaxis\": {\"anchor\": \"x\", \"domain\": [0.0, 1.0], \"title\": {\"text\": \"count\"}}},                        {\"responsive\": true}                    ).then(function(){\n",
       "                            \n",
       "var gd = document.getElementById('96301e78-1555-49db-a80c-c5057dadd2a7');\n",
       "var x = new MutationObserver(function (mutations, observer) {{\n",
       "        var display = window.getComputedStyle(gd).display;\n",
       "        if (!display || display === 'none') {{\n",
       "            console.log([gd, 'removed!']);\n",
       "            Plotly.purge(gd);\n",
       "            observer.disconnect();\n",
       "        }}\n",
       "}});\n",
       "\n",
       "// Listen for the removal of the full notebook cells\n",
       "var notebookContainer = gd.closest('#notebook-container');\n",
       "if (notebookContainer) {{\n",
       "    x.observe(notebookContainer, {childList: true});\n",
       "}}\n",
       "\n",
       "// Listen for the clearing of the current output cell\n",
       "var outputEl = gd.closest('.output');\n",
       "if (outputEl) {{\n",
       "    x.observe(outputEl, {childList: true});\n",
       "}}\n",
       "\n",
       "                        })                };                });            </script>        </div>"
      ]
     },
     "metadata": {},
     "output_type": "display_data"
    }
   ],
   "source": [
    "fig = px.histogram(df, x='Saldo', title= 'Distribución del Saldo') #no hay una clara distribución de los datos\n",
    "fig.show()"
   ]
  },
  {
   "cell_type": "code",
   "execution_count": 37,
   "metadata": {},
   "outputs": [
    {
     "data": {
      "application/vnd.plotly.v1+json": {
       "config": {
        "plotlyServerURL": "https://plot.ly"
       },
       "data": [
        {
         "alignmentgroup": "True",
         "bingroup": "x",
         "hovertemplate": "Antigüedad=%{x}<br>count=%{y}<extra></extra>",
         "legendgroup": "",
         "marker": {
          "color": "#636efa"
         },
         "name": "",
         "offsetgroup": "",
         "orientation": "v",
         "showlegend": false,
         "type": "histogram",
         "x": [
          33,
          49,
          26,
          7,
          31,
          27,
          49,
          13,
          44,
          38,
          20,
          53,
          12,
          35,
          37,
          36,
          17,
          11,
          12,
          28,
          48,
          42,
          16,
          60,
          23,
          29,
          54,
          14,
          38,
          26,
          4,
          3,
          3,
          51,
          56,
          33,
          26,
          59,
          13,
          57,
          32,
          56,
          8,
          54,
          59,
          44,
          13,
          45,
          56,
          11,
          49,
          59,
          6,
          38,
          50,
          21,
          50,
          59,
          34,
          24,
          45,
          3,
          60,
          38,
          59,
          25,
          56,
          6,
          42,
          4,
          48,
          21,
          60,
          23,
          54,
          6,
          34,
          9,
          12,
          2,
          8,
          35,
          28,
          10,
          51,
          51,
          2,
          19,
          1,
          20,
          44,
          19,
          3,
          25,
          4,
          27,
          54,
          44,
          30,
          56,
          59,
          21,
          7,
          6,
          24,
          31,
          45,
          36,
          49,
          41,
          48,
          49,
          43,
          52,
          9,
          21,
          44,
          0,
          3,
          31,
          29,
          42,
          54,
          27,
          36,
          28,
          22,
          51,
          26,
          38,
          19,
          54,
          32,
          44,
          21,
          48,
          19,
          18,
          33,
          36,
          32,
          6,
          28,
          43,
          24,
          39,
          45,
          31,
          36,
          52,
          57,
          27,
          54,
          52,
          57,
          23,
          0,
          57,
          37,
          23,
          20,
          46,
          5,
          11,
          16,
          4,
          21,
          13,
          27,
          55,
          33,
          50,
          44,
          16,
          47,
          40,
          27,
          21,
          58,
          32,
          12,
          18,
          60,
          10,
          59,
          17,
          57,
          5,
          44,
          42,
          30,
          10,
          20,
          42,
          20,
          19,
          57,
          44,
          37,
          38,
          40,
          3,
          11,
          53,
          12,
          11,
          2,
          47,
          55,
          36,
          24,
          30,
          9,
          59,
          43,
          34,
          12,
          1,
          55,
          49,
          29,
          8,
          27,
          24,
          51,
          39,
          24,
          22,
          23,
          41,
          5,
          14,
          53,
          16,
          28,
          15,
          23,
          33,
          37,
          11,
          11,
          30,
          4,
          12,
          31,
          36,
          36,
          25,
          12,
          27,
          10,
          27,
          16,
          50,
          9,
          60,
          60,
          13,
          32,
          2,
          18,
          29,
          38,
          34,
          22,
          20,
          7,
          36,
          18,
          53,
          26,
          46,
          31,
          17,
          38,
          19,
          49,
          20,
          15,
          50,
          4,
          58,
          14,
          23,
          34,
          59,
          44,
          12,
          45,
          37,
          16,
          22,
          18,
          57,
          38,
          39,
          43,
          15,
          33,
          5,
          24,
          57,
          44,
          11,
          40,
          15,
          27,
          20,
          56,
          46,
          49,
          53,
          57,
          36,
          2,
          31,
          38,
          14,
          11,
          37,
          8,
          39,
          38,
          18,
          2,
          5,
          17,
          0,
          1,
          3,
          11,
          34,
          28,
          53,
          29,
          26,
          44,
          54,
          17,
          22,
          57,
          9,
          15,
          24,
          59,
          32,
          21,
          42,
          52,
          42,
          34,
          55,
          40,
          15,
          13,
          21,
          7,
          8,
          46,
          50,
          3,
          40,
          37,
          38,
          55,
          3,
          39,
          51,
          2,
          2,
          45,
          36,
          8,
          36,
          40,
          45,
          2,
          45,
          15,
          5,
          4,
          1,
          59,
          50,
          30,
          1,
          28,
          53,
          45,
          47,
          27,
          21,
          36,
          16,
          27,
          40,
          3,
          32,
          2,
          36,
          54,
          15,
          27,
          19,
          36,
          10,
          57,
          21,
          37,
          18,
          50,
          43,
          43,
          6,
          37,
          26,
          12,
          45,
          15,
          3,
          26,
          7,
          36,
          13,
          45,
          46,
          59,
          27,
          44,
          56,
          31,
          47,
          9,
          12,
          48,
          21,
          44,
          41,
          56,
          27,
          9,
          58,
          2,
          31,
          51,
          42,
          4,
          26,
          5,
          1,
          26,
          59,
          29,
          53,
          37,
          57,
          13,
          59,
          32,
          20,
          39,
          28,
          15,
          19,
          12,
          26,
          10,
          56,
          33,
          54,
          10,
          25,
          30,
          51,
          22,
          30,
          1,
          19,
          24,
          0,
          49,
          26,
          5,
          10,
          7,
          50,
          55,
          40,
          18,
          39,
          31,
          26,
          30,
          4,
          2,
          17,
          10,
          8,
          18,
          34,
          1,
          4,
          14,
          35,
          44,
          27,
          13,
          59,
          35,
          29,
          4,
          58,
          17,
          46,
          35,
          5,
          28,
          46,
          5,
          35,
          17,
          54,
          29,
          11,
          17,
          37,
          40,
          47,
          32,
          49,
          36,
          33,
          17,
          5,
          30,
          18,
          8,
          38,
          45,
          34,
          5,
          35,
          0,
          19,
          44,
          17,
          26,
          46,
          27,
          31,
          8,
          18,
          33,
          33,
          59,
          7,
          50,
          34,
          45,
          10,
          38,
          4,
          46,
          50,
          21,
          16,
          59,
          54,
          20,
          19,
          17,
          14,
          50,
          39,
          22,
          57,
          26,
          55,
          52,
          45,
          1,
          1,
          15,
          49,
          57,
          18,
          53,
          1,
          14,
          39,
          16,
          37,
          40,
          48,
          17,
          27,
          30,
          55,
          15,
          25,
          45,
          49,
          9,
          37,
          34,
          26,
          29,
          44,
          60,
          20,
          44,
          53,
          14,
          23,
          58,
          1,
          48,
          5,
          14,
          22,
          17,
          33,
          5,
          2,
          1,
          19,
          26,
          17,
          60,
          42,
          54,
          27,
          2,
          1,
          56,
          42,
          4,
          25,
          49,
          28,
          13,
          31,
          39,
          29,
          20,
          11,
          2,
          3,
          2,
          20,
          56,
          39,
          1,
          44,
          47,
          10,
          23,
          38,
          46,
          31,
          38,
          27,
          45,
          11,
          7,
          25,
          10,
          21,
          27,
          31,
          54,
          12,
          28,
          47,
          33,
          48,
          36,
          9,
          51,
          31,
          31,
          11,
          44,
          59,
          31,
          33,
          19,
          13,
          38,
          28,
          49,
          52,
          56,
          28,
          20,
          18,
          37,
          31,
          16,
          50,
          34,
          16,
          19,
          55,
          19,
          56,
          38,
          36,
          28,
          28,
          41,
          28,
          55,
          50,
          56,
          48,
          20,
          13,
          19,
          3,
          26,
          44,
          32,
          14,
          23,
          6,
          14,
          11,
          55,
          21,
          6,
          40,
          32,
          58,
          16,
          5,
          20,
          14,
          10,
          41,
          26,
          47,
          24,
          40,
          53,
          9,
          11,
          4,
          15,
          34,
          22,
          27,
          25,
          30,
          40,
          29,
          34,
          44,
          18,
          57,
          8,
          7,
          24,
          32,
          59,
          17,
          47
         ],
         "xaxis": "x",
         "yaxis": "y"
        }
       ],
       "layout": {
        "barmode": "relative",
        "legend": {
         "tracegroupgap": 0
        },
        "template": {
         "data": {
          "bar": [
           {
            "error_x": {
             "color": "#2a3f5f"
            },
            "error_y": {
             "color": "#2a3f5f"
            },
            "marker": {
             "line": {
              "color": "#E5ECF6",
              "width": 0.5
             }
            },
            "type": "bar"
           }
          ],
          "barpolar": [
           {
            "marker": {
             "line": {
              "color": "#E5ECF6",
              "width": 0.5
             }
            },
            "type": "barpolar"
           }
          ],
          "carpet": [
           {
            "aaxis": {
             "endlinecolor": "#2a3f5f",
             "gridcolor": "white",
             "linecolor": "white",
             "minorgridcolor": "white",
             "startlinecolor": "#2a3f5f"
            },
            "baxis": {
             "endlinecolor": "#2a3f5f",
             "gridcolor": "white",
             "linecolor": "white",
             "minorgridcolor": "white",
             "startlinecolor": "#2a3f5f"
            },
            "type": "carpet"
           }
          ],
          "choropleth": [
           {
            "colorbar": {
             "outlinewidth": 0,
             "ticks": ""
            },
            "type": "choropleth"
           }
          ],
          "contour": [
           {
            "colorbar": {
             "outlinewidth": 0,
             "ticks": ""
            },
            "colorscale": [
             [
              0,
              "#0d0887"
             ],
             [
              0.1111111111111111,
              "#46039f"
             ],
             [
              0.2222222222222222,
              "#7201a8"
             ],
             [
              0.3333333333333333,
              "#9c179e"
             ],
             [
              0.4444444444444444,
              "#bd3786"
             ],
             [
              0.5555555555555556,
              "#d8576b"
             ],
             [
              0.6666666666666666,
              "#ed7953"
             ],
             [
              0.7777777777777778,
              "#fb9f3a"
             ],
             [
              0.8888888888888888,
              "#fdca26"
             ],
             [
              1,
              "#f0f921"
             ]
            ],
            "type": "contour"
           }
          ],
          "contourcarpet": [
           {
            "colorbar": {
             "outlinewidth": 0,
             "ticks": ""
            },
            "type": "contourcarpet"
           }
          ],
          "heatmap": [
           {
            "colorbar": {
             "outlinewidth": 0,
             "ticks": ""
            },
            "colorscale": [
             [
              0,
              "#0d0887"
             ],
             [
              0.1111111111111111,
              "#46039f"
             ],
             [
              0.2222222222222222,
              "#7201a8"
             ],
             [
              0.3333333333333333,
              "#9c179e"
             ],
             [
              0.4444444444444444,
              "#bd3786"
             ],
             [
              0.5555555555555556,
              "#d8576b"
             ],
             [
              0.6666666666666666,
              "#ed7953"
             ],
             [
              0.7777777777777778,
              "#fb9f3a"
             ],
             [
              0.8888888888888888,
              "#fdca26"
             ],
             [
              1,
              "#f0f921"
             ]
            ],
            "type": "heatmap"
           }
          ],
          "heatmapgl": [
           {
            "colorbar": {
             "outlinewidth": 0,
             "ticks": ""
            },
            "colorscale": [
             [
              0,
              "#0d0887"
             ],
             [
              0.1111111111111111,
              "#46039f"
             ],
             [
              0.2222222222222222,
              "#7201a8"
             ],
             [
              0.3333333333333333,
              "#9c179e"
             ],
             [
              0.4444444444444444,
              "#bd3786"
             ],
             [
              0.5555555555555556,
              "#d8576b"
             ],
             [
              0.6666666666666666,
              "#ed7953"
             ],
             [
              0.7777777777777778,
              "#fb9f3a"
             ],
             [
              0.8888888888888888,
              "#fdca26"
             ],
             [
              1,
              "#f0f921"
             ]
            ],
            "type": "heatmapgl"
           }
          ],
          "histogram": [
           {
            "marker": {
             "colorbar": {
              "outlinewidth": 0,
              "ticks": ""
             }
            },
            "type": "histogram"
           }
          ],
          "histogram2d": [
           {
            "colorbar": {
             "outlinewidth": 0,
             "ticks": ""
            },
            "colorscale": [
             [
              0,
              "#0d0887"
             ],
             [
              0.1111111111111111,
              "#46039f"
             ],
             [
              0.2222222222222222,
              "#7201a8"
             ],
             [
              0.3333333333333333,
              "#9c179e"
             ],
             [
              0.4444444444444444,
              "#bd3786"
             ],
             [
              0.5555555555555556,
              "#d8576b"
             ],
             [
              0.6666666666666666,
              "#ed7953"
             ],
             [
              0.7777777777777778,
              "#fb9f3a"
             ],
             [
              0.8888888888888888,
              "#fdca26"
             ],
             [
              1,
              "#f0f921"
             ]
            ],
            "type": "histogram2d"
           }
          ],
          "histogram2dcontour": [
           {
            "colorbar": {
             "outlinewidth": 0,
             "ticks": ""
            },
            "colorscale": [
             [
              0,
              "#0d0887"
             ],
             [
              0.1111111111111111,
              "#46039f"
             ],
             [
              0.2222222222222222,
              "#7201a8"
             ],
             [
              0.3333333333333333,
              "#9c179e"
             ],
             [
              0.4444444444444444,
              "#bd3786"
             ],
             [
              0.5555555555555556,
              "#d8576b"
             ],
             [
              0.6666666666666666,
              "#ed7953"
             ],
             [
              0.7777777777777778,
              "#fb9f3a"
             ],
             [
              0.8888888888888888,
              "#fdca26"
             ],
             [
              1,
              "#f0f921"
             ]
            ],
            "type": "histogram2dcontour"
           }
          ],
          "mesh3d": [
           {
            "colorbar": {
             "outlinewidth": 0,
             "ticks": ""
            },
            "type": "mesh3d"
           }
          ],
          "parcoords": [
           {
            "line": {
             "colorbar": {
              "outlinewidth": 0,
              "ticks": ""
             }
            },
            "type": "parcoords"
           }
          ],
          "pie": [
           {
            "automargin": true,
            "type": "pie"
           }
          ],
          "scatter": [
           {
            "marker": {
             "colorbar": {
              "outlinewidth": 0,
              "ticks": ""
             }
            },
            "type": "scatter"
           }
          ],
          "scatter3d": [
           {
            "line": {
             "colorbar": {
              "outlinewidth": 0,
              "ticks": ""
             }
            },
            "marker": {
             "colorbar": {
              "outlinewidth": 0,
              "ticks": ""
             }
            },
            "type": "scatter3d"
           }
          ],
          "scattercarpet": [
           {
            "marker": {
             "colorbar": {
              "outlinewidth": 0,
              "ticks": ""
             }
            },
            "type": "scattercarpet"
           }
          ],
          "scattergeo": [
           {
            "marker": {
             "colorbar": {
              "outlinewidth": 0,
              "ticks": ""
             }
            },
            "type": "scattergeo"
           }
          ],
          "scattergl": [
           {
            "marker": {
             "colorbar": {
              "outlinewidth": 0,
              "ticks": ""
             }
            },
            "type": "scattergl"
           }
          ],
          "scattermapbox": [
           {
            "marker": {
             "colorbar": {
              "outlinewidth": 0,
              "ticks": ""
             }
            },
            "type": "scattermapbox"
           }
          ],
          "scatterpolar": [
           {
            "marker": {
             "colorbar": {
              "outlinewidth": 0,
              "ticks": ""
             }
            },
            "type": "scatterpolar"
           }
          ],
          "scatterpolargl": [
           {
            "marker": {
             "colorbar": {
              "outlinewidth": 0,
              "ticks": ""
             }
            },
            "type": "scatterpolargl"
           }
          ],
          "scatterternary": [
           {
            "marker": {
             "colorbar": {
              "outlinewidth": 0,
              "ticks": ""
             }
            },
            "type": "scatterternary"
           }
          ],
          "surface": [
           {
            "colorbar": {
             "outlinewidth": 0,
             "ticks": ""
            },
            "colorscale": [
             [
              0,
              "#0d0887"
             ],
             [
              0.1111111111111111,
              "#46039f"
             ],
             [
              0.2222222222222222,
              "#7201a8"
             ],
             [
              0.3333333333333333,
              "#9c179e"
             ],
             [
              0.4444444444444444,
              "#bd3786"
             ],
             [
              0.5555555555555556,
              "#d8576b"
             ],
             [
              0.6666666666666666,
              "#ed7953"
             ],
             [
              0.7777777777777778,
              "#fb9f3a"
             ],
             [
              0.8888888888888888,
              "#fdca26"
             ],
             [
              1,
              "#f0f921"
             ]
            ],
            "type": "surface"
           }
          ],
          "table": [
           {
            "cells": {
             "fill": {
              "color": "#EBF0F8"
             },
             "line": {
              "color": "white"
             }
            },
            "header": {
             "fill": {
              "color": "#C8D4E3"
             },
             "line": {
              "color": "white"
             }
            },
            "type": "table"
           }
          ]
         },
         "layout": {
          "annotationdefaults": {
           "arrowcolor": "#2a3f5f",
           "arrowhead": 0,
           "arrowwidth": 1
          },
          "coloraxis": {
           "colorbar": {
            "outlinewidth": 0,
            "ticks": ""
           }
          },
          "colorscale": {
           "diverging": [
            [
             0,
             "#8e0152"
            ],
            [
             0.1,
             "#c51b7d"
            ],
            [
             0.2,
             "#de77ae"
            ],
            [
             0.3,
             "#f1b6da"
            ],
            [
             0.4,
             "#fde0ef"
            ],
            [
             0.5,
             "#f7f7f7"
            ],
            [
             0.6,
             "#e6f5d0"
            ],
            [
             0.7,
             "#b8e186"
            ],
            [
             0.8,
             "#7fbc41"
            ],
            [
             0.9,
             "#4d9221"
            ],
            [
             1,
             "#276419"
            ]
           ],
           "sequential": [
            [
             0,
             "#0d0887"
            ],
            [
             0.1111111111111111,
             "#46039f"
            ],
            [
             0.2222222222222222,
             "#7201a8"
            ],
            [
             0.3333333333333333,
             "#9c179e"
            ],
            [
             0.4444444444444444,
             "#bd3786"
            ],
            [
             0.5555555555555556,
             "#d8576b"
            ],
            [
             0.6666666666666666,
             "#ed7953"
            ],
            [
             0.7777777777777778,
             "#fb9f3a"
            ],
            [
             0.8888888888888888,
             "#fdca26"
            ],
            [
             1,
             "#f0f921"
            ]
           ],
           "sequentialminus": [
            [
             0,
             "#0d0887"
            ],
            [
             0.1111111111111111,
             "#46039f"
            ],
            [
             0.2222222222222222,
             "#7201a8"
            ],
            [
             0.3333333333333333,
             "#9c179e"
            ],
            [
             0.4444444444444444,
             "#bd3786"
            ],
            [
             0.5555555555555556,
             "#d8576b"
            ],
            [
             0.6666666666666666,
             "#ed7953"
            ],
            [
             0.7777777777777778,
             "#fb9f3a"
            ],
            [
             0.8888888888888888,
             "#fdca26"
            ],
            [
             1,
             "#f0f921"
            ]
           ]
          },
          "colorway": [
           "#636efa",
           "#EF553B",
           "#00cc96",
           "#ab63fa",
           "#FFA15A",
           "#19d3f3",
           "#FF6692",
           "#B6E880",
           "#FF97FF",
           "#FECB52"
          ],
          "font": {
           "color": "#2a3f5f"
          },
          "geo": {
           "bgcolor": "white",
           "lakecolor": "white",
           "landcolor": "#E5ECF6",
           "showlakes": true,
           "showland": true,
           "subunitcolor": "white"
          },
          "hoverlabel": {
           "align": "left"
          },
          "hovermode": "closest",
          "mapbox": {
           "style": "light"
          },
          "paper_bgcolor": "white",
          "plot_bgcolor": "#E5ECF6",
          "polar": {
           "angularaxis": {
            "gridcolor": "white",
            "linecolor": "white",
            "ticks": ""
           },
           "bgcolor": "#E5ECF6",
           "radialaxis": {
            "gridcolor": "white",
            "linecolor": "white",
            "ticks": ""
           }
          },
          "scene": {
           "xaxis": {
            "backgroundcolor": "#E5ECF6",
            "gridcolor": "white",
            "gridwidth": 2,
            "linecolor": "white",
            "showbackground": true,
            "ticks": "",
            "zerolinecolor": "white"
           },
           "yaxis": {
            "backgroundcolor": "#E5ECF6",
            "gridcolor": "white",
            "gridwidth": 2,
            "linecolor": "white",
            "showbackground": true,
            "ticks": "",
            "zerolinecolor": "white"
           },
           "zaxis": {
            "backgroundcolor": "#E5ECF6",
            "gridcolor": "white",
            "gridwidth": 2,
            "linecolor": "white",
            "showbackground": true,
            "ticks": "",
            "zerolinecolor": "white"
           }
          },
          "shapedefaults": {
           "line": {
            "color": "#2a3f5f"
           }
          },
          "ternary": {
           "aaxis": {
            "gridcolor": "white",
            "linecolor": "white",
            "ticks": ""
           },
           "baxis": {
            "gridcolor": "white",
            "linecolor": "white",
            "ticks": ""
           },
           "bgcolor": "#E5ECF6",
           "caxis": {
            "gridcolor": "white",
            "linecolor": "white",
            "ticks": ""
           }
          },
          "title": {
           "x": 0.05
          },
          "xaxis": {
           "automargin": true,
           "gridcolor": "white",
           "linecolor": "white",
           "ticks": "",
           "title": {
            "standoff": 15
           },
           "zerolinecolor": "white",
           "zerolinewidth": 2
          },
          "yaxis": {
           "automargin": true,
           "gridcolor": "white",
           "linecolor": "white",
           "ticks": "",
           "title": {
            "standoff": 15
           },
           "zerolinecolor": "white",
           "zerolinewidth": 2
          }
         }
        },
        "title": {
         "text": "Distribucion de la Antigüedad"
        },
        "xaxis": {
         "anchor": "y",
         "domain": [
          0,
          1
         ],
         "title": {
          "text": "Antigüedad"
         }
        },
        "yaxis": {
         "anchor": "x",
         "domain": [
          0,
          1
         ],
         "title": {
          "text": "count"
         }
        }
       }
      },
      "text/html": [
       "<div>                            <div id=\"3835fc05-f38e-4021-8865-5d8a1877cfb1\" class=\"plotly-graph-div\" style=\"height:525px; width:100%;\"></div>            <script type=\"text/javascript\">                require([\"plotly\"], function(Plotly) {                    window.PLOTLYENV=window.PLOTLYENV || {};                                    if (document.getElementById(\"3835fc05-f38e-4021-8865-5d8a1877cfb1\")) {                    Plotly.newPlot(                        \"3835fc05-f38e-4021-8865-5d8a1877cfb1\",                        [{\"alignmentgroup\": \"True\", \"bingroup\": \"x\", \"hovertemplate\": \"Antig\\u00fcedad=%{x}<br>count=%{y}<extra></extra>\", \"legendgroup\": \"\", \"marker\": {\"color\": \"#636efa\"}, \"name\": \"\", \"offsetgroup\": \"\", \"orientation\": \"v\", \"showlegend\": false, \"type\": \"histogram\", \"x\": [33, 49, 26, 7, 31, 27, 49, 13, 44, 38, 20, 53, 12, 35, 37, 36, 17, 11, 12, 28, 48, 42, 16, 60, 23, 29, 54, 14, 38, 26, 4, 3, 3, 51, 56, 33, 26, 59, 13, 57, 32, 56, 8, 54, 59, 44, 13, 45, 56, 11, 49, 59, 6, 38, 50, 21, 50, 59, 34, 24, 45, 3, 60, 38, 59, 25, 56, 6, 42, 4, 48, 21, 60, 23, 54, 6, 34, 9, 12, 2, 8, 35, 28, 10, 51, 51, 2, 19, 1, 20, 44, 19, 3, 25, 4, 27, 54, 44, 30, 56, 59, 21, 7, 6, 24, 31, 45, 36, 49, 41, 48, 49, 43, 52, 9, 21, 44, 0, 3, 31, 29, 42, 54, 27, 36, 28, 22, 51, 26, 38, 19, 54, 32, 44, 21, 48, 19, 18, 33, 36, 32, 6, 28, 43, 24, 39, 45, 31, 36, 52, 57, 27, 54, 52, 57, 23, 0, 57, 37, 23, 20, 46, 5, 11, 16, 4, 21, 13, 27, 55, 33, 50, 44, 16, 47, 40, 27, 21, 58, 32, 12, 18, 60, 10, 59, 17, 57, 5, 44, 42, 30, 10, 20, 42, 20, 19, 57, 44, 37, 38, 40, 3, 11, 53, 12, 11, 2, 47, 55, 36, 24, 30, 9, 59, 43, 34, 12, 1, 55, 49, 29, 8, 27, 24, 51, 39, 24, 22, 23, 41, 5, 14, 53, 16, 28, 15, 23, 33, 37, 11, 11, 30, 4, 12, 31, 36, 36, 25, 12, 27, 10, 27, 16, 50, 9, 60, 60, 13, 32, 2, 18, 29, 38, 34, 22, 20, 7, 36, 18, 53, 26, 46, 31, 17, 38, 19, 49, 20, 15, 50, 4, 58, 14, 23, 34, 59, 44, 12, 45, 37, 16, 22, 18, 57, 38, 39, 43, 15, 33, 5, 24, 57, 44, 11, 40, 15, 27, 20, 56, 46, 49, 53, 57, 36, 2, 31, 38, 14, 11, 37, 8, 39, 38, 18, 2, 5, 17, 0, 1, 3, 11, 34, 28, 53, 29, 26, 44, 54, 17, 22, 57, 9, 15, 24, 59, 32, 21, 42, 52, 42, 34, 55, 40, 15, 13, 21, 7, 8, 46, 50, 3, 40, 37, 38, 55, 3, 39, 51, 2, 2, 45, 36, 8, 36, 40, 45, 2, 45, 15, 5, 4, 1, 59, 50, 30, 1, 28, 53, 45, 47, 27, 21, 36, 16, 27, 40, 3, 32, 2, 36, 54, 15, 27, 19, 36, 10, 57, 21, 37, 18, 50, 43, 43, 6, 37, 26, 12, 45, 15, 3, 26, 7, 36, 13, 45, 46, 59, 27, 44, 56, 31, 47, 9, 12, 48, 21, 44, 41, 56, 27, 9, 58, 2, 31, 51, 42, 4, 26, 5, 1, 26, 59, 29, 53, 37, 57, 13, 59, 32, 20, 39, 28, 15, 19, 12, 26, 10, 56, 33, 54, 10, 25, 30, 51, 22, 30, 1, 19, 24, 0, 49, 26, 5, 10, 7, 50, 55, 40, 18, 39, 31, 26, 30, 4, 2, 17, 10, 8, 18, 34, 1, 4, 14, 35, 44, 27, 13, 59, 35, 29, 4, 58, 17, 46, 35, 5, 28, 46, 5, 35, 17, 54, 29, 11, 17, 37, 40, 47, 32, 49, 36, 33, 17, 5, 30, 18, 8, 38, 45, 34, 5, 35, 0, 19, 44, 17, 26, 46, 27, 31, 8, 18, 33, 33, 59, 7, 50, 34, 45, 10, 38, 4, 46, 50, 21, 16, 59, 54, 20, 19, 17, 14, 50, 39, 22, 57, 26, 55, 52, 45, 1, 1, 15, 49, 57, 18, 53, 1, 14, 39, 16, 37, 40, 48, 17, 27, 30, 55, 15, 25, 45, 49, 9, 37, 34, 26, 29, 44, 60, 20, 44, 53, 14, 23, 58, 1, 48, 5, 14, 22, 17, 33, 5, 2, 1, 19, 26, 17, 60, 42, 54, 27, 2, 1, 56, 42, 4, 25, 49, 28, 13, 31, 39, 29, 20, 11, 2, 3, 2, 20, 56, 39, 1, 44, 47, 10, 23, 38, 46, 31, 38, 27, 45, 11, 7, 25, 10, 21, 27, 31, 54, 12, 28, 47, 33, 48, 36, 9, 51, 31, 31, 11, 44, 59, 31, 33, 19, 13, 38, 28, 49, 52, 56, 28, 20, 18, 37, 31, 16, 50, 34, 16, 19, 55, 19, 56, 38, 36, 28, 28, 41, 28, 55, 50, 56, 48, 20, 13, 19, 3, 26, 44, 32, 14, 23, 6, 14, 11, 55, 21, 6, 40, 32, 58, 16, 5, 20, 14, 10, 41, 26, 47, 24, 40, 53, 9, 11, 4, 15, 34, 22, 27, 25, 30, 40, 29, 34, 44, 18, 57, 8, 7, 24, 32, 59, 17, 47], \"xaxis\": \"x\", \"yaxis\": \"y\"}],                        {\"barmode\": \"relative\", \"legend\": {\"tracegroupgap\": 0}, \"template\": {\"data\": {\"bar\": [{\"error_x\": {\"color\": \"#2a3f5f\"}, \"error_y\": {\"color\": \"#2a3f5f\"}, \"marker\": {\"line\": {\"color\": \"#E5ECF6\", \"width\": 0.5}}, \"type\": \"bar\"}], \"barpolar\": [{\"marker\": {\"line\": {\"color\": \"#E5ECF6\", \"width\": 0.5}}, \"type\": \"barpolar\"}], \"carpet\": [{\"aaxis\": {\"endlinecolor\": \"#2a3f5f\", \"gridcolor\": \"white\", \"linecolor\": \"white\", \"minorgridcolor\": \"white\", \"startlinecolor\": \"#2a3f5f\"}, \"baxis\": {\"endlinecolor\": \"#2a3f5f\", \"gridcolor\": \"white\", \"linecolor\": \"white\", \"minorgridcolor\": \"white\", \"startlinecolor\": \"#2a3f5f\"}, \"type\": \"carpet\"}], \"choropleth\": [{\"colorbar\": {\"outlinewidth\": 0, \"ticks\": \"\"}, \"type\": \"choropleth\"}], \"contour\": [{\"colorbar\": {\"outlinewidth\": 0, \"ticks\": \"\"}, \"colorscale\": [[0.0, \"#0d0887\"], [0.1111111111111111, \"#46039f\"], [0.2222222222222222, \"#7201a8\"], [0.3333333333333333, \"#9c179e\"], [0.4444444444444444, \"#bd3786\"], [0.5555555555555556, \"#d8576b\"], [0.6666666666666666, \"#ed7953\"], [0.7777777777777778, \"#fb9f3a\"], [0.8888888888888888, \"#fdca26\"], [1.0, \"#f0f921\"]], \"type\": \"contour\"}], \"contourcarpet\": [{\"colorbar\": {\"outlinewidth\": 0, \"ticks\": \"\"}, \"type\": \"contourcarpet\"}], \"heatmap\": [{\"colorbar\": {\"outlinewidth\": 0, \"ticks\": \"\"}, \"colorscale\": [[0.0, \"#0d0887\"], [0.1111111111111111, \"#46039f\"], [0.2222222222222222, \"#7201a8\"], [0.3333333333333333, \"#9c179e\"], [0.4444444444444444, \"#bd3786\"], [0.5555555555555556, \"#d8576b\"], [0.6666666666666666, \"#ed7953\"], [0.7777777777777778, \"#fb9f3a\"], [0.8888888888888888, \"#fdca26\"], [1.0, \"#f0f921\"]], \"type\": \"heatmap\"}], \"heatmapgl\": [{\"colorbar\": {\"outlinewidth\": 0, \"ticks\": \"\"}, \"colorscale\": [[0.0, \"#0d0887\"], [0.1111111111111111, \"#46039f\"], [0.2222222222222222, \"#7201a8\"], [0.3333333333333333, \"#9c179e\"], [0.4444444444444444, \"#bd3786\"], [0.5555555555555556, \"#d8576b\"], [0.6666666666666666, \"#ed7953\"], [0.7777777777777778, \"#fb9f3a\"], [0.8888888888888888, \"#fdca26\"], [1.0, \"#f0f921\"]], \"type\": \"heatmapgl\"}], \"histogram\": [{\"marker\": {\"colorbar\": {\"outlinewidth\": 0, \"ticks\": \"\"}}, \"type\": \"histogram\"}], \"histogram2d\": [{\"colorbar\": {\"outlinewidth\": 0, \"ticks\": \"\"}, \"colorscale\": [[0.0, \"#0d0887\"], [0.1111111111111111, \"#46039f\"], [0.2222222222222222, \"#7201a8\"], [0.3333333333333333, \"#9c179e\"], [0.4444444444444444, \"#bd3786\"], [0.5555555555555556, \"#d8576b\"], [0.6666666666666666, \"#ed7953\"], [0.7777777777777778, \"#fb9f3a\"], [0.8888888888888888, \"#fdca26\"], [1.0, \"#f0f921\"]], \"type\": \"histogram2d\"}], \"histogram2dcontour\": [{\"colorbar\": {\"outlinewidth\": 0, \"ticks\": \"\"}, \"colorscale\": [[0.0, \"#0d0887\"], [0.1111111111111111, \"#46039f\"], [0.2222222222222222, \"#7201a8\"], [0.3333333333333333, \"#9c179e\"], [0.4444444444444444, \"#bd3786\"], [0.5555555555555556, \"#d8576b\"], [0.6666666666666666, \"#ed7953\"], [0.7777777777777778, \"#fb9f3a\"], [0.8888888888888888, \"#fdca26\"], [1.0, \"#f0f921\"]], \"type\": \"histogram2dcontour\"}], \"mesh3d\": [{\"colorbar\": {\"outlinewidth\": 0, \"ticks\": \"\"}, \"type\": \"mesh3d\"}], \"parcoords\": [{\"line\": {\"colorbar\": {\"outlinewidth\": 0, \"ticks\": \"\"}}, \"type\": \"parcoords\"}], \"pie\": [{\"automargin\": true, \"type\": \"pie\"}], \"scatter\": [{\"marker\": {\"colorbar\": {\"outlinewidth\": 0, \"ticks\": \"\"}}, \"type\": \"scatter\"}], \"scatter3d\": [{\"line\": {\"colorbar\": {\"outlinewidth\": 0, \"ticks\": \"\"}}, \"marker\": {\"colorbar\": {\"outlinewidth\": 0, \"ticks\": \"\"}}, \"type\": \"scatter3d\"}], \"scattercarpet\": [{\"marker\": {\"colorbar\": {\"outlinewidth\": 0, \"ticks\": \"\"}}, \"type\": \"scattercarpet\"}], \"scattergeo\": [{\"marker\": {\"colorbar\": {\"outlinewidth\": 0, \"ticks\": \"\"}}, \"type\": \"scattergeo\"}], \"scattergl\": [{\"marker\": {\"colorbar\": {\"outlinewidth\": 0, \"ticks\": \"\"}}, \"type\": \"scattergl\"}], \"scattermapbox\": [{\"marker\": {\"colorbar\": {\"outlinewidth\": 0, \"ticks\": \"\"}}, \"type\": \"scattermapbox\"}], \"scatterpolar\": [{\"marker\": {\"colorbar\": {\"outlinewidth\": 0, \"ticks\": \"\"}}, \"type\": \"scatterpolar\"}], \"scatterpolargl\": [{\"marker\": {\"colorbar\": {\"outlinewidth\": 0, \"ticks\": \"\"}}, \"type\": \"scatterpolargl\"}], \"scatterternary\": [{\"marker\": {\"colorbar\": {\"outlinewidth\": 0, \"ticks\": \"\"}}, \"type\": \"scatterternary\"}], \"surface\": [{\"colorbar\": {\"outlinewidth\": 0, \"ticks\": \"\"}, \"colorscale\": [[0.0, \"#0d0887\"], [0.1111111111111111, \"#46039f\"], [0.2222222222222222, \"#7201a8\"], [0.3333333333333333, \"#9c179e\"], [0.4444444444444444, \"#bd3786\"], [0.5555555555555556, \"#d8576b\"], [0.6666666666666666, \"#ed7953\"], [0.7777777777777778, \"#fb9f3a\"], [0.8888888888888888, \"#fdca26\"], [1.0, \"#f0f921\"]], \"type\": \"surface\"}], \"table\": [{\"cells\": {\"fill\": {\"color\": \"#EBF0F8\"}, \"line\": {\"color\": \"white\"}}, \"header\": {\"fill\": {\"color\": \"#C8D4E3\"}, \"line\": {\"color\": \"white\"}}, \"type\": \"table\"}]}, \"layout\": {\"annotationdefaults\": {\"arrowcolor\": \"#2a3f5f\", \"arrowhead\": 0, \"arrowwidth\": 1}, \"coloraxis\": {\"colorbar\": {\"outlinewidth\": 0, \"ticks\": \"\"}}, \"colorscale\": {\"diverging\": [[0, \"#8e0152\"], [0.1, \"#c51b7d\"], [0.2, \"#de77ae\"], [0.3, \"#f1b6da\"], [0.4, \"#fde0ef\"], [0.5, \"#f7f7f7\"], [0.6, \"#e6f5d0\"], [0.7, \"#b8e186\"], [0.8, \"#7fbc41\"], [0.9, \"#4d9221\"], [1, \"#276419\"]], \"sequential\": [[0.0, \"#0d0887\"], [0.1111111111111111, \"#46039f\"], [0.2222222222222222, \"#7201a8\"], [0.3333333333333333, \"#9c179e\"], [0.4444444444444444, \"#bd3786\"], [0.5555555555555556, \"#d8576b\"], [0.6666666666666666, \"#ed7953\"], [0.7777777777777778, \"#fb9f3a\"], [0.8888888888888888, \"#fdca26\"], [1.0, \"#f0f921\"]], \"sequentialminus\": [[0.0, \"#0d0887\"], [0.1111111111111111, \"#46039f\"], [0.2222222222222222, \"#7201a8\"], [0.3333333333333333, \"#9c179e\"], [0.4444444444444444, \"#bd3786\"], [0.5555555555555556, \"#d8576b\"], [0.6666666666666666, \"#ed7953\"], [0.7777777777777778, \"#fb9f3a\"], [0.8888888888888888, \"#fdca26\"], [1.0, \"#f0f921\"]]}, \"colorway\": [\"#636efa\", \"#EF553B\", \"#00cc96\", \"#ab63fa\", \"#FFA15A\", \"#19d3f3\", \"#FF6692\", \"#B6E880\", \"#FF97FF\", \"#FECB52\"], \"font\": {\"color\": \"#2a3f5f\"}, \"geo\": {\"bgcolor\": \"white\", \"lakecolor\": \"white\", \"landcolor\": \"#E5ECF6\", \"showlakes\": true, \"showland\": true, \"subunitcolor\": \"white\"}, \"hoverlabel\": {\"align\": \"left\"}, \"hovermode\": \"closest\", \"mapbox\": {\"style\": \"light\"}, \"paper_bgcolor\": \"white\", \"plot_bgcolor\": \"#E5ECF6\", \"polar\": {\"angularaxis\": {\"gridcolor\": \"white\", \"linecolor\": \"white\", \"ticks\": \"\"}, \"bgcolor\": \"#E5ECF6\", \"radialaxis\": {\"gridcolor\": \"white\", \"linecolor\": \"white\", \"ticks\": \"\"}}, \"scene\": {\"xaxis\": {\"backgroundcolor\": \"#E5ECF6\", \"gridcolor\": \"white\", \"gridwidth\": 2, \"linecolor\": \"white\", \"showbackground\": true, \"ticks\": \"\", \"zerolinecolor\": \"white\"}, \"yaxis\": {\"backgroundcolor\": \"#E5ECF6\", \"gridcolor\": \"white\", \"gridwidth\": 2, \"linecolor\": \"white\", \"showbackground\": true, \"ticks\": \"\", \"zerolinecolor\": \"white\"}, \"zaxis\": {\"backgroundcolor\": \"#E5ECF6\", \"gridcolor\": \"white\", \"gridwidth\": 2, \"linecolor\": \"white\", \"showbackground\": true, \"ticks\": \"\", \"zerolinecolor\": \"white\"}}, \"shapedefaults\": {\"line\": {\"color\": \"#2a3f5f\"}}, \"ternary\": {\"aaxis\": {\"gridcolor\": \"white\", \"linecolor\": \"white\", \"ticks\": \"\"}, \"baxis\": {\"gridcolor\": \"white\", \"linecolor\": \"white\", \"ticks\": \"\"}, \"bgcolor\": \"#E5ECF6\", \"caxis\": {\"gridcolor\": \"white\", \"linecolor\": \"white\", \"ticks\": \"\"}}, \"title\": {\"x\": 0.05}, \"xaxis\": {\"automargin\": true, \"gridcolor\": \"white\", \"linecolor\": \"white\", \"ticks\": \"\", \"title\": {\"standoff\": 15}, \"zerolinecolor\": \"white\", \"zerolinewidth\": 2}, \"yaxis\": {\"automargin\": true, \"gridcolor\": \"white\", \"linecolor\": \"white\", \"ticks\": \"\", \"title\": {\"standoff\": 15}, \"zerolinecolor\": \"white\", \"zerolinewidth\": 2}}}, \"title\": {\"text\": \"Distribucion de la Antig\\u00fcedad\"}, \"xaxis\": {\"anchor\": \"y\", \"domain\": [0.0, 1.0], \"title\": {\"text\": \"Antig\\u00fcedad\"}}, \"yaxis\": {\"anchor\": \"x\", \"domain\": [0.0, 1.0], \"title\": {\"text\": \"count\"}}},                        {\"responsive\": true}                    ).then(function(){\n",
       "                            \n",
       "var gd = document.getElementById('3835fc05-f38e-4021-8865-5d8a1877cfb1');\n",
       "var x = new MutationObserver(function (mutations, observer) {{\n",
       "        var display = window.getComputedStyle(gd).display;\n",
       "        if (!display || display === 'none') {{\n",
       "            console.log([gd, 'removed!']);\n",
       "            Plotly.purge(gd);\n",
       "            observer.disconnect();\n",
       "        }}\n",
       "}});\n",
       "\n",
       "// Listen for the removal of the full notebook cells\n",
       "var notebookContainer = gd.closest('#notebook-container');\n",
       "if (notebookContainer) {{\n",
       "    x.observe(notebookContainer, {childList: true});\n",
       "}}\n",
       "\n",
       "// Listen for the clearing of the current output cell\n",
       "var outputEl = gd.closest('.output');\n",
       "if (outputEl) {{\n",
       "    x.observe(outputEl, {childList: true});\n",
       "}}\n",
       "\n",
       "                        })                };                });            </script>        </div>"
      ]
     },
     "metadata": {},
     "output_type": "display_data"
    }
   ],
   "source": [
    "fig = px.histogram(df, x='Antigüedad', title= 'Distribucion de la Antigüedad') \n",
    "fig.show()\n",
    "#la cantidad de personas con una antiguedad de más de 60 años es menor a 10 personas"
   ]
  },
  {
   "cell_type": "code",
   "execution_count": 13,
   "metadata": {
    "scrolled": false
   },
   "outputs": [
    {
     "data": {
      "application/vnd.plotly.v1+json": {
       "config": {
        "plotlyServerURL": "https://plot.ly"
       },
       "data": [
        {
         "hovertemplate": "Edad=%{x}<br>Ingresos=%{y}<extra></extra>",
         "legendgroup": "",
         "marker": {
          "color": "#636efa",
          "symbol": "circle"
         },
         "mode": "markers",
         "name": "",
         "orientation": "v",
         "showlegend": false,
         "type": "scatter",
         "x": [
          16,
          62,
          27,
          61,
          24,
          40,
          63,
          54,
          69,
          13,
          49,
          34,
          47,
          26,
          70,
          4,
          45,
          41,
          32,
          23,
          37,
          4,
          1,
          6,
          42,
          23,
          43,
          39,
          59,
          45,
          68,
          60,
          3,
          54,
          44,
          38,
          56,
          45,
          9,
          65,
          41,
          35,
          28,
          43,
          7,
          63,
          32,
          54,
          15,
          62,
          58,
          44,
          54,
          66,
          5,
          24,
          62,
          66,
          68,
          23,
          42,
          66,
          59,
          16,
          17,
          45,
          3,
          47,
          68,
          35,
          37,
          20,
          36,
          67,
          54,
          14,
          52,
          34,
          59,
          68,
          64,
          67,
          5,
          62,
          25,
          20,
          35,
          45,
          14,
          66,
          64,
          25,
          51,
          26,
          33,
          25,
          59,
          21,
          27,
          31,
          4,
          50,
          34,
          19,
          48,
          9,
          0,
          37,
          27,
          57,
          53,
          20,
          65,
          49,
          51,
          10,
          61,
          56,
          52,
          64,
          34,
          61,
          13,
          28,
          9,
          53,
          41,
          7,
          24,
          1,
          53,
          42,
          16,
          37,
          26,
          69,
          34,
          22,
          5,
          39,
          29,
          45,
          15,
          65,
          48,
          33,
          38,
          66,
          54,
          3,
          57,
          36,
          45,
          27,
          55,
          55,
          50,
          17,
          7,
          44,
          38,
          16,
          62,
          5,
          39,
          11,
          53,
          25,
          10,
          8,
          41,
          19,
          25,
          40,
          56,
          39,
          63,
          29,
          32,
          50,
          67,
          42,
          21,
          56,
          63,
          13,
          1,
          16,
          59,
          45,
          29,
          40,
          49,
          55,
          40,
          49,
          56,
          36,
          9,
          30,
          3,
          50,
          4,
          61,
          45,
          15,
          56,
          42,
          61,
          28,
          16,
          58,
          51,
          59,
          49,
          20,
          14,
          21,
          18,
          25,
          44,
          5,
          59,
          42,
          8,
          32,
          48,
          49,
          23,
          18,
          43,
          24,
          16,
          11,
          65,
          65,
          49,
          39,
          53,
          45,
          57,
          65,
          54,
          14,
          26,
          69,
          4,
          64,
          21,
          42,
          57,
          30,
          40,
          55,
          11,
          15,
          27,
          8,
          17,
          40,
          69,
          44,
          26,
          40,
          33,
          24,
          30,
          28,
          19,
          47,
          13,
          69,
          17,
          43,
          56,
          63,
          24,
          31,
          67,
          67,
          58,
          67,
          59,
          19,
          16,
          27,
          48,
          17,
          28,
          51,
          60,
          21,
          8,
          38,
          4,
          3,
          28,
          21,
          32,
          13,
          47,
          28,
          31,
          2,
          51,
          21,
          56,
          66,
          19,
          60,
          55,
          5,
          12,
          37,
          55,
          58,
          56,
          4,
          33,
          65,
          68,
          6,
          55,
          57,
          51,
          44,
          67,
          42,
          33,
          2,
          13,
          23,
          66,
          10,
          38,
          56,
          2,
          21,
          12,
          10,
          45,
          49,
          17,
          48,
          24,
          43,
          37,
          53,
          29,
          5,
          29,
          63,
          67,
          10,
          15,
          59,
          58,
          58,
          47,
          60,
          40,
          35,
          24,
          10,
          41,
          32,
          29,
          26,
          5,
          64,
          64,
          30,
          67,
          62,
          45,
          2,
          6,
          61,
          23,
          27,
          28,
          19,
          30,
          15,
          15,
          36,
          33,
          54,
          3,
          64,
          3,
          69,
          43,
          63,
          63,
          3,
          25,
          4,
          7,
          55,
          42,
          36,
          4,
          33,
          37,
          7,
          64,
          8,
          38,
          33,
          7,
          34,
          65,
          45,
          36,
          65,
          38,
          16,
          35,
          57,
          42,
          32,
          63,
          1,
          12,
          65,
          59,
          59,
          48,
          53,
          42,
          13,
          60,
          7,
          56,
          2,
          17,
          20,
          52,
          53,
          69,
          44,
          49,
          16,
          62,
          47,
          24,
          62,
          6,
          46,
          67,
          59,
          29,
          11,
          38,
          32,
          61,
          31,
          69,
          30,
          70,
          22,
          33,
          18,
          13,
          15,
          41,
          0,
          64,
          56,
          16,
          54,
          54,
          16,
          20,
          69,
          4,
          40,
          27,
          8,
          57,
          17,
          19,
          11,
          42,
          23,
          45,
          30,
          46,
          24,
          56,
          3,
          24,
          50,
          62,
          62,
          31,
          57,
          23,
          39,
          57,
          40,
          5,
          62,
          64,
          28,
          41,
          9,
          32,
          7,
          42,
          60,
          19,
          63,
          52,
          25,
          22,
          4,
          32,
          69,
          28,
          22,
          30,
          19,
          44,
          44,
          59,
          67,
          53,
          17,
          49,
          18,
          63,
          14,
          1,
          4,
          3,
          12,
          24,
          12,
          67,
          30,
          18,
          45,
          57,
          40,
          67,
          63,
          67,
          20,
          31,
          55,
          20,
          32,
          3,
          22,
          29,
          56,
          16,
          32,
          61,
          69,
          10,
          13,
          48,
          42,
          3,
          55,
          70,
          14,
          14,
          37,
          63,
          42,
          42,
          61,
          12,
          47,
          4,
          16,
          26,
          66,
          12,
          70,
          43,
          63,
          0,
          14,
          58,
          50,
          19,
          22,
          1,
          14,
          53,
          14,
          31,
          14,
          66,
          27,
          16,
          55,
          7,
          6,
          25,
          38,
          51,
          4,
          64,
          29,
          62,
          66,
          19,
          34,
          46,
          50,
          14,
          24,
          46,
          3,
          12,
          13,
          52,
          68,
          65,
          53,
          22,
          12,
          26,
          48,
          57,
          41,
          51,
          64,
          17,
          40,
          13,
          53,
          11,
          25,
          63,
          22,
          34,
          50,
          34,
          57,
          37,
          21,
          15,
          35,
          46,
          26,
          66,
          24,
          25,
          6,
          61,
          46,
          4,
          12,
          16,
          46,
          36,
          30,
          2,
          13,
          37,
          33,
          35,
          66,
          41,
          24,
          50,
          6,
          47,
          7,
          22,
          52,
          43,
          50,
          40,
          59,
          7,
          36,
          23,
          45,
          13,
          33,
          65,
          6,
          49,
          50,
          34,
          24,
          15,
          53,
          36,
          16,
          6,
          49,
          15,
          28,
          63,
          64,
          29,
          41,
          23,
          62,
          45,
          69,
          4,
          66,
          64,
          14,
          66,
          38,
          6,
          7,
          61,
          43,
          36,
          24,
          29,
          50,
          31,
          39,
          8,
          15,
          20,
          10,
          30,
          30,
          48,
          15,
          39,
          17,
          43,
          58,
          8,
          5,
          4,
          9,
          5,
          45,
          55,
          19,
          51,
          37,
          16,
          3,
          48,
          67,
          41,
          44,
          36,
          6,
          22,
          42,
          20,
          19,
          35,
          65,
          62,
          43,
          9,
          59,
          15
         ],
         "xaxis": "x",
         "y": [
          24177,
          43386,
          49929,
          695,
          15015,
          33501,
          23469,
          34550,
          49733,
          33626,
          38198,
          18536,
          49089,
          18270,
          23288,
          43783,
          10156,
          3632,
          7294,
          276,
          7423,
          24002,
          39490,
          14970,
          7122,
          30464,
          8965,
          35782,
          238,
          42229,
          32970,
          46878,
          49858,
          21893,
          30425,
          7792,
          44071,
          5938,
          40862,
          35684,
          8517,
          3413,
          22434,
          18932,
          22300,
          17247,
          44032,
          35757,
          38920,
          23419,
          14495,
          43967,
          18186,
          890,
          29789,
          30946,
          34392,
          45740,
          37352,
          24156,
          13237,
          41981,
          23039,
          25849,
          1349,
          9234,
          12603,
          17166,
          41883,
          23809,
          42055,
          2072,
          24435,
          7185,
          24586,
          18817,
          17534,
          48821,
          577,
          44564,
          49983,
          37777,
          6251,
          27743,
          29723,
          13532,
          20131,
          25537,
          2784,
          22416,
          15314,
          39541,
          13835,
          40852,
          32211,
          25083,
          29662,
          38048,
          12551,
          16622,
          1412,
          29586,
          31288,
          35574,
          26038,
          32600,
          8398,
          7525,
          45718,
          45187,
          20711,
          28737,
          49194,
          38452,
          4854,
          26526,
          47389,
          15687,
          13702,
          48763,
          21885,
          34892,
          34099,
          27398,
          23818,
          25766,
          26792,
          46882,
          39055,
          24026,
          30486,
          3308,
          30515,
          30367,
          17924,
          37256,
          980,
          18068,
          49397,
          44636,
          39552,
          15306,
          45950,
          38940,
          17280,
          16193,
          40977,
          41029,
          2002,
          8793,
          10433,
          31285,
          33177,
          25251,
          46409,
          34618,
          16370,
          22847,
          4192,
          39195,
          40257,
          9232,
          10685,
          16274,
          29607,
          26767,
          21830,
          37814,
          29529,
          5639,
          35071,
          31818,
          30817,
          14063,
          46007,
          29421,
          31249,
          46351,
          5285,
          34780,
          26152,
          42325,
          35368,
          9629,
          23754,
          4884,
          14462,
          10983,
          42995,
          43075,
          9551,
          41747,
          6465,
          21982,
          9114,
          41032,
          26075,
          28018,
          16311,
          28764,
          30823,
          28375,
          5947,
          37055,
          3271,
          11184,
          1078,
          10040,
          779,
          38004,
          18401,
          44006,
          451,
          37925,
          17530,
          21516,
          43694,
          2676,
          2181,
          27037,
          44366,
          38277,
          24692,
          17332,
          23548,
          33936,
          29695,
          24939,
          27538,
          33838,
          11928,
          42915,
          6236,
          25197,
          23691,
          36860,
          43928,
          38214,
          31604,
          35765,
          499,
          10104,
          44135,
          19978,
          7326,
          2977,
          49494,
          21065,
          14643,
          22034,
          33494,
          12436,
          27417,
          45792,
          36178,
          40978,
          18066,
          45874,
          32243,
          19722,
          1138,
          46346,
          15284,
          25246,
          26088,
          37615,
          36675,
          21929,
          27290,
          21696,
          48832,
          16428,
          25447,
          3501,
          40099,
          23202,
          43593,
          9096,
          6204,
          39687,
          49358,
          31596,
          1230,
          1723,
          13182,
          1811,
          29396,
          234,
          16782,
          31607,
          3867,
          20333,
          29347,
          4770,
          31800,
          18801,
          1305,
          24802,
          17455,
          28354,
          21261,
          13668,
          35247,
          4501,
          29752,
          49590,
          12434,
          7021,
          47979,
          46411,
          25026,
          32526,
          14504,
          23238,
          46101,
          20060,
          45956,
          28211,
          6130,
          37095,
          28793,
          2626,
          43079,
          31448,
          17934,
          39370,
          47981,
          18457,
          25581,
          42543,
          17245,
          28906,
          16410,
          21863,
          28333,
          10965,
          46159,
          10456,
          11652,
          18369,
          47796,
          14222,
          3796,
          23418,
          37539,
          29847,
          45702,
          6197,
          18937,
          40815,
          31503,
          7418,
          18778,
          12028,
          21431,
          39875,
          1761,
          8327,
          9770,
          40868,
          26873,
          11193,
          13819,
          6776,
          25158,
          37433,
          17354,
          47287,
          34654,
          37145,
          37099,
          48745,
          29054,
          43615,
          28332,
          5127,
          14029,
          1606,
          48749,
          45457,
          49544,
          1961,
          20901,
          23770,
          21921,
          31571,
          3555,
          22835,
          30954,
          24758,
          46862,
          17211,
          21936,
          22974,
          8621,
          33912,
          28962,
          41155,
          33873,
          44416,
          6467,
          2816,
          12057,
          11324,
          38852,
          40804,
          39010,
          5942,
          21829,
          19804,
          3172,
          39063,
          32732,
          2046,
          26020,
          17296,
          42371,
          35054,
          40541,
          1338,
          16954,
          374,
          20786,
          35026,
          20770,
          19409,
          39463,
          28065,
          39112,
          9099,
          149,
          25257,
          10597,
          5439,
          32696,
          11794,
          18293,
          41598,
          48162,
          10250,
          12470,
          29771,
          41357,
          29566,
          16420,
          1985,
          33746,
          48816,
          20966,
          15307,
          33175,
          48190,
          32743,
          2472,
          32332,
          9449,
          25569,
          15354,
          20102,
          19177,
          9979,
          48366,
          39152,
          25332,
          17010,
          10935,
          3377,
          6181,
          32455,
          10170,
          1851,
          43995,
          29904,
          30257,
          28219,
          32535,
          36977,
          44121,
          49891,
          32319,
          30997,
          48966,
          40507,
          11397,
          41558,
          14170,
          10818,
          29612,
          44386,
          4184,
          9144,
          28480,
          4913,
          30906,
          20657,
          23133,
          6858,
          7237,
          16274,
          3247,
          30188,
          17879,
          23684,
          12247,
          40636,
          33534,
          26679,
          11767,
          29819,
          28086,
          13236,
          28046,
          31700,
          20176,
          345,
          7751,
          22060,
          27494,
          4979,
          13542,
          5231,
          25407,
          20681,
          37307,
          19607,
          26252,
          722,
          40409,
          43024,
          31237,
          21989,
          22500,
          8651,
          41519,
          18420,
          36118,
          37032,
          10104,
          11405,
          48497,
          35395,
          43831,
          38587,
          18439,
          4234,
          16981,
          45574,
          25184,
          3172,
          168,
          4988,
          27980,
          16114,
          42764,
          31508,
          42485,
          3798,
          6314,
          21541,
          15984,
          18695,
          38657,
          35581,
          37841,
          6961,
          10085,
          39965,
          41628,
          17363,
          2309,
          71,
          23633,
          16599,
          29894,
          18547,
          4913,
          7706,
          18197,
          1567,
          30028,
          16892,
          23597,
          29113,
          42797,
          25454,
          26508,
          36453,
          12667,
          20938,
          32799,
          27685,
          4029,
          35000,
          35685,
          26619,
          44836,
          4929,
          48766,
          7510,
          12466,
          49787,
          25789,
          4987,
          30144,
          29634,
          42437,
          47034,
          28647,
          43855,
          18018,
          13930,
          2762,
          997,
          33032,
          43789,
          33725,
          4225,
          40985,
          11482,
          7286,
          6257,
          45328,
          18811,
          34071,
          21738,
          28768,
          23265,
          24786,
          38738,
          12055,
          31366,
          31289,
          30489,
          34014,
          11353,
          23895,
          44509,
          38543,
          44069,
          34934,
          11188,
          27440,
          33449,
          13948,
          49614,
          18808,
          21551,
          16260,
          41437,
          49089,
          21049,
          31906,
          17272,
          14075,
          22680,
          7403,
          31304,
          13368,
          12041,
          28417,
          36329,
          31742,
          32579,
          31676,
          34899,
          34648,
          19227,
          16942,
          38975,
          12982,
          39548,
          40832,
          13814,
          42283,
          21245,
          7153,
          47338,
          19730,
          2434,
          40486,
          43527,
          4275,
          21574,
          2150,
          47002,
          22138,
          1094,
          4688,
          5004,
          27717,
          32678,
          43963,
          45567,
          29035,
          49644,
          46688,
          34333,
          49817,
          32735,
          45979,
          35068,
          8381,
          6212,
          10556,
          20637,
          16324,
          40516,
          22403,
          35654,
          6944,
          5158,
          12267,
          44978,
          23356,
          12113,
          1751,
          45760,
          39901,
          11155,
          45818,
          30628,
          34479,
          20505,
          48412,
          13347,
          22967,
          48434,
          26134,
          48629,
          37785,
          16893,
          19378,
          10549,
          864,
          21643,
          43676,
          39659,
          42667,
          43358,
          34072,
          20061,
          3749,
          20821,
          1727,
          27421,
          28848,
          24138,
          474,
          11745,
          37124,
          27749,
          9435,
          41685,
          22484,
          25197,
          2344,
          36680,
          6541,
          28058,
          27538,
          4740,
          20429,
          5280,
          11855,
          7230,
          2039,
          12497
         ],
         "yaxis": "y"
        }
       ],
       "layout": {
        "legend": {
         "tracegroupgap": 0
        },
        "template": {
         "data": {
          "bar": [
           {
            "error_x": {
             "color": "#2a3f5f"
            },
            "error_y": {
             "color": "#2a3f5f"
            },
            "marker": {
             "line": {
              "color": "#E5ECF6",
              "width": 0.5
             }
            },
            "type": "bar"
           }
          ],
          "barpolar": [
           {
            "marker": {
             "line": {
              "color": "#E5ECF6",
              "width": 0.5
             }
            },
            "type": "barpolar"
           }
          ],
          "carpet": [
           {
            "aaxis": {
             "endlinecolor": "#2a3f5f",
             "gridcolor": "white",
             "linecolor": "white",
             "minorgridcolor": "white",
             "startlinecolor": "#2a3f5f"
            },
            "baxis": {
             "endlinecolor": "#2a3f5f",
             "gridcolor": "white",
             "linecolor": "white",
             "minorgridcolor": "white",
             "startlinecolor": "#2a3f5f"
            },
            "type": "carpet"
           }
          ],
          "choropleth": [
           {
            "colorbar": {
             "outlinewidth": 0,
             "ticks": ""
            },
            "type": "choropleth"
           }
          ],
          "contour": [
           {
            "colorbar": {
             "outlinewidth": 0,
             "ticks": ""
            },
            "colorscale": [
             [
              0,
              "#0d0887"
             ],
             [
              0.1111111111111111,
              "#46039f"
             ],
             [
              0.2222222222222222,
              "#7201a8"
             ],
             [
              0.3333333333333333,
              "#9c179e"
             ],
             [
              0.4444444444444444,
              "#bd3786"
             ],
             [
              0.5555555555555556,
              "#d8576b"
             ],
             [
              0.6666666666666666,
              "#ed7953"
             ],
             [
              0.7777777777777778,
              "#fb9f3a"
             ],
             [
              0.8888888888888888,
              "#fdca26"
             ],
             [
              1,
              "#f0f921"
             ]
            ],
            "type": "contour"
           }
          ],
          "contourcarpet": [
           {
            "colorbar": {
             "outlinewidth": 0,
             "ticks": ""
            },
            "type": "contourcarpet"
           }
          ],
          "heatmap": [
           {
            "colorbar": {
             "outlinewidth": 0,
             "ticks": ""
            },
            "colorscale": [
             [
              0,
              "#0d0887"
             ],
             [
              0.1111111111111111,
              "#46039f"
             ],
             [
              0.2222222222222222,
              "#7201a8"
             ],
             [
              0.3333333333333333,
              "#9c179e"
             ],
             [
              0.4444444444444444,
              "#bd3786"
             ],
             [
              0.5555555555555556,
              "#d8576b"
             ],
             [
              0.6666666666666666,
              "#ed7953"
             ],
             [
              0.7777777777777778,
              "#fb9f3a"
             ],
             [
              0.8888888888888888,
              "#fdca26"
             ],
             [
              1,
              "#f0f921"
             ]
            ],
            "type": "heatmap"
           }
          ],
          "heatmapgl": [
           {
            "colorbar": {
             "outlinewidth": 0,
             "ticks": ""
            },
            "colorscale": [
             [
              0,
              "#0d0887"
             ],
             [
              0.1111111111111111,
              "#46039f"
             ],
             [
              0.2222222222222222,
              "#7201a8"
             ],
             [
              0.3333333333333333,
              "#9c179e"
             ],
             [
              0.4444444444444444,
              "#bd3786"
             ],
             [
              0.5555555555555556,
              "#d8576b"
             ],
             [
              0.6666666666666666,
              "#ed7953"
             ],
             [
              0.7777777777777778,
              "#fb9f3a"
             ],
             [
              0.8888888888888888,
              "#fdca26"
             ],
             [
              1,
              "#f0f921"
             ]
            ],
            "type": "heatmapgl"
           }
          ],
          "histogram": [
           {
            "marker": {
             "colorbar": {
              "outlinewidth": 0,
              "ticks": ""
             }
            },
            "type": "histogram"
           }
          ],
          "histogram2d": [
           {
            "colorbar": {
             "outlinewidth": 0,
             "ticks": ""
            },
            "colorscale": [
             [
              0,
              "#0d0887"
             ],
             [
              0.1111111111111111,
              "#46039f"
             ],
             [
              0.2222222222222222,
              "#7201a8"
             ],
             [
              0.3333333333333333,
              "#9c179e"
             ],
             [
              0.4444444444444444,
              "#bd3786"
             ],
             [
              0.5555555555555556,
              "#d8576b"
             ],
             [
              0.6666666666666666,
              "#ed7953"
             ],
             [
              0.7777777777777778,
              "#fb9f3a"
             ],
             [
              0.8888888888888888,
              "#fdca26"
             ],
             [
              1,
              "#f0f921"
             ]
            ],
            "type": "histogram2d"
           }
          ],
          "histogram2dcontour": [
           {
            "colorbar": {
             "outlinewidth": 0,
             "ticks": ""
            },
            "colorscale": [
             [
              0,
              "#0d0887"
             ],
             [
              0.1111111111111111,
              "#46039f"
             ],
             [
              0.2222222222222222,
              "#7201a8"
             ],
             [
              0.3333333333333333,
              "#9c179e"
             ],
             [
              0.4444444444444444,
              "#bd3786"
             ],
             [
              0.5555555555555556,
              "#d8576b"
             ],
             [
              0.6666666666666666,
              "#ed7953"
             ],
             [
              0.7777777777777778,
              "#fb9f3a"
             ],
             [
              0.8888888888888888,
              "#fdca26"
             ],
             [
              1,
              "#f0f921"
             ]
            ],
            "type": "histogram2dcontour"
           }
          ],
          "mesh3d": [
           {
            "colorbar": {
             "outlinewidth": 0,
             "ticks": ""
            },
            "type": "mesh3d"
           }
          ],
          "parcoords": [
           {
            "line": {
             "colorbar": {
              "outlinewidth": 0,
              "ticks": ""
             }
            },
            "type": "parcoords"
           }
          ],
          "pie": [
           {
            "automargin": true,
            "type": "pie"
           }
          ],
          "scatter": [
           {
            "marker": {
             "colorbar": {
              "outlinewidth": 0,
              "ticks": ""
             }
            },
            "type": "scatter"
           }
          ],
          "scatter3d": [
           {
            "line": {
             "colorbar": {
              "outlinewidth": 0,
              "ticks": ""
             }
            },
            "marker": {
             "colorbar": {
              "outlinewidth": 0,
              "ticks": ""
             }
            },
            "type": "scatter3d"
           }
          ],
          "scattercarpet": [
           {
            "marker": {
             "colorbar": {
              "outlinewidth": 0,
              "ticks": ""
             }
            },
            "type": "scattercarpet"
           }
          ],
          "scattergeo": [
           {
            "marker": {
             "colorbar": {
              "outlinewidth": 0,
              "ticks": ""
             }
            },
            "type": "scattergeo"
           }
          ],
          "scattergl": [
           {
            "marker": {
             "colorbar": {
              "outlinewidth": 0,
              "ticks": ""
             }
            },
            "type": "scattergl"
           }
          ],
          "scattermapbox": [
           {
            "marker": {
             "colorbar": {
              "outlinewidth": 0,
              "ticks": ""
             }
            },
            "type": "scattermapbox"
           }
          ],
          "scatterpolar": [
           {
            "marker": {
             "colorbar": {
              "outlinewidth": 0,
              "ticks": ""
             }
            },
            "type": "scatterpolar"
           }
          ],
          "scatterpolargl": [
           {
            "marker": {
             "colorbar": {
              "outlinewidth": 0,
              "ticks": ""
             }
            },
            "type": "scatterpolargl"
           }
          ],
          "scatterternary": [
           {
            "marker": {
             "colorbar": {
              "outlinewidth": 0,
              "ticks": ""
             }
            },
            "type": "scatterternary"
           }
          ],
          "surface": [
           {
            "colorbar": {
             "outlinewidth": 0,
             "ticks": ""
            },
            "colorscale": [
             [
              0,
              "#0d0887"
             ],
             [
              0.1111111111111111,
              "#46039f"
             ],
             [
              0.2222222222222222,
              "#7201a8"
             ],
             [
              0.3333333333333333,
              "#9c179e"
             ],
             [
              0.4444444444444444,
              "#bd3786"
             ],
             [
              0.5555555555555556,
              "#d8576b"
             ],
             [
              0.6666666666666666,
              "#ed7953"
             ],
             [
              0.7777777777777778,
              "#fb9f3a"
             ],
             [
              0.8888888888888888,
              "#fdca26"
             ],
             [
              1,
              "#f0f921"
             ]
            ],
            "type": "surface"
           }
          ],
          "table": [
           {
            "cells": {
             "fill": {
              "color": "#EBF0F8"
             },
             "line": {
              "color": "white"
             }
            },
            "header": {
             "fill": {
              "color": "#C8D4E3"
             },
             "line": {
              "color": "white"
             }
            },
            "type": "table"
           }
          ]
         },
         "layout": {
          "annotationdefaults": {
           "arrowcolor": "#2a3f5f",
           "arrowhead": 0,
           "arrowwidth": 1
          },
          "coloraxis": {
           "colorbar": {
            "outlinewidth": 0,
            "ticks": ""
           }
          },
          "colorscale": {
           "diverging": [
            [
             0,
             "#8e0152"
            ],
            [
             0.1,
             "#c51b7d"
            ],
            [
             0.2,
             "#de77ae"
            ],
            [
             0.3,
             "#f1b6da"
            ],
            [
             0.4,
             "#fde0ef"
            ],
            [
             0.5,
             "#f7f7f7"
            ],
            [
             0.6,
             "#e6f5d0"
            ],
            [
             0.7,
             "#b8e186"
            ],
            [
             0.8,
             "#7fbc41"
            ],
            [
             0.9,
             "#4d9221"
            ],
            [
             1,
             "#276419"
            ]
           ],
           "sequential": [
            [
             0,
             "#0d0887"
            ],
            [
             0.1111111111111111,
             "#46039f"
            ],
            [
             0.2222222222222222,
             "#7201a8"
            ],
            [
             0.3333333333333333,
             "#9c179e"
            ],
            [
             0.4444444444444444,
             "#bd3786"
            ],
            [
             0.5555555555555556,
             "#d8576b"
            ],
            [
             0.6666666666666666,
             "#ed7953"
            ],
            [
             0.7777777777777778,
             "#fb9f3a"
            ],
            [
             0.8888888888888888,
             "#fdca26"
            ],
            [
             1,
             "#f0f921"
            ]
           ],
           "sequentialminus": [
            [
             0,
             "#0d0887"
            ],
            [
             0.1111111111111111,
             "#46039f"
            ],
            [
             0.2222222222222222,
             "#7201a8"
            ],
            [
             0.3333333333333333,
             "#9c179e"
            ],
            [
             0.4444444444444444,
             "#bd3786"
            ],
            [
             0.5555555555555556,
             "#d8576b"
            ],
            [
             0.6666666666666666,
             "#ed7953"
            ],
            [
             0.7777777777777778,
             "#fb9f3a"
            ],
            [
             0.8888888888888888,
             "#fdca26"
            ],
            [
             1,
             "#f0f921"
            ]
           ]
          },
          "colorway": [
           "#636efa",
           "#EF553B",
           "#00cc96",
           "#ab63fa",
           "#FFA15A",
           "#19d3f3",
           "#FF6692",
           "#B6E880",
           "#FF97FF",
           "#FECB52"
          ],
          "font": {
           "color": "#2a3f5f"
          },
          "geo": {
           "bgcolor": "white",
           "lakecolor": "white",
           "landcolor": "#E5ECF6",
           "showlakes": true,
           "showland": true,
           "subunitcolor": "white"
          },
          "hoverlabel": {
           "align": "left"
          },
          "hovermode": "closest",
          "mapbox": {
           "style": "light"
          },
          "paper_bgcolor": "white",
          "plot_bgcolor": "#E5ECF6",
          "polar": {
           "angularaxis": {
            "gridcolor": "white",
            "linecolor": "white",
            "ticks": ""
           },
           "bgcolor": "#E5ECF6",
           "radialaxis": {
            "gridcolor": "white",
            "linecolor": "white",
            "ticks": ""
           }
          },
          "scene": {
           "xaxis": {
            "backgroundcolor": "#E5ECF6",
            "gridcolor": "white",
            "gridwidth": 2,
            "linecolor": "white",
            "showbackground": true,
            "ticks": "",
            "zerolinecolor": "white"
           },
           "yaxis": {
            "backgroundcolor": "#E5ECF6",
            "gridcolor": "white",
            "gridwidth": 2,
            "linecolor": "white",
            "showbackground": true,
            "ticks": "",
            "zerolinecolor": "white"
           },
           "zaxis": {
            "backgroundcolor": "#E5ECF6",
            "gridcolor": "white",
            "gridwidth": 2,
            "linecolor": "white",
            "showbackground": true,
            "ticks": "",
            "zerolinecolor": "white"
           }
          },
          "shapedefaults": {
           "line": {
            "color": "#2a3f5f"
           }
          },
          "ternary": {
           "aaxis": {
            "gridcolor": "white",
            "linecolor": "white",
            "ticks": ""
           },
           "baxis": {
            "gridcolor": "white",
            "linecolor": "white",
            "ticks": ""
           },
           "bgcolor": "#E5ECF6",
           "caxis": {
            "gridcolor": "white",
            "linecolor": "white",
            "ticks": ""
           }
          },
          "title": {
           "x": 0.05
          },
          "xaxis": {
           "automargin": true,
           "gridcolor": "white",
           "linecolor": "white",
           "ticks": "",
           "title": {
            "standoff": 15
           },
           "zerolinecolor": "white",
           "zerolinewidth": 2
          },
          "yaxis": {
           "automargin": true,
           "gridcolor": "white",
           "linecolor": "white",
           "ticks": "",
           "title": {
            "standoff": 15
           },
           "zerolinecolor": "white",
           "zerolinewidth": 2
          }
         }
        },
        "title": {
         "text": "Edad vs Ingreso"
        },
        "xaxis": {
         "anchor": "y",
         "domain": [
          0,
          1
         ],
         "title": {
          "text": "Edad"
         }
        },
        "yaxis": {
         "anchor": "x",
         "domain": [
          0,
          1
         ],
         "title": {
          "text": "Ingresos"
         }
        }
       }
      },
      "text/html": [
       "<div>                            <div id=\"b71f1829-47ab-44d0-b1f7-29ebaf96179f\" class=\"plotly-graph-div\" style=\"height:525px; width:100%;\"></div>            <script type=\"text/javascript\">                require([\"plotly\"], function(Plotly) {                    window.PLOTLYENV=window.PLOTLYENV || {};                                    if (document.getElementById(\"b71f1829-47ab-44d0-b1f7-29ebaf96179f\")) {                    Plotly.newPlot(                        \"b71f1829-47ab-44d0-b1f7-29ebaf96179f\",                        [{\"hovertemplate\": \"Edad=%{x}<br>Ingresos=%{y}<extra></extra>\", \"legendgroup\": \"\", \"marker\": {\"color\": \"#636efa\", \"symbol\": \"circle\"}, \"mode\": \"markers\", \"name\": \"\", \"orientation\": \"v\", \"showlegend\": false, \"type\": \"scatter\", \"x\": [16, 62, 27, 61, 24, 40, 63, 54, 69, 13, 49, 34, 47, 26, 70, 4, 45, 41, 32, 23, 37, 4, 1, 6, 42, 23, 43, 39, 59, 45, 68, 60, 3, 54, 44, 38, 56, 45, 9, 65, 41, 35, 28, 43, 7, 63, 32, 54, 15, 62, 58, 44, 54, 66, 5, 24, 62, 66, 68, 23, 42, 66, 59, 16, 17, 45, 3, 47, 68, 35, 37, 20, 36, 67, 54, 14, 52, 34, 59, 68, 64, 67, 5, 62, 25, 20, 35, 45, 14, 66, 64, 25, 51, 26, 33, 25, 59, 21, 27, 31, 4, 50, 34, 19, 48, 9, 0, 37, 27, 57, 53, 20, 65, 49, 51, 10, 61, 56, 52, 64, 34, 61, 13, 28, 9, 53, 41, 7, 24, 1, 53, 42, 16, 37, 26, 69, 34, 22, 5, 39, 29, 45, 15, 65, 48, 33, 38, 66, 54, 3, 57, 36, 45, 27, 55, 55, 50, 17, 7, 44, 38, 16, 62, 5, 39, 11, 53, 25, 10, 8, 41, 19, 25, 40, 56, 39, 63, 29, 32, 50, 67, 42, 21, 56, 63, 13, 1, 16, 59, 45, 29, 40, 49, 55, 40, 49, 56, 36, 9, 30, 3, 50, 4, 61, 45, 15, 56, 42, 61, 28, 16, 58, 51, 59, 49, 20, 14, 21, 18, 25, 44, 5, 59, 42, 8, 32, 48, 49, 23, 18, 43, 24, 16, 11, 65, 65, 49, 39, 53, 45, 57, 65, 54, 14, 26, 69, 4, 64, 21, 42, 57, 30, 40, 55, 11, 15, 27, 8, 17, 40, 69, 44, 26, 40, 33, 24, 30, 28, 19, 47, 13, 69, 17, 43, 56, 63, 24, 31, 67, 67, 58, 67, 59, 19, 16, 27, 48, 17, 28, 51, 60, 21, 8, 38, 4, 3, 28, 21, 32, 13, 47, 28, 31, 2, 51, 21, 56, 66, 19, 60, 55, 5, 12, 37, 55, 58, 56, 4, 33, 65, 68, 6, 55, 57, 51, 44, 67, 42, 33, 2, 13, 23, 66, 10, 38, 56, 2, 21, 12, 10, 45, 49, 17, 48, 24, 43, 37, 53, 29, 5, 29, 63, 67, 10, 15, 59, 58, 58, 47, 60, 40, 35, 24, 10, 41, 32, 29, 26, 5, 64, 64, 30, 67, 62, 45, 2, 6, 61, 23, 27, 28, 19, 30, 15, 15, 36, 33, 54, 3, 64, 3, 69, 43, 63, 63, 3, 25, 4, 7, 55, 42, 36, 4, 33, 37, 7, 64, 8, 38, 33, 7, 34, 65, 45, 36, 65, 38, 16, 35, 57, 42, 32, 63, 1, 12, 65, 59, 59, 48, 53, 42, 13, 60, 7, 56, 2, 17, 20, 52, 53, 69, 44, 49, 16, 62, 47, 24, 62, 6, 46, 67, 59, 29, 11, 38, 32, 61, 31, 69, 30, 70, 22, 33, 18, 13, 15, 41, 0, 64, 56, 16, 54, 54, 16, 20, 69, 4, 40, 27, 8, 57, 17, 19, 11, 42, 23, 45, 30, 46, 24, 56, 3, 24, 50, 62, 62, 31, 57, 23, 39, 57, 40, 5, 62, 64, 28, 41, 9, 32, 7, 42, 60, 19, 63, 52, 25, 22, 4, 32, 69, 28, 22, 30, 19, 44, 44, 59, 67, 53, 17, 49, 18, 63, 14, 1, 4, 3, 12, 24, 12, 67, 30, 18, 45, 57, 40, 67, 63, 67, 20, 31, 55, 20, 32, 3, 22, 29, 56, 16, 32, 61, 69, 10, 13, 48, 42, 3, 55, 70, 14, 14, 37, 63, 42, 42, 61, 12, 47, 4, 16, 26, 66, 12, 70, 43, 63, 0, 14, 58, 50, 19, 22, 1, 14, 53, 14, 31, 14, 66, 27, 16, 55, 7, 6, 25, 38, 51, 4, 64, 29, 62, 66, 19, 34, 46, 50, 14, 24, 46, 3, 12, 13, 52, 68, 65, 53, 22, 12, 26, 48, 57, 41, 51, 64, 17, 40, 13, 53, 11, 25, 63, 22, 34, 50, 34, 57, 37, 21, 15, 35, 46, 26, 66, 24, 25, 6, 61, 46, 4, 12, 16, 46, 36, 30, 2, 13, 37, 33, 35, 66, 41, 24, 50, 6, 47, 7, 22, 52, 43, 50, 40, 59, 7, 36, 23, 45, 13, 33, 65, 6, 49, 50, 34, 24, 15, 53, 36, 16, 6, 49, 15, 28, 63, 64, 29, 41, 23, 62, 45, 69, 4, 66, 64, 14, 66, 38, 6, 7, 61, 43, 36, 24, 29, 50, 31, 39, 8, 15, 20, 10, 30, 30, 48, 15, 39, 17, 43, 58, 8, 5, 4, 9, 5, 45, 55, 19, 51, 37, 16, 3, 48, 67, 41, 44, 36, 6, 22, 42, 20, 19, 35, 65, 62, 43, 9, 59, 15], \"xaxis\": \"x\", \"y\": [24177, 43386, 49929, 695, 15015, 33501, 23469, 34550, 49733, 33626, 38198, 18536, 49089, 18270, 23288, 43783, 10156, 3632, 7294, 276, 7423, 24002, 39490, 14970, 7122, 30464, 8965, 35782, 238, 42229, 32970, 46878, 49858, 21893, 30425, 7792, 44071, 5938, 40862, 35684, 8517, 3413, 22434, 18932, 22300, 17247, 44032, 35757, 38920, 23419, 14495, 43967, 18186, 890, 29789, 30946, 34392, 45740, 37352, 24156, 13237, 41981, 23039, 25849, 1349, 9234, 12603, 17166, 41883, 23809, 42055, 2072, 24435, 7185, 24586, 18817, 17534, 48821, 577, 44564, 49983, 37777, 6251, 27743, 29723, 13532, 20131, 25537, 2784, 22416, 15314, 39541, 13835, 40852, 32211, 25083, 29662, 38048, 12551, 16622, 1412, 29586, 31288, 35574, 26038, 32600, 8398, 7525, 45718, 45187, 20711, 28737, 49194, 38452, 4854, 26526, 47389, 15687, 13702, 48763, 21885, 34892, 34099, 27398, 23818, 25766, 26792, 46882, 39055, 24026, 30486, 3308, 30515, 30367, 17924, 37256, 980, 18068, 49397, 44636, 39552, 15306, 45950, 38940, 17280, 16193, 40977, 41029, 2002, 8793, 10433, 31285, 33177, 25251, 46409, 34618, 16370, 22847, 4192, 39195, 40257, 9232, 10685, 16274, 29607, 26767, 21830, 37814, 29529, 5639, 35071, 31818, 30817, 14063, 46007, 29421, 31249, 46351, 5285, 34780, 26152, 42325, 35368, 9629, 23754, 4884, 14462, 10983, 42995, 43075, 9551, 41747, 6465, 21982, 9114, 41032, 26075, 28018, 16311, 28764, 30823, 28375, 5947, 37055, 3271, 11184, 1078, 10040, 779, 38004, 18401, 44006, 451, 37925, 17530, 21516, 43694, 2676, 2181, 27037, 44366, 38277, 24692, 17332, 23548, 33936, 29695, 24939, 27538, 33838, 11928, 42915, 6236, 25197, 23691, 36860, 43928, 38214, 31604, 35765, 499, 10104, 44135, 19978, 7326, 2977, 49494, 21065, 14643, 22034, 33494, 12436, 27417, 45792, 36178, 40978, 18066, 45874, 32243, 19722, 1138, 46346, 15284, 25246, 26088, 37615, 36675, 21929, 27290, 21696, 48832, 16428, 25447, 3501, 40099, 23202, 43593, 9096, 6204, 39687, 49358, 31596, 1230, 1723, 13182, 1811, 29396, 234, 16782, 31607, 3867, 20333, 29347, 4770, 31800, 18801, 1305, 24802, 17455, 28354, 21261, 13668, 35247, 4501, 29752, 49590, 12434, 7021, 47979, 46411, 25026, 32526, 14504, 23238, 46101, 20060, 45956, 28211, 6130, 37095, 28793, 2626, 43079, 31448, 17934, 39370, 47981, 18457, 25581, 42543, 17245, 28906, 16410, 21863, 28333, 10965, 46159, 10456, 11652, 18369, 47796, 14222, 3796, 23418, 37539, 29847, 45702, 6197, 18937, 40815, 31503, 7418, 18778, 12028, 21431, 39875, 1761, 8327, 9770, 40868, 26873, 11193, 13819, 6776, 25158, 37433, 17354, 47287, 34654, 37145, 37099, 48745, 29054, 43615, 28332, 5127, 14029, 1606, 48749, 45457, 49544, 1961, 20901, 23770, 21921, 31571, 3555, 22835, 30954, 24758, 46862, 17211, 21936, 22974, 8621, 33912, 28962, 41155, 33873, 44416, 6467, 2816, 12057, 11324, 38852, 40804, 39010, 5942, 21829, 19804, 3172, 39063, 32732, 2046, 26020, 17296, 42371, 35054, 40541, 1338, 16954, 374, 20786, 35026, 20770, 19409, 39463, 28065, 39112, 9099, 149, 25257, 10597, 5439, 32696, 11794, 18293, 41598, 48162, 10250, 12470, 29771, 41357, 29566, 16420, 1985, 33746, 48816, 20966, 15307, 33175, 48190, 32743, 2472, 32332, 9449, 25569, 15354, 20102, 19177, 9979, 48366, 39152, 25332, 17010, 10935, 3377, 6181, 32455, 10170, 1851, 43995, 29904, 30257, 28219, 32535, 36977, 44121, 49891, 32319, 30997, 48966, 40507, 11397, 41558, 14170, 10818, 29612, 44386, 4184, 9144, 28480, 4913, 30906, 20657, 23133, 6858, 7237, 16274, 3247, 30188, 17879, 23684, 12247, 40636, 33534, 26679, 11767, 29819, 28086, 13236, 28046, 31700, 20176, 345, 7751, 22060, 27494, 4979, 13542, 5231, 25407, 20681, 37307, 19607, 26252, 722, 40409, 43024, 31237, 21989, 22500, 8651, 41519, 18420, 36118, 37032, 10104, 11405, 48497, 35395, 43831, 38587, 18439, 4234, 16981, 45574, 25184, 3172, 168, 4988, 27980, 16114, 42764, 31508, 42485, 3798, 6314, 21541, 15984, 18695, 38657, 35581, 37841, 6961, 10085, 39965, 41628, 17363, 2309, 71, 23633, 16599, 29894, 18547, 4913, 7706, 18197, 1567, 30028, 16892, 23597, 29113, 42797, 25454, 26508, 36453, 12667, 20938, 32799, 27685, 4029, 35000, 35685, 26619, 44836, 4929, 48766, 7510, 12466, 49787, 25789, 4987, 30144, 29634, 42437, 47034, 28647, 43855, 18018, 13930, 2762, 997, 33032, 43789, 33725, 4225, 40985, 11482, 7286, 6257, 45328, 18811, 34071, 21738, 28768, 23265, 24786, 38738, 12055, 31366, 31289, 30489, 34014, 11353, 23895, 44509, 38543, 44069, 34934, 11188, 27440, 33449, 13948, 49614, 18808, 21551, 16260, 41437, 49089, 21049, 31906, 17272, 14075, 22680, 7403, 31304, 13368, 12041, 28417, 36329, 31742, 32579, 31676, 34899, 34648, 19227, 16942, 38975, 12982, 39548, 40832, 13814, 42283, 21245, 7153, 47338, 19730, 2434, 40486, 43527, 4275, 21574, 2150, 47002, 22138, 1094, 4688, 5004, 27717, 32678, 43963, 45567, 29035, 49644, 46688, 34333, 49817, 32735, 45979, 35068, 8381, 6212, 10556, 20637, 16324, 40516, 22403, 35654, 6944, 5158, 12267, 44978, 23356, 12113, 1751, 45760, 39901, 11155, 45818, 30628, 34479, 20505, 48412, 13347, 22967, 48434, 26134, 48629, 37785, 16893, 19378, 10549, 864, 21643, 43676, 39659, 42667, 43358, 34072, 20061, 3749, 20821, 1727, 27421, 28848, 24138, 474, 11745, 37124, 27749, 9435, 41685, 22484, 25197, 2344, 36680, 6541, 28058, 27538, 4740, 20429, 5280, 11855, 7230, 2039, 12497], \"yaxis\": \"y\"}],                        {\"legend\": {\"tracegroupgap\": 0}, \"template\": {\"data\": {\"bar\": [{\"error_x\": {\"color\": \"#2a3f5f\"}, \"error_y\": {\"color\": \"#2a3f5f\"}, \"marker\": {\"line\": {\"color\": \"#E5ECF6\", \"width\": 0.5}}, \"type\": \"bar\"}], \"barpolar\": [{\"marker\": {\"line\": {\"color\": \"#E5ECF6\", \"width\": 0.5}}, \"type\": \"barpolar\"}], \"carpet\": [{\"aaxis\": {\"endlinecolor\": \"#2a3f5f\", \"gridcolor\": \"white\", \"linecolor\": \"white\", \"minorgridcolor\": \"white\", \"startlinecolor\": \"#2a3f5f\"}, \"baxis\": {\"endlinecolor\": \"#2a3f5f\", \"gridcolor\": \"white\", \"linecolor\": \"white\", \"minorgridcolor\": \"white\", \"startlinecolor\": \"#2a3f5f\"}, \"type\": \"carpet\"}], \"choropleth\": [{\"colorbar\": {\"outlinewidth\": 0, \"ticks\": \"\"}, \"type\": \"choropleth\"}], \"contour\": [{\"colorbar\": {\"outlinewidth\": 0, \"ticks\": \"\"}, \"colorscale\": [[0.0, \"#0d0887\"], [0.1111111111111111, \"#46039f\"], [0.2222222222222222, \"#7201a8\"], [0.3333333333333333, \"#9c179e\"], [0.4444444444444444, \"#bd3786\"], [0.5555555555555556, \"#d8576b\"], [0.6666666666666666, \"#ed7953\"], [0.7777777777777778, \"#fb9f3a\"], [0.8888888888888888, \"#fdca26\"], [1.0, \"#f0f921\"]], \"type\": \"contour\"}], \"contourcarpet\": [{\"colorbar\": {\"outlinewidth\": 0, \"ticks\": \"\"}, \"type\": \"contourcarpet\"}], \"heatmap\": [{\"colorbar\": {\"outlinewidth\": 0, \"ticks\": \"\"}, \"colorscale\": [[0.0, \"#0d0887\"], [0.1111111111111111, \"#46039f\"], [0.2222222222222222, \"#7201a8\"], [0.3333333333333333, \"#9c179e\"], [0.4444444444444444, \"#bd3786\"], [0.5555555555555556, \"#d8576b\"], [0.6666666666666666, \"#ed7953\"], [0.7777777777777778, \"#fb9f3a\"], [0.8888888888888888, \"#fdca26\"], [1.0, \"#f0f921\"]], \"type\": \"heatmap\"}], \"heatmapgl\": [{\"colorbar\": {\"outlinewidth\": 0, \"ticks\": \"\"}, \"colorscale\": [[0.0, \"#0d0887\"], [0.1111111111111111, \"#46039f\"], [0.2222222222222222, \"#7201a8\"], [0.3333333333333333, \"#9c179e\"], [0.4444444444444444, \"#bd3786\"], [0.5555555555555556, \"#d8576b\"], [0.6666666666666666, \"#ed7953\"], [0.7777777777777778, \"#fb9f3a\"], [0.8888888888888888, \"#fdca26\"], [1.0, \"#f0f921\"]], \"type\": \"heatmapgl\"}], \"histogram\": [{\"marker\": {\"colorbar\": {\"outlinewidth\": 0, \"ticks\": \"\"}}, \"type\": \"histogram\"}], \"histogram2d\": [{\"colorbar\": {\"outlinewidth\": 0, \"ticks\": \"\"}, \"colorscale\": [[0.0, \"#0d0887\"], [0.1111111111111111, \"#46039f\"], [0.2222222222222222, \"#7201a8\"], [0.3333333333333333, \"#9c179e\"], [0.4444444444444444, \"#bd3786\"], [0.5555555555555556, \"#d8576b\"], [0.6666666666666666, \"#ed7953\"], [0.7777777777777778, \"#fb9f3a\"], [0.8888888888888888, \"#fdca26\"], [1.0, \"#f0f921\"]], \"type\": \"histogram2d\"}], \"histogram2dcontour\": [{\"colorbar\": {\"outlinewidth\": 0, \"ticks\": \"\"}, \"colorscale\": [[0.0, \"#0d0887\"], [0.1111111111111111, \"#46039f\"], [0.2222222222222222, \"#7201a8\"], [0.3333333333333333, \"#9c179e\"], [0.4444444444444444, \"#bd3786\"], [0.5555555555555556, \"#d8576b\"], [0.6666666666666666, \"#ed7953\"], [0.7777777777777778, \"#fb9f3a\"], [0.8888888888888888, \"#fdca26\"], [1.0, \"#f0f921\"]], \"type\": \"histogram2dcontour\"}], \"mesh3d\": [{\"colorbar\": {\"outlinewidth\": 0, \"ticks\": \"\"}, \"type\": \"mesh3d\"}], \"parcoords\": [{\"line\": {\"colorbar\": {\"outlinewidth\": 0, \"ticks\": \"\"}}, \"type\": \"parcoords\"}], \"pie\": [{\"automargin\": true, \"type\": \"pie\"}], \"scatter\": [{\"marker\": {\"colorbar\": {\"outlinewidth\": 0, \"ticks\": \"\"}}, \"type\": \"scatter\"}], \"scatter3d\": [{\"line\": {\"colorbar\": {\"outlinewidth\": 0, \"ticks\": \"\"}}, \"marker\": {\"colorbar\": {\"outlinewidth\": 0, \"ticks\": \"\"}}, \"type\": \"scatter3d\"}], \"scattercarpet\": [{\"marker\": {\"colorbar\": {\"outlinewidth\": 0, \"ticks\": \"\"}}, \"type\": \"scattercarpet\"}], \"scattergeo\": [{\"marker\": {\"colorbar\": {\"outlinewidth\": 0, \"ticks\": \"\"}}, \"type\": \"scattergeo\"}], \"scattergl\": [{\"marker\": {\"colorbar\": {\"outlinewidth\": 0, \"ticks\": \"\"}}, \"type\": \"scattergl\"}], \"scattermapbox\": [{\"marker\": {\"colorbar\": {\"outlinewidth\": 0, \"ticks\": \"\"}}, \"type\": \"scattermapbox\"}], \"scatterpolar\": [{\"marker\": {\"colorbar\": {\"outlinewidth\": 0, \"ticks\": \"\"}}, \"type\": \"scatterpolar\"}], \"scatterpolargl\": [{\"marker\": {\"colorbar\": {\"outlinewidth\": 0, \"ticks\": \"\"}}, \"type\": \"scatterpolargl\"}], \"scatterternary\": [{\"marker\": {\"colorbar\": {\"outlinewidth\": 0, \"ticks\": \"\"}}, \"type\": \"scatterternary\"}], \"surface\": [{\"colorbar\": {\"outlinewidth\": 0, \"ticks\": \"\"}, \"colorscale\": [[0.0, \"#0d0887\"], [0.1111111111111111, \"#46039f\"], [0.2222222222222222, \"#7201a8\"], [0.3333333333333333, \"#9c179e\"], [0.4444444444444444, \"#bd3786\"], [0.5555555555555556, \"#d8576b\"], [0.6666666666666666, \"#ed7953\"], [0.7777777777777778, \"#fb9f3a\"], [0.8888888888888888, \"#fdca26\"], [1.0, \"#f0f921\"]], \"type\": \"surface\"}], \"table\": [{\"cells\": {\"fill\": {\"color\": \"#EBF0F8\"}, \"line\": {\"color\": \"white\"}}, \"header\": {\"fill\": {\"color\": \"#C8D4E3\"}, \"line\": {\"color\": \"white\"}}, \"type\": \"table\"}]}, \"layout\": {\"annotationdefaults\": {\"arrowcolor\": \"#2a3f5f\", \"arrowhead\": 0, \"arrowwidth\": 1}, \"coloraxis\": {\"colorbar\": {\"outlinewidth\": 0, \"ticks\": \"\"}}, \"colorscale\": {\"diverging\": [[0, \"#8e0152\"], [0.1, \"#c51b7d\"], [0.2, \"#de77ae\"], [0.3, \"#f1b6da\"], [0.4, \"#fde0ef\"], [0.5, \"#f7f7f7\"], [0.6, \"#e6f5d0\"], [0.7, \"#b8e186\"], [0.8, \"#7fbc41\"], [0.9, \"#4d9221\"], [1, \"#276419\"]], \"sequential\": [[0.0, \"#0d0887\"], [0.1111111111111111, \"#46039f\"], [0.2222222222222222, \"#7201a8\"], [0.3333333333333333, \"#9c179e\"], [0.4444444444444444, \"#bd3786\"], [0.5555555555555556, \"#d8576b\"], [0.6666666666666666, \"#ed7953\"], [0.7777777777777778, \"#fb9f3a\"], [0.8888888888888888, \"#fdca26\"], [1.0, \"#f0f921\"]], \"sequentialminus\": [[0.0, \"#0d0887\"], [0.1111111111111111, \"#46039f\"], [0.2222222222222222, \"#7201a8\"], [0.3333333333333333, \"#9c179e\"], [0.4444444444444444, \"#bd3786\"], [0.5555555555555556, \"#d8576b\"], [0.6666666666666666, \"#ed7953\"], [0.7777777777777778, \"#fb9f3a\"], [0.8888888888888888, \"#fdca26\"], [1.0, \"#f0f921\"]]}, \"colorway\": [\"#636efa\", \"#EF553B\", \"#00cc96\", \"#ab63fa\", \"#FFA15A\", \"#19d3f3\", \"#FF6692\", \"#B6E880\", \"#FF97FF\", \"#FECB52\"], \"font\": {\"color\": \"#2a3f5f\"}, \"geo\": {\"bgcolor\": \"white\", \"lakecolor\": \"white\", \"landcolor\": \"#E5ECF6\", \"showlakes\": true, \"showland\": true, \"subunitcolor\": \"white\"}, \"hoverlabel\": {\"align\": \"left\"}, \"hovermode\": \"closest\", \"mapbox\": {\"style\": \"light\"}, \"paper_bgcolor\": \"white\", \"plot_bgcolor\": \"#E5ECF6\", \"polar\": {\"angularaxis\": {\"gridcolor\": \"white\", \"linecolor\": \"white\", \"ticks\": \"\"}, \"bgcolor\": \"#E5ECF6\", \"radialaxis\": {\"gridcolor\": \"white\", \"linecolor\": \"white\", \"ticks\": \"\"}}, \"scene\": {\"xaxis\": {\"backgroundcolor\": \"#E5ECF6\", \"gridcolor\": \"white\", \"gridwidth\": 2, \"linecolor\": \"white\", \"showbackground\": true, \"ticks\": \"\", \"zerolinecolor\": \"white\"}, \"yaxis\": {\"backgroundcolor\": \"#E5ECF6\", \"gridcolor\": \"white\", \"gridwidth\": 2, \"linecolor\": \"white\", \"showbackground\": true, \"ticks\": \"\", \"zerolinecolor\": \"white\"}, \"zaxis\": {\"backgroundcolor\": \"#E5ECF6\", \"gridcolor\": \"white\", \"gridwidth\": 2, \"linecolor\": \"white\", \"showbackground\": true, \"ticks\": \"\", \"zerolinecolor\": \"white\"}}, \"shapedefaults\": {\"line\": {\"color\": \"#2a3f5f\"}}, \"ternary\": {\"aaxis\": {\"gridcolor\": \"white\", \"linecolor\": \"white\", \"ticks\": \"\"}, \"baxis\": {\"gridcolor\": \"white\", \"linecolor\": \"white\", \"ticks\": \"\"}, \"bgcolor\": \"#E5ECF6\", \"caxis\": {\"gridcolor\": \"white\", \"linecolor\": \"white\", \"ticks\": \"\"}}, \"title\": {\"x\": 0.05}, \"xaxis\": {\"automargin\": true, \"gridcolor\": \"white\", \"linecolor\": \"white\", \"ticks\": \"\", \"title\": {\"standoff\": 15}, \"zerolinecolor\": \"white\", \"zerolinewidth\": 2}, \"yaxis\": {\"automargin\": true, \"gridcolor\": \"white\", \"linecolor\": \"white\", \"ticks\": \"\", \"title\": {\"standoff\": 15}, \"zerolinecolor\": \"white\", \"zerolinewidth\": 2}}}, \"title\": {\"text\": \"Edad vs Ingreso\"}, \"xaxis\": {\"anchor\": \"y\", \"domain\": [0.0, 1.0], \"title\": {\"text\": \"Edad\"}}, \"yaxis\": {\"anchor\": \"x\", \"domain\": [0.0, 1.0], \"title\": {\"text\": \"Ingresos\"}}},                        {\"responsive\": true}                    ).then(function(){\n",
       "                            \n",
       "var gd = document.getElementById('b71f1829-47ab-44d0-b1f7-29ebaf96179f');\n",
       "var x = new MutationObserver(function (mutations, observer) {{\n",
       "        var display = window.getComputedStyle(gd).display;\n",
       "        if (!display || display === 'none') {{\n",
       "            console.log([gd, 'removed!']);\n",
       "            Plotly.purge(gd);\n",
       "            observer.disconnect();\n",
       "        }}\n",
       "}});\n",
       "\n",
       "// Listen for the removal of the full notebook cells\n",
       "var notebookContainer = gd.closest('#notebook-container');\n",
       "if (notebookContainer) {{\n",
       "    x.observe(notebookContainer, {childList: true});\n",
       "}}\n",
       "\n",
       "// Listen for the clearing of the current output cell\n",
       "var outputEl = gd.closest('.output');\n",
       "if (outputEl) {{\n",
       "    x.observe(outputEl, {childList: true});\n",
       "}}\n",
       "\n",
       "                        })                };                });            </script>        </div>"
      ]
     },
     "metadata": {},
     "output_type": "display_data"
    }
   ],
   "source": [
    "fig = px.scatter(df, x=\"Edad\", y=\"Ingresos\", title='Edad vs Ingreso') #no hay una tendencia\n",
    "fig.show()"
   ]
  },
  {
   "cell_type": "code",
   "execution_count": 33,
   "metadata": {
    "scrolled": false
   },
   "outputs": [
    {
     "data": {
      "application/vnd.plotly.v1+json": {
       "config": {
        "plotlyServerURL": "https://plot.ly"
       },
       "data": [
        {
         "hovertemplate": "Antigüedad=%{x}<br>Ingresos=%{y}<extra></extra>",
         "legendgroup": "",
         "marker": {
          "color": "#636efa",
          "symbol": "circle"
         },
         "mode": "markers",
         "name": "",
         "orientation": "v",
         "showlegend": false,
         "type": "scatter",
         "x": [
          33,
          49,
          26,
          7,
          31,
          27,
          49,
          13,
          44,
          38,
          20,
          53,
          12,
          35,
          37,
          36,
          17,
          11,
          12,
          28,
          48,
          42,
          16,
          60,
          23,
          29,
          54,
          14,
          38,
          26,
          4,
          3,
          3,
          51,
          56,
          33,
          26,
          59,
          13,
          57,
          32,
          56,
          8,
          54,
          59,
          44,
          13,
          45,
          56,
          11,
          49,
          59,
          6,
          38,
          50,
          21,
          50,
          59,
          34,
          24,
          45,
          3,
          60,
          38,
          59,
          25,
          56,
          6,
          42,
          4,
          48,
          21,
          60,
          23,
          54,
          6,
          34,
          9,
          12,
          2,
          8,
          35,
          28,
          10,
          51,
          51,
          2,
          19,
          1,
          20,
          44,
          19,
          3,
          25,
          4,
          27,
          54,
          44,
          30,
          56,
          59,
          21,
          7,
          6,
          24,
          31,
          45,
          36,
          49,
          41,
          48,
          49,
          43,
          52,
          9,
          21,
          44,
          0,
          3,
          31,
          29,
          42,
          54,
          27,
          36,
          28,
          22,
          51,
          26,
          38,
          19,
          54,
          32,
          44,
          21,
          48,
          19,
          18,
          33,
          36,
          32,
          6,
          28,
          43,
          24,
          39,
          45,
          31,
          36,
          52,
          57,
          27,
          54,
          52,
          57,
          23,
          0,
          57,
          37,
          23,
          20,
          46,
          5,
          11,
          16,
          4,
          21,
          13,
          27,
          55,
          33,
          50,
          44,
          16,
          47,
          40,
          27,
          21,
          58,
          32,
          12,
          18,
          60,
          10,
          59,
          17,
          57,
          5,
          44,
          42,
          30,
          10,
          20,
          42,
          20,
          19,
          57,
          44,
          37,
          38,
          40,
          3,
          11,
          53,
          12,
          11,
          2,
          47,
          55,
          36,
          24,
          30,
          9,
          59,
          43,
          34,
          12,
          1,
          55,
          49,
          29,
          8,
          27,
          24,
          51,
          39,
          24,
          22,
          23,
          41,
          5,
          14,
          53,
          16,
          28,
          15,
          23,
          33,
          37,
          11,
          11,
          30,
          4,
          12,
          31,
          36,
          36,
          25,
          12,
          27,
          10,
          27,
          16,
          50,
          9,
          60,
          60,
          13,
          32,
          2,
          18,
          29,
          38,
          34,
          22,
          20,
          7,
          36,
          18,
          53,
          26,
          46,
          31,
          17,
          38,
          19,
          49,
          20,
          15,
          50,
          4,
          58,
          14,
          23,
          34,
          59,
          44,
          12,
          45,
          37,
          16,
          22,
          18,
          57,
          38,
          39,
          43,
          15,
          33,
          5,
          24,
          57,
          44,
          11,
          40,
          15,
          27,
          20,
          56,
          46,
          49,
          53,
          57,
          36,
          2,
          31,
          38,
          14,
          11,
          37,
          8,
          39,
          38,
          18,
          2,
          5,
          17,
          0,
          1,
          3,
          11,
          34,
          28,
          53,
          29,
          26,
          44,
          54,
          17,
          22,
          57,
          9,
          15,
          24,
          59,
          32,
          21,
          42,
          52,
          42,
          34,
          55,
          40,
          15,
          13,
          21,
          7,
          8,
          46,
          50,
          3,
          40,
          37,
          38,
          55,
          3,
          39,
          51,
          2,
          2,
          45,
          36,
          8,
          36,
          40,
          45,
          2,
          45,
          15,
          5,
          4,
          1,
          59,
          50,
          30,
          1,
          28,
          53,
          45,
          47,
          27,
          21,
          36,
          16,
          27,
          40,
          3,
          32,
          2,
          36,
          54,
          15,
          27,
          19,
          36,
          10,
          57,
          21,
          37,
          18,
          50,
          43,
          43,
          6,
          37,
          26,
          12,
          45,
          15,
          3,
          26,
          7,
          36,
          13,
          45,
          46,
          59,
          27,
          44,
          56,
          31,
          47,
          9,
          12,
          48,
          21,
          44,
          41,
          56,
          27,
          9,
          58,
          2,
          31,
          51,
          42,
          4,
          26,
          5,
          1,
          26,
          59,
          29,
          53,
          37,
          57,
          13,
          59,
          32,
          20,
          39,
          28,
          15,
          19,
          12,
          26,
          10,
          56,
          33,
          54,
          10,
          25,
          30,
          51,
          22,
          30,
          1,
          19,
          24,
          0,
          49,
          26,
          5,
          10,
          7,
          50,
          55,
          40,
          18,
          39,
          31,
          26,
          30,
          4,
          2,
          17,
          10,
          8,
          18,
          34,
          1,
          4,
          14,
          35,
          44,
          27,
          13,
          59,
          35,
          29,
          4,
          58,
          17,
          46,
          35,
          5,
          28,
          46,
          5,
          35,
          17,
          54,
          29,
          11,
          17,
          37,
          40,
          47,
          32,
          49,
          36,
          33,
          17,
          5,
          30,
          18,
          8,
          38,
          45,
          34,
          5,
          35,
          0,
          19,
          44,
          17,
          26,
          46,
          27,
          31,
          8,
          18,
          33,
          33,
          59,
          7,
          50,
          34,
          45,
          10,
          38,
          4,
          46,
          50,
          21,
          16,
          59,
          54,
          20,
          19,
          17,
          14,
          50,
          39,
          22,
          57,
          26,
          55,
          52,
          45,
          1,
          1,
          15,
          49,
          57,
          18,
          53,
          1,
          14,
          39,
          16,
          37,
          40,
          48,
          17,
          27,
          30,
          55,
          15,
          25,
          45,
          49,
          9,
          37,
          34,
          26,
          29,
          44,
          60,
          20,
          44,
          53,
          14,
          23,
          58,
          1,
          48,
          5,
          14,
          22,
          17,
          33,
          5,
          2,
          1,
          19,
          26,
          17,
          60,
          42,
          54,
          27,
          2,
          1,
          56,
          42,
          4,
          25,
          49,
          28,
          13,
          31,
          39,
          29,
          20,
          11,
          2,
          3,
          2,
          20,
          56,
          39,
          1,
          44,
          47,
          10,
          23,
          38,
          46,
          31,
          38,
          27,
          45,
          11,
          7,
          25,
          10,
          21,
          27,
          31,
          54,
          12,
          28,
          47,
          33,
          48,
          36,
          9,
          51,
          31,
          31,
          11,
          44,
          59,
          31,
          33,
          19,
          13,
          38,
          28,
          49,
          52,
          56,
          28,
          20,
          18,
          37,
          31,
          16,
          50,
          34,
          16,
          19,
          55,
          19,
          56,
          38,
          36,
          28,
          28,
          41,
          28,
          55,
          50,
          56,
          48,
          20,
          13,
          19,
          3,
          26,
          44,
          32,
          14,
          23,
          6,
          14,
          11,
          55,
          21,
          6,
          40,
          32,
          58,
          16,
          5,
          20,
          14,
          10,
          41,
          26,
          47,
          24,
          40,
          53,
          9,
          11,
          4,
          15,
          34,
          22,
          27,
          25,
          30,
          40,
          29,
          34,
          44,
          18,
          57,
          8,
          7,
          24,
          32,
          59,
          17,
          47
         ],
         "xaxis": "x",
         "y": [
          24177,
          43386,
          49929,
          695,
          15015,
          33501,
          23469,
          34550,
          49733,
          33626,
          38198,
          18536,
          49089,
          18270,
          23288,
          43783,
          10156,
          3632,
          7294,
          276,
          7423,
          24002,
          39490,
          14970,
          7122,
          30464,
          8965,
          35782,
          238,
          42229,
          32970,
          46878,
          49858,
          21893,
          30425,
          7792,
          44071,
          5938,
          40862,
          35684,
          8517,
          3413,
          22434,
          18932,
          22300,
          17247,
          44032,
          35757,
          38920,
          23419,
          14495,
          43967,
          18186,
          890,
          29789,
          30946,
          34392,
          45740,
          37352,
          24156,
          13237,
          41981,
          23039,
          25849,
          1349,
          9234,
          12603,
          17166,
          41883,
          23809,
          42055,
          2072,
          24435,
          7185,
          24586,
          18817,
          17534,
          48821,
          577,
          44564,
          49983,
          37777,
          6251,
          27743,
          29723,
          13532,
          20131,
          25537,
          2784,
          22416,
          15314,
          39541,
          13835,
          40852,
          32211,
          25083,
          29662,
          38048,
          12551,
          16622,
          1412,
          29586,
          31288,
          35574,
          26038,
          32600,
          8398,
          7525,
          45718,
          45187,
          20711,
          28737,
          49194,
          38452,
          4854,
          26526,
          47389,
          15687,
          13702,
          48763,
          21885,
          34892,
          34099,
          27398,
          23818,
          25766,
          26792,
          46882,
          39055,
          24026,
          30486,
          3308,
          30515,
          30367,
          17924,
          37256,
          980,
          18068,
          49397,
          44636,
          39552,
          15306,
          45950,
          38940,
          17280,
          16193,
          40977,
          41029,
          2002,
          8793,
          10433,
          31285,
          33177,
          25251,
          46409,
          34618,
          16370,
          22847,
          4192,
          39195,
          40257,
          9232,
          10685,
          16274,
          29607,
          26767,
          21830,
          37814,
          29529,
          5639,
          35071,
          31818,
          30817,
          14063,
          46007,
          29421,
          31249,
          46351,
          5285,
          34780,
          26152,
          42325,
          35368,
          9629,
          23754,
          4884,
          14462,
          10983,
          42995,
          43075,
          9551,
          41747,
          6465,
          21982,
          9114,
          41032,
          26075,
          28018,
          16311,
          28764,
          30823,
          28375,
          5947,
          37055,
          3271,
          11184,
          1078,
          10040,
          779,
          38004,
          18401,
          44006,
          451,
          37925,
          17530,
          21516,
          43694,
          2676,
          2181,
          27037,
          44366,
          38277,
          24692,
          17332,
          23548,
          33936,
          29695,
          24939,
          27538,
          33838,
          11928,
          42915,
          6236,
          25197,
          23691,
          36860,
          43928,
          38214,
          31604,
          35765,
          499,
          10104,
          44135,
          19978,
          7326,
          2977,
          49494,
          21065,
          14643,
          22034,
          33494,
          12436,
          27417,
          45792,
          36178,
          40978,
          18066,
          45874,
          32243,
          19722,
          1138,
          46346,
          15284,
          25246,
          26088,
          37615,
          36675,
          21929,
          27290,
          21696,
          48832,
          16428,
          25447,
          3501,
          40099,
          23202,
          43593,
          9096,
          6204,
          39687,
          49358,
          31596,
          1230,
          1723,
          13182,
          1811,
          29396,
          234,
          16782,
          31607,
          3867,
          20333,
          29347,
          4770,
          31800,
          18801,
          1305,
          24802,
          17455,
          28354,
          21261,
          13668,
          35247,
          4501,
          29752,
          49590,
          12434,
          7021,
          47979,
          46411,
          25026,
          32526,
          14504,
          23238,
          46101,
          20060,
          45956,
          28211,
          6130,
          37095,
          28793,
          2626,
          43079,
          31448,
          17934,
          39370,
          47981,
          18457,
          25581,
          42543,
          17245,
          28906,
          16410,
          21863,
          28333,
          10965,
          46159,
          10456,
          11652,
          18369,
          47796,
          14222,
          3796,
          23418,
          37539,
          29847,
          45702,
          6197,
          18937,
          40815,
          31503,
          7418,
          18778,
          12028,
          21431,
          39875,
          1761,
          8327,
          9770,
          40868,
          26873,
          11193,
          13819,
          6776,
          25158,
          37433,
          17354,
          47287,
          34654,
          37145,
          37099,
          48745,
          29054,
          43615,
          28332,
          5127,
          14029,
          1606,
          48749,
          45457,
          49544,
          1961,
          20901,
          23770,
          21921,
          31571,
          3555,
          22835,
          30954,
          24758,
          46862,
          17211,
          21936,
          22974,
          8621,
          33912,
          28962,
          41155,
          33873,
          44416,
          6467,
          2816,
          12057,
          11324,
          38852,
          40804,
          39010,
          5942,
          21829,
          19804,
          3172,
          39063,
          32732,
          2046,
          26020,
          17296,
          42371,
          35054,
          40541,
          1338,
          16954,
          374,
          20786,
          35026,
          20770,
          19409,
          39463,
          28065,
          39112,
          9099,
          149,
          25257,
          10597,
          5439,
          32696,
          11794,
          18293,
          41598,
          48162,
          10250,
          12470,
          29771,
          41357,
          29566,
          16420,
          1985,
          33746,
          48816,
          20966,
          15307,
          33175,
          48190,
          32743,
          2472,
          32332,
          9449,
          25569,
          15354,
          20102,
          19177,
          9979,
          48366,
          39152,
          25332,
          17010,
          10935,
          3377,
          6181,
          32455,
          10170,
          1851,
          43995,
          29904,
          30257,
          28219,
          32535,
          36977,
          44121,
          49891,
          32319,
          30997,
          48966,
          40507,
          11397,
          41558,
          14170,
          10818,
          29612,
          44386,
          4184,
          9144,
          28480,
          4913,
          30906,
          20657,
          23133,
          6858,
          7237,
          16274,
          3247,
          30188,
          17879,
          23684,
          12247,
          40636,
          33534,
          26679,
          11767,
          29819,
          28086,
          13236,
          28046,
          31700,
          20176,
          345,
          7751,
          22060,
          27494,
          4979,
          13542,
          5231,
          25407,
          20681,
          37307,
          19607,
          26252,
          722,
          40409,
          43024,
          31237,
          21989,
          22500,
          8651,
          41519,
          18420,
          36118,
          37032,
          10104,
          11405,
          48497,
          35395,
          43831,
          38587,
          18439,
          4234,
          16981,
          45574,
          25184,
          3172,
          168,
          4988,
          27980,
          16114,
          42764,
          31508,
          42485,
          3798,
          6314,
          21541,
          15984,
          18695,
          38657,
          35581,
          37841,
          6961,
          10085,
          39965,
          41628,
          17363,
          2309,
          71,
          23633,
          16599,
          29894,
          18547,
          4913,
          7706,
          18197,
          1567,
          30028,
          16892,
          23597,
          29113,
          42797,
          25454,
          26508,
          36453,
          12667,
          20938,
          32799,
          27685,
          4029,
          35000,
          35685,
          26619,
          44836,
          4929,
          48766,
          7510,
          12466,
          49787,
          25789,
          4987,
          30144,
          29634,
          42437,
          47034,
          28647,
          43855,
          18018,
          13930,
          2762,
          997,
          33032,
          43789,
          33725,
          4225,
          40985,
          11482,
          7286,
          6257,
          45328,
          18811,
          34071,
          21738,
          28768,
          23265,
          24786,
          38738,
          12055,
          31366,
          31289,
          30489,
          34014,
          11353,
          23895,
          44509,
          38543,
          44069,
          34934,
          11188,
          27440,
          33449,
          13948,
          49614,
          18808,
          21551,
          16260,
          41437,
          49089,
          21049,
          31906,
          17272,
          14075,
          22680,
          7403,
          31304,
          13368,
          12041,
          28417,
          36329,
          31742,
          32579,
          31676,
          34899,
          34648,
          19227,
          16942,
          38975,
          12982,
          39548,
          40832,
          13814,
          42283,
          21245,
          7153,
          47338,
          19730,
          2434,
          40486,
          43527,
          4275,
          21574,
          2150,
          47002,
          22138,
          1094,
          4688,
          5004,
          27717,
          32678,
          43963,
          45567,
          29035,
          49644,
          46688,
          34333,
          49817,
          32735,
          45979,
          35068,
          8381,
          6212,
          10556,
          20637,
          16324,
          40516,
          22403,
          35654,
          6944,
          5158,
          12267,
          44978,
          23356,
          12113,
          1751,
          45760,
          39901,
          11155,
          45818,
          30628,
          34479,
          20505,
          48412,
          13347,
          22967,
          48434,
          26134,
          48629,
          37785,
          16893,
          19378,
          10549,
          864,
          21643,
          43676,
          39659,
          42667,
          43358,
          34072,
          20061,
          3749,
          20821,
          1727,
          27421,
          28848,
          24138,
          474,
          11745,
          37124,
          27749,
          9435,
          41685,
          22484,
          25197,
          2344,
          36680,
          6541,
          28058,
          27538,
          4740,
          20429,
          5280,
          11855,
          7230,
          2039,
          12497
         ],
         "yaxis": "y"
        }
       ],
       "layout": {
        "legend": {
         "tracegroupgap": 0
        },
        "template": {
         "data": {
          "bar": [
           {
            "error_x": {
             "color": "#2a3f5f"
            },
            "error_y": {
             "color": "#2a3f5f"
            },
            "marker": {
             "line": {
              "color": "#E5ECF6",
              "width": 0.5
             }
            },
            "type": "bar"
           }
          ],
          "barpolar": [
           {
            "marker": {
             "line": {
              "color": "#E5ECF6",
              "width": 0.5
             }
            },
            "type": "barpolar"
           }
          ],
          "carpet": [
           {
            "aaxis": {
             "endlinecolor": "#2a3f5f",
             "gridcolor": "white",
             "linecolor": "white",
             "minorgridcolor": "white",
             "startlinecolor": "#2a3f5f"
            },
            "baxis": {
             "endlinecolor": "#2a3f5f",
             "gridcolor": "white",
             "linecolor": "white",
             "minorgridcolor": "white",
             "startlinecolor": "#2a3f5f"
            },
            "type": "carpet"
           }
          ],
          "choropleth": [
           {
            "colorbar": {
             "outlinewidth": 0,
             "ticks": ""
            },
            "type": "choropleth"
           }
          ],
          "contour": [
           {
            "colorbar": {
             "outlinewidth": 0,
             "ticks": ""
            },
            "colorscale": [
             [
              0,
              "#0d0887"
             ],
             [
              0.1111111111111111,
              "#46039f"
             ],
             [
              0.2222222222222222,
              "#7201a8"
             ],
             [
              0.3333333333333333,
              "#9c179e"
             ],
             [
              0.4444444444444444,
              "#bd3786"
             ],
             [
              0.5555555555555556,
              "#d8576b"
             ],
             [
              0.6666666666666666,
              "#ed7953"
             ],
             [
              0.7777777777777778,
              "#fb9f3a"
             ],
             [
              0.8888888888888888,
              "#fdca26"
             ],
             [
              1,
              "#f0f921"
             ]
            ],
            "type": "contour"
           }
          ],
          "contourcarpet": [
           {
            "colorbar": {
             "outlinewidth": 0,
             "ticks": ""
            },
            "type": "contourcarpet"
           }
          ],
          "heatmap": [
           {
            "colorbar": {
             "outlinewidth": 0,
             "ticks": ""
            },
            "colorscale": [
             [
              0,
              "#0d0887"
             ],
             [
              0.1111111111111111,
              "#46039f"
             ],
             [
              0.2222222222222222,
              "#7201a8"
             ],
             [
              0.3333333333333333,
              "#9c179e"
             ],
             [
              0.4444444444444444,
              "#bd3786"
             ],
             [
              0.5555555555555556,
              "#d8576b"
             ],
             [
              0.6666666666666666,
              "#ed7953"
             ],
             [
              0.7777777777777778,
              "#fb9f3a"
             ],
             [
              0.8888888888888888,
              "#fdca26"
             ],
             [
              1,
              "#f0f921"
             ]
            ],
            "type": "heatmap"
           }
          ],
          "heatmapgl": [
           {
            "colorbar": {
             "outlinewidth": 0,
             "ticks": ""
            },
            "colorscale": [
             [
              0,
              "#0d0887"
             ],
             [
              0.1111111111111111,
              "#46039f"
             ],
             [
              0.2222222222222222,
              "#7201a8"
             ],
             [
              0.3333333333333333,
              "#9c179e"
             ],
             [
              0.4444444444444444,
              "#bd3786"
             ],
             [
              0.5555555555555556,
              "#d8576b"
             ],
             [
              0.6666666666666666,
              "#ed7953"
             ],
             [
              0.7777777777777778,
              "#fb9f3a"
             ],
             [
              0.8888888888888888,
              "#fdca26"
             ],
             [
              1,
              "#f0f921"
             ]
            ],
            "type": "heatmapgl"
           }
          ],
          "histogram": [
           {
            "marker": {
             "colorbar": {
              "outlinewidth": 0,
              "ticks": ""
             }
            },
            "type": "histogram"
           }
          ],
          "histogram2d": [
           {
            "colorbar": {
             "outlinewidth": 0,
             "ticks": ""
            },
            "colorscale": [
             [
              0,
              "#0d0887"
             ],
             [
              0.1111111111111111,
              "#46039f"
             ],
             [
              0.2222222222222222,
              "#7201a8"
             ],
             [
              0.3333333333333333,
              "#9c179e"
             ],
             [
              0.4444444444444444,
              "#bd3786"
             ],
             [
              0.5555555555555556,
              "#d8576b"
             ],
             [
              0.6666666666666666,
              "#ed7953"
             ],
             [
              0.7777777777777778,
              "#fb9f3a"
             ],
             [
              0.8888888888888888,
              "#fdca26"
             ],
             [
              1,
              "#f0f921"
             ]
            ],
            "type": "histogram2d"
           }
          ],
          "histogram2dcontour": [
           {
            "colorbar": {
             "outlinewidth": 0,
             "ticks": ""
            },
            "colorscale": [
             [
              0,
              "#0d0887"
             ],
             [
              0.1111111111111111,
              "#46039f"
             ],
             [
              0.2222222222222222,
              "#7201a8"
             ],
             [
              0.3333333333333333,
              "#9c179e"
             ],
             [
              0.4444444444444444,
              "#bd3786"
             ],
             [
              0.5555555555555556,
              "#d8576b"
             ],
             [
              0.6666666666666666,
              "#ed7953"
             ],
             [
              0.7777777777777778,
              "#fb9f3a"
             ],
             [
              0.8888888888888888,
              "#fdca26"
             ],
             [
              1,
              "#f0f921"
             ]
            ],
            "type": "histogram2dcontour"
           }
          ],
          "mesh3d": [
           {
            "colorbar": {
             "outlinewidth": 0,
             "ticks": ""
            },
            "type": "mesh3d"
           }
          ],
          "parcoords": [
           {
            "line": {
             "colorbar": {
              "outlinewidth": 0,
              "ticks": ""
             }
            },
            "type": "parcoords"
           }
          ],
          "pie": [
           {
            "automargin": true,
            "type": "pie"
           }
          ],
          "scatter": [
           {
            "marker": {
             "colorbar": {
              "outlinewidth": 0,
              "ticks": ""
             }
            },
            "type": "scatter"
           }
          ],
          "scatter3d": [
           {
            "line": {
             "colorbar": {
              "outlinewidth": 0,
              "ticks": ""
             }
            },
            "marker": {
             "colorbar": {
              "outlinewidth": 0,
              "ticks": ""
             }
            },
            "type": "scatter3d"
           }
          ],
          "scattercarpet": [
           {
            "marker": {
             "colorbar": {
              "outlinewidth": 0,
              "ticks": ""
             }
            },
            "type": "scattercarpet"
           }
          ],
          "scattergeo": [
           {
            "marker": {
             "colorbar": {
              "outlinewidth": 0,
              "ticks": ""
             }
            },
            "type": "scattergeo"
           }
          ],
          "scattergl": [
           {
            "marker": {
             "colorbar": {
              "outlinewidth": 0,
              "ticks": ""
             }
            },
            "type": "scattergl"
           }
          ],
          "scattermapbox": [
           {
            "marker": {
             "colorbar": {
              "outlinewidth": 0,
              "ticks": ""
             }
            },
            "type": "scattermapbox"
           }
          ],
          "scatterpolar": [
           {
            "marker": {
             "colorbar": {
              "outlinewidth": 0,
              "ticks": ""
             }
            },
            "type": "scatterpolar"
           }
          ],
          "scatterpolargl": [
           {
            "marker": {
             "colorbar": {
              "outlinewidth": 0,
              "ticks": ""
             }
            },
            "type": "scatterpolargl"
           }
          ],
          "scatterternary": [
           {
            "marker": {
             "colorbar": {
              "outlinewidth": 0,
              "ticks": ""
             }
            },
            "type": "scatterternary"
           }
          ],
          "surface": [
           {
            "colorbar": {
             "outlinewidth": 0,
             "ticks": ""
            },
            "colorscale": [
             [
              0,
              "#0d0887"
             ],
             [
              0.1111111111111111,
              "#46039f"
             ],
             [
              0.2222222222222222,
              "#7201a8"
             ],
             [
              0.3333333333333333,
              "#9c179e"
             ],
             [
              0.4444444444444444,
              "#bd3786"
             ],
             [
              0.5555555555555556,
              "#d8576b"
             ],
             [
              0.6666666666666666,
              "#ed7953"
             ],
             [
              0.7777777777777778,
              "#fb9f3a"
             ],
             [
              0.8888888888888888,
              "#fdca26"
             ],
             [
              1,
              "#f0f921"
             ]
            ],
            "type": "surface"
           }
          ],
          "table": [
           {
            "cells": {
             "fill": {
              "color": "#EBF0F8"
             },
             "line": {
              "color": "white"
             }
            },
            "header": {
             "fill": {
              "color": "#C8D4E3"
             },
             "line": {
              "color": "white"
             }
            },
            "type": "table"
           }
          ]
         },
         "layout": {
          "annotationdefaults": {
           "arrowcolor": "#2a3f5f",
           "arrowhead": 0,
           "arrowwidth": 1
          },
          "coloraxis": {
           "colorbar": {
            "outlinewidth": 0,
            "ticks": ""
           }
          },
          "colorscale": {
           "diverging": [
            [
             0,
             "#8e0152"
            ],
            [
             0.1,
             "#c51b7d"
            ],
            [
             0.2,
             "#de77ae"
            ],
            [
             0.3,
             "#f1b6da"
            ],
            [
             0.4,
             "#fde0ef"
            ],
            [
             0.5,
             "#f7f7f7"
            ],
            [
             0.6,
             "#e6f5d0"
            ],
            [
             0.7,
             "#b8e186"
            ],
            [
             0.8,
             "#7fbc41"
            ],
            [
             0.9,
             "#4d9221"
            ],
            [
             1,
             "#276419"
            ]
           ],
           "sequential": [
            [
             0,
             "#0d0887"
            ],
            [
             0.1111111111111111,
             "#46039f"
            ],
            [
             0.2222222222222222,
             "#7201a8"
            ],
            [
             0.3333333333333333,
             "#9c179e"
            ],
            [
             0.4444444444444444,
             "#bd3786"
            ],
            [
             0.5555555555555556,
             "#d8576b"
            ],
            [
             0.6666666666666666,
             "#ed7953"
            ],
            [
             0.7777777777777778,
             "#fb9f3a"
            ],
            [
             0.8888888888888888,
             "#fdca26"
            ],
            [
             1,
             "#f0f921"
            ]
           ],
           "sequentialminus": [
            [
             0,
             "#0d0887"
            ],
            [
             0.1111111111111111,
             "#46039f"
            ],
            [
             0.2222222222222222,
             "#7201a8"
            ],
            [
             0.3333333333333333,
             "#9c179e"
            ],
            [
             0.4444444444444444,
             "#bd3786"
            ],
            [
             0.5555555555555556,
             "#d8576b"
            ],
            [
             0.6666666666666666,
             "#ed7953"
            ],
            [
             0.7777777777777778,
             "#fb9f3a"
            ],
            [
             0.8888888888888888,
             "#fdca26"
            ],
            [
             1,
             "#f0f921"
            ]
           ]
          },
          "colorway": [
           "#636efa",
           "#EF553B",
           "#00cc96",
           "#ab63fa",
           "#FFA15A",
           "#19d3f3",
           "#FF6692",
           "#B6E880",
           "#FF97FF",
           "#FECB52"
          ],
          "font": {
           "color": "#2a3f5f"
          },
          "geo": {
           "bgcolor": "white",
           "lakecolor": "white",
           "landcolor": "#E5ECF6",
           "showlakes": true,
           "showland": true,
           "subunitcolor": "white"
          },
          "hoverlabel": {
           "align": "left"
          },
          "hovermode": "closest",
          "mapbox": {
           "style": "light"
          },
          "paper_bgcolor": "white",
          "plot_bgcolor": "#E5ECF6",
          "polar": {
           "angularaxis": {
            "gridcolor": "white",
            "linecolor": "white",
            "ticks": ""
           },
           "bgcolor": "#E5ECF6",
           "radialaxis": {
            "gridcolor": "white",
            "linecolor": "white",
            "ticks": ""
           }
          },
          "scene": {
           "xaxis": {
            "backgroundcolor": "#E5ECF6",
            "gridcolor": "white",
            "gridwidth": 2,
            "linecolor": "white",
            "showbackground": true,
            "ticks": "",
            "zerolinecolor": "white"
           },
           "yaxis": {
            "backgroundcolor": "#E5ECF6",
            "gridcolor": "white",
            "gridwidth": 2,
            "linecolor": "white",
            "showbackground": true,
            "ticks": "",
            "zerolinecolor": "white"
           },
           "zaxis": {
            "backgroundcolor": "#E5ECF6",
            "gridcolor": "white",
            "gridwidth": 2,
            "linecolor": "white",
            "showbackground": true,
            "ticks": "",
            "zerolinecolor": "white"
           }
          },
          "shapedefaults": {
           "line": {
            "color": "#2a3f5f"
           }
          },
          "ternary": {
           "aaxis": {
            "gridcolor": "white",
            "linecolor": "white",
            "ticks": ""
           },
           "baxis": {
            "gridcolor": "white",
            "linecolor": "white",
            "ticks": ""
           },
           "bgcolor": "#E5ECF6",
           "caxis": {
            "gridcolor": "white",
            "linecolor": "white",
            "ticks": ""
           }
          },
          "title": {
           "x": 0.05
          },
          "xaxis": {
           "automargin": true,
           "gridcolor": "white",
           "linecolor": "white",
           "ticks": "",
           "title": {
            "standoff": 15
           },
           "zerolinecolor": "white",
           "zerolinewidth": 2
          },
          "yaxis": {
           "automargin": true,
           "gridcolor": "white",
           "linecolor": "white",
           "ticks": "",
           "title": {
            "standoff": 15
           },
           "zerolinecolor": "white",
           "zerolinewidth": 2
          }
         }
        },
        "title": {
         "text": "Antigüedad vs Ingreso"
        },
        "xaxis": {
         "anchor": "y",
         "domain": [
          0,
          1
         ],
         "title": {
          "text": "Antigüedad"
         }
        },
        "yaxis": {
         "anchor": "x",
         "domain": [
          0,
          1
         ],
         "title": {
          "text": "Ingresos"
         }
        }
       }
      },
      "text/html": [
       "<div>                            <div id=\"dfd2781a-1e7d-4e23-875e-10470da0244f\" class=\"plotly-graph-div\" style=\"height:525px; width:100%;\"></div>            <script type=\"text/javascript\">                require([\"plotly\"], function(Plotly) {                    window.PLOTLYENV=window.PLOTLYENV || {};                                    if (document.getElementById(\"dfd2781a-1e7d-4e23-875e-10470da0244f\")) {                    Plotly.newPlot(                        \"dfd2781a-1e7d-4e23-875e-10470da0244f\",                        [{\"hovertemplate\": \"Antig\\u00fcedad=%{x}<br>Ingresos=%{y}<extra></extra>\", \"legendgroup\": \"\", \"marker\": {\"color\": \"#636efa\", \"symbol\": \"circle\"}, \"mode\": \"markers\", \"name\": \"\", \"orientation\": \"v\", \"showlegend\": false, \"type\": \"scatter\", \"x\": [33, 49, 26, 7, 31, 27, 49, 13, 44, 38, 20, 53, 12, 35, 37, 36, 17, 11, 12, 28, 48, 42, 16, 60, 23, 29, 54, 14, 38, 26, 4, 3, 3, 51, 56, 33, 26, 59, 13, 57, 32, 56, 8, 54, 59, 44, 13, 45, 56, 11, 49, 59, 6, 38, 50, 21, 50, 59, 34, 24, 45, 3, 60, 38, 59, 25, 56, 6, 42, 4, 48, 21, 60, 23, 54, 6, 34, 9, 12, 2, 8, 35, 28, 10, 51, 51, 2, 19, 1, 20, 44, 19, 3, 25, 4, 27, 54, 44, 30, 56, 59, 21, 7, 6, 24, 31, 45, 36, 49, 41, 48, 49, 43, 52, 9, 21, 44, 0, 3, 31, 29, 42, 54, 27, 36, 28, 22, 51, 26, 38, 19, 54, 32, 44, 21, 48, 19, 18, 33, 36, 32, 6, 28, 43, 24, 39, 45, 31, 36, 52, 57, 27, 54, 52, 57, 23, 0, 57, 37, 23, 20, 46, 5, 11, 16, 4, 21, 13, 27, 55, 33, 50, 44, 16, 47, 40, 27, 21, 58, 32, 12, 18, 60, 10, 59, 17, 57, 5, 44, 42, 30, 10, 20, 42, 20, 19, 57, 44, 37, 38, 40, 3, 11, 53, 12, 11, 2, 47, 55, 36, 24, 30, 9, 59, 43, 34, 12, 1, 55, 49, 29, 8, 27, 24, 51, 39, 24, 22, 23, 41, 5, 14, 53, 16, 28, 15, 23, 33, 37, 11, 11, 30, 4, 12, 31, 36, 36, 25, 12, 27, 10, 27, 16, 50, 9, 60, 60, 13, 32, 2, 18, 29, 38, 34, 22, 20, 7, 36, 18, 53, 26, 46, 31, 17, 38, 19, 49, 20, 15, 50, 4, 58, 14, 23, 34, 59, 44, 12, 45, 37, 16, 22, 18, 57, 38, 39, 43, 15, 33, 5, 24, 57, 44, 11, 40, 15, 27, 20, 56, 46, 49, 53, 57, 36, 2, 31, 38, 14, 11, 37, 8, 39, 38, 18, 2, 5, 17, 0, 1, 3, 11, 34, 28, 53, 29, 26, 44, 54, 17, 22, 57, 9, 15, 24, 59, 32, 21, 42, 52, 42, 34, 55, 40, 15, 13, 21, 7, 8, 46, 50, 3, 40, 37, 38, 55, 3, 39, 51, 2, 2, 45, 36, 8, 36, 40, 45, 2, 45, 15, 5, 4, 1, 59, 50, 30, 1, 28, 53, 45, 47, 27, 21, 36, 16, 27, 40, 3, 32, 2, 36, 54, 15, 27, 19, 36, 10, 57, 21, 37, 18, 50, 43, 43, 6, 37, 26, 12, 45, 15, 3, 26, 7, 36, 13, 45, 46, 59, 27, 44, 56, 31, 47, 9, 12, 48, 21, 44, 41, 56, 27, 9, 58, 2, 31, 51, 42, 4, 26, 5, 1, 26, 59, 29, 53, 37, 57, 13, 59, 32, 20, 39, 28, 15, 19, 12, 26, 10, 56, 33, 54, 10, 25, 30, 51, 22, 30, 1, 19, 24, 0, 49, 26, 5, 10, 7, 50, 55, 40, 18, 39, 31, 26, 30, 4, 2, 17, 10, 8, 18, 34, 1, 4, 14, 35, 44, 27, 13, 59, 35, 29, 4, 58, 17, 46, 35, 5, 28, 46, 5, 35, 17, 54, 29, 11, 17, 37, 40, 47, 32, 49, 36, 33, 17, 5, 30, 18, 8, 38, 45, 34, 5, 35, 0, 19, 44, 17, 26, 46, 27, 31, 8, 18, 33, 33, 59, 7, 50, 34, 45, 10, 38, 4, 46, 50, 21, 16, 59, 54, 20, 19, 17, 14, 50, 39, 22, 57, 26, 55, 52, 45, 1, 1, 15, 49, 57, 18, 53, 1, 14, 39, 16, 37, 40, 48, 17, 27, 30, 55, 15, 25, 45, 49, 9, 37, 34, 26, 29, 44, 60, 20, 44, 53, 14, 23, 58, 1, 48, 5, 14, 22, 17, 33, 5, 2, 1, 19, 26, 17, 60, 42, 54, 27, 2, 1, 56, 42, 4, 25, 49, 28, 13, 31, 39, 29, 20, 11, 2, 3, 2, 20, 56, 39, 1, 44, 47, 10, 23, 38, 46, 31, 38, 27, 45, 11, 7, 25, 10, 21, 27, 31, 54, 12, 28, 47, 33, 48, 36, 9, 51, 31, 31, 11, 44, 59, 31, 33, 19, 13, 38, 28, 49, 52, 56, 28, 20, 18, 37, 31, 16, 50, 34, 16, 19, 55, 19, 56, 38, 36, 28, 28, 41, 28, 55, 50, 56, 48, 20, 13, 19, 3, 26, 44, 32, 14, 23, 6, 14, 11, 55, 21, 6, 40, 32, 58, 16, 5, 20, 14, 10, 41, 26, 47, 24, 40, 53, 9, 11, 4, 15, 34, 22, 27, 25, 30, 40, 29, 34, 44, 18, 57, 8, 7, 24, 32, 59, 17, 47], \"xaxis\": \"x\", \"y\": [24177, 43386, 49929, 695, 15015, 33501, 23469, 34550, 49733, 33626, 38198, 18536, 49089, 18270, 23288, 43783, 10156, 3632, 7294, 276, 7423, 24002, 39490, 14970, 7122, 30464, 8965, 35782, 238, 42229, 32970, 46878, 49858, 21893, 30425, 7792, 44071, 5938, 40862, 35684, 8517, 3413, 22434, 18932, 22300, 17247, 44032, 35757, 38920, 23419, 14495, 43967, 18186, 890, 29789, 30946, 34392, 45740, 37352, 24156, 13237, 41981, 23039, 25849, 1349, 9234, 12603, 17166, 41883, 23809, 42055, 2072, 24435, 7185, 24586, 18817, 17534, 48821, 577, 44564, 49983, 37777, 6251, 27743, 29723, 13532, 20131, 25537, 2784, 22416, 15314, 39541, 13835, 40852, 32211, 25083, 29662, 38048, 12551, 16622, 1412, 29586, 31288, 35574, 26038, 32600, 8398, 7525, 45718, 45187, 20711, 28737, 49194, 38452, 4854, 26526, 47389, 15687, 13702, 48763, 21885, 34892, 34099, 27398, 23818, 25766, 26792, 46882, 39055, 24026, 30486, 3308, 30515, 30367, 17924, 37256, 980, 18068, 49397, 44636, 39552, 15306, 45950, 38940, 17280, 16193, 40977, 41029, 2002, 8793, 10433, 31285, 33177, 25251, 46409, 34618, 16370, 22847, 4192, 39195, 40257, 9232, 10685, 16274, 29607, 26767, 21830, 37814, 29529, 5639, 35071, 31818, 30817, 14063, 46007, 29421, 31249, 46351, 5285, 34780, 26152, 42325, 35368, 9629, 23754, 4884, 14462, 10983, 42995, 43075, 9551, 41747, 6465, 21982, 9114, 41032, 26075, 28018, 16311, 28764, 30823, 28375, 5947, 37055, 3271, 11184, 1078, 10040, 779, 38004, 18401, 44006, 451, 37925, 17530, 21516, 43694, 2676, 2181, 27037, 44366, 38277, 24692, 17332, 23548, 33936, 29695, 24939, 27538, 33838, 11928, 42915, 6236, 25197, 23691, 36860, 43928, 38214, 31604, 35765, 499, 10104, 44135, 19978, 7326, 2977, 49494, 21065, 14643, 22034, 33494, 12436, 27417, 45792, 36178, 40978, 18066, 45874, 32243, 19722, 1138, 46346, 15284, 25246, 26088, 37615, 36675, 21929, 27290, 21696, 48832, 16428, 25447, 3501, 40099, 23202, 43593, 9096, 6204, 39687, 49358, 31596, 1230, 1723, 13182, 1811, 29396, 234, 16782, 31607, 3867, 20333, 29347, 4770, 31800, 18801, 1305, 24802, 17455, 28354, 21261, 13668, 35247, 4501, 29752, 49590, 12434, 7021, 47979, 46411, 25026, 32526, 14504, 23238, 46101, 20060, 45956, 28211, 6130, 37095, 28793, 2626, 43079, 31448, 17934, 39370, 47981, 18457, 25581, 42543, 17245, 28906, 16410, 21863, 28333, 10965, 46159, 10456, 11652, 18369, 47796, 14222, 3796, 23418, 37539, 29847, 45702, 6197, 18937, 40815, 31503, 7418, 18778, 12028, 21431, 39875, 1761, 8327, 9770, 40868, 26873, 11193, 13819, 6776, 25158, 37433, 17354, 47287, 34654, 37145, 37099, 48745, 29054, 43615, 28332, 5127, 14029, 1606, 48749, 45457, 49544, 1961, 20901, 23770, 21921, 31571, 3555, 22835, 30954, 24758, 46862, 17211, 21936, 22974, 8621, 33912, 28962, 41155, 33873, 44416, 6467, 2816, 12057, 11324, 38852, 40804, 39010, 5942, 21829, 19804, 3172, 39063, 32732, 2046, 26020, 17296, 42371, 35054, 40541, 1338, 16954, 374, 20786, 35026, 20770, 19409, 39463, 28065, 39112, 9099, 149, 25257, 10597, 5439, 32696, 11794, 18293, 41598, 48162, 10250, 12470, 29771, 41357, 29566, 16420, 1985, 33746, 48816, 20966, 15307, 33175, 48190, 32743, 2472, 32332, 9449, 25569, 15354, 20102, 19177, 9979, 48366, 39152, 25332, 17010, 10935, 3377, 6181, 32455, 10170, 1851, 43995, 29904, 30257, 28219, 32535, 36977, 44121, 49891, 32319, 30997, 48966, 40507, 11397, 41558, 14170, 10818, 29612, 44386, 4184, 9144, 28480, 4913, 30906, 20657, 23133, 6858, 7237, 16274, 3247, 30188, 17879, 23684, 12247, 40636, 33534, 26679, 11767, 29819, 28086, 13236, 28046, 31700, 20176, 345, 7751, 22060, 27494, 4979, 13542, 5231, 25407, 20681, 37307, 19607, 26252, 722, 40409, 43024, 31237, 21989, 22500, 8651, 41519, 18420, 36118, 37032, 10104, 11405, 48497, 35395, 43831, 38587, 18439, 4234, 16981, 45574, 25184, 3172, 168, 4988, 27980, 16114, 42764, 31508, 42485, 3798, 6314, 21541, 15984, 18695, 38657, 35581, 37841, 6961, 10085, 39965, 41628, 17363, 2309, 71, 23633, 16599, 29894, 18547, 4913, 7706, 18197, 1567, 30028, 16892, 23597, 29113, 42797, 25454, 26508, 36453, 12667, 20938, 32799, 27685, 4029, 35000, 35685, 26619, 44836, 4929, 48766, 7510, 12466, 49787, 25789, 4987, 30144, 29634, 42437, 47034, 28647, 43855, 18018, 13930, 2762, 997, 33032, 43789, 33725, 4225, 40985, 11482, 7286, 6257, 45328, 18811, 34071, 21738, 28768, 23265, 24786, 38738, 12055, 31366, 31289, 30489, 34014, 11353, 23895, 44509, 38543, 44069, 34934, 11188, 27440, 33449, 13948, 49614, 18808, 21551, 16260, 41437, 49089, 21049, 31906, 17272, 14075, 22680, 7403, 31304, 13368, 12041, 28417, 36329, 31742, 32579, 31676, 34899, 34648, 19227, 16942, 38975, 12982, 39548, 40832, 13814, 42283, 21245, 7153, 47338, 19730, 2434, 40486, 43527, 4275, 21574, 2150, 47002, 22138, 1094, 4688, 5004, 27717, 32678, 43963, 45567, 29035, 49644, 46688, 34333, 49817, 32735, 45979, 35068, 8381, 6212, 10556, 20637, 16324, 40516, 22403, 35654, 6944, 5158, 12267, 44978, 23356, 12113, 1751, 45760, 39901, 11155, 45818, 30628, 34479, 20505, 48412, 13347, 22967, 48434, 26134, 48629, 37785, 16893, 19378, 10549, 864, 21643, 43676, 39659, 42667, 43358, 34072, 20061, 3749, 20821, 1727, 27421, 28848, 24138, 474, 11745, 37124, 27749, 9435, 41685, 22484, 25197, 2344, 36680, 6541, 28058, 27538, 4740, 20429, 5280, 11855, 7230, 2039, 12497], \"yaxis\": \"y\"}],                        {\"legend\": {\"tracegroupgap\": 0}, \"template\": {\"data\": {\"bar\": [{\"error_x\": {\"color\": \"#2a3f5f\"}, \"error_y\": {\"color\": \"#2a3f5f\"}, \"marker\": {\"line\": {\"color\": \"#E5ECF6\", \"width\": 0.5}}, \"type\": \"bar\"}], \"barpolar\": [{\"marker\": {\"line\": {\"color\": \"#E5ECF6\", \"width\": 0.5}}, \"type\": \"barpolar\"}], \"carpet\": [{\"aaxis\": {\"endlinecolor\": \"#2a3f5f\", \"gridcolor\": \"white\", \"linecolor\": \"white\", \"minorgridcolor\": \"white\", \"startlinecolor\": \"#2a3f5f\"}, \"baxis\": {\"endlinecolor\": \"#2a3f5f\", \"gridcolor\": \"white\", \"linecolor\": \"white\", \"minorgridcolor\": \"white\", \"startlinecolor\": \"#2a3f5f\"}, \"type\": \"carpet\"}], \"choropleth\": [{\"colorbar\": {\"outlinewidth\": 0, \"ticks\": \"\"}, \"type\": \"choropleth\"}], \"contour\": [{\"colorbar\": {\"outlinewidth\": 0, \"ticks\": \"\"}, \"colorscale\": [[0.0, \"#0d0887\"], [0.1111111111111111, \"#46039f\"], [0.2222222222222222, \"#7201a8\"], [0.3333333333333333, \"#9c179e\"], [0.4444444444444444, \"#bd3786\"], [0.5555555555555556, \"#d8576b\"], [0.6666666666666666, \"#ed7953\"], [0.7777777777777778, \"#fb9f3a\"], [0.8888888888888888, \"#fdca26\"], [1.0, \"#f0f921\"]], \"type\": \"contour\"}], \"contourcarpet\": [{\"colorbar\": {\"outlinewidth\": 0, \"ticks\": \"\"}, \"type\": \"contourcarpet\"}], \"heatmap\": [{\"colorbar\": {\"outlinewidth\": 0, \"ticks\": \"\"}, \"colorscale\": [[0.0, \"#0d0887\"], [0.1111111111111111, \"#46039f\"], [0.2222222222222222, \"#7201a8\"], [0.3333333333333333, \"#9c179e\"], [0.4444444444444444, \"#bd3786\"], [0.5555555555555556, \"#d8576b\"], [0.6666666666666666, \"#ed7953\"], [0.7777777777777778, \"#fb9f3a\"], [0.8888888888888888, \"#fdca26\"], [1.0, \"#f0f921\"]], \"type\": \"heatmap\"}], \"heatmapgl\": [{\"colorbar\": {\"outlinewidth\": 0, \"ticks\": \"\"}, \"colorscale\": [[0.0, \"#0d0887\"], [0.1111111111111111, \"#46039f\"], [0.2222222222222222, \"#7201a8\"], [0.3333333333333333, \"#9c179e\"], [0.4444444444444444, \"#bd3786\"], [0.5555555555555556, \"#d8576b\"], [0.6666666666666666, \"#ed7953\"], [0.7777777777777778, \"#fb9f3a\"], [0.8888888888888888, \"#fdca26\"], [1.0, \"#f0f921\"]], \"type\": \"heatmapgl\"}], \"histogram\": [{\"marker\": {\"colorbar\": {\"outlinewidth\": 0, \"ticks\": \"\"}}, \"type\": \"histogram\"}], \"histogram2d\": [{\"colorbar\": {\"outlinewidth\": 0, \"ticks\": \"\"}, \"colorscale\": [[0.0, \"#0d0887\"], [0.1111111111111111, \"#46039f\"], [0.2222222222222222, \"#7201a8\"], [0.3333333333333333, \"#9c179e\"], [0.4444444444444444, \"#bd3786\"], [0.5555555555555556, \"#d8576b\"], [0.6666666666666666, \"#ed7953\"], [0.7777777777777778, \"#fb9f3a\"], [0.8888888888888888, \"#fdca26\"], [1.0, \"#f0f921\"]], \"type\": \"histogram2d\"}], \"histogram2dcontour\": [{\"colorbar\": {\"outlinewidth\": 0, \"ticks\": \"\"}, \"colorscale\": [[0.0, \"#0d0887\"], [0.1111111111111111, \"#46039f\"], [0.2222222222222222, \"#7201a8\"], [0.3333333333333333, \"#9c179e\"], [0.4444444444444444, \"#bd3786\"], [0.5555555555555556, \"#d8576b\"], [0.6666666666666666, \"#ed7953\"], [0.7777777777777778, \"#fb9f3a\"], [0.8888888888888888, \"#fdca26\"], [1.0, \"#f0f921\"]], \"type\": \"histogram2dcontour\"}], \"mesh3d\": [{\"colorbar\": {\"outlinewidth\": 0, \"ticks\": \"\"}, \"type\": \"mesh3d\"}], \"parcoords\": [{\"line\": {\"colorbar\": {\"outlinewidth\": 0, \"ticks\": \"\"}}, \"type\": \"parcoords\"}], \"pie\": [{\"automargin\": true, \"type\": \"pie\"}], \"scatter\": [{\"marker\": {\"colorbar\": {\"outlinewidth\": 0, \"ticks\": \"\"}}, \"type\": \"scatter\"}], \"scatter3d\": [{\"line\": {\"colorbar\": {\"outlinewidth\": 0, \"ticks\": \"\"}}, \"marker\": {\"colorbar\": {\"outlinewidth\": 0, \"ticks\": \"\"}}, \"type\": \"scatter3d\"}], \"scattercarpet\": [{\"marker\": {\"colorbar\": {\"outlinewidth\": 0, \"ticks\": \"\"}}, \"type\": \"scattercarpet\"}], \"scattergeo\": [{\"marker\": {\"colorbar\": {\"outlinewidth\": 0, \"ticks\": \"\"}}, \"type\": \"scattergeo\"}], \"scattergl\": [{\"marker\": {\"colorbar\": {\"outlinewidth\": 0, \"ticks\": \"\"}}, \"type\": \"scattergl\"}], \"scattermapbox\": [{\"marker\": {\"colorbar\": {\"outlinewidth\": 0, \"ticks\": \"\"}}, \"type\": \"scattermapbox\"}], \"scatterpolar\": [{\"marker\": {\"colorbar\": {\"outlinewidth\": 0, \"ticks\": \"\"}}, \"type\": \"scatterpolar\"}], \"scatterpolargl\": [{\"marker\": {\"colorbar\": {\"outlinewidth\": 0, \"ticks\": \"\"}}, \"type\": \"scatterpolargl\"}], \"scatterternary\": [{\"marker\": {\"colorbar\": {\"outlinewidth\": 0, \"ticks\": \"\"}}, \"type\": \"scatterternary\"}], \"surface\": [{\"colorbar\": {\"outlinewidth\": 0, \"ticks\": \"\"}, \"colorscale\": [[0.0, \"#0d0887\"], [0.1111111111111111, \"#46039f\"], [0.2222222222222222, \"#7201a8\"], [0.3333333333333333, \"#9c179e\"], [0.4444444444444444, \"#bd3786\"], [0.5555555555555556, \"#d8576b\"], [0.6666666666666666, \"#ed7953\"], [0.7777777777777778, \"#fb9f3a\"], [0.8888888888888888, \"#fdca26\"], [1.0, \"#f0f921\"]], \"type\": \"surface\"}], \"table\": [{\"cells\": {\"fill\": {\"color\": \"#EBF0F8\"}, \"line\": {\"color\": \"white\"}}, \"header\": {\"fill\": {\"color\": \"#C8D4E3\"}, \"line\": {\"color\": \"white\"}}, \"type\": \"table\"}]}, \"layout\": {\"annotationdefaults\": {\"arrowcolor\": \"#2a3f5f\", \"arrowhead\": 0, \"arrowwidth\": 1}, \"coloraxis\": {\"colorbar\": {\"outlinewidth\": 0, \"ticks\": \"\"}}, \"colorscale\": {\"diverging\": [[0, \"#8e0152\"], [0.1, \"#c51b7d\"], [0.2, \"#de77ae\"], [0.3, \"#f1b6da\"], [0.4, \"#fde0ef\"], [0.5, \"#f7f7f7\"], [0.6, \"#e6f5d0\"], [0.7, \"#b8e186\"], [0.8, \"#7fbc41\"], [0.9, \"#4d9221\"], [1, \"#276419\"]], \"sequential\": [[0.0, \"#0d0887\"], [0.1111111111111111, \"#46039f\"], [0.2222222222222222, \"#7201a8\"], [0.3333333333333333, \"#9c179e\"], [0.4444444444444444, \"#bd3786\"], [0.5555555555555556, \"#d8576b\"], [0.6666666666666666, \"#ed7953\"], [0.7777777777777778, \"#fb9f3a\"], [0.8888888888888888, \"#fdca26\"], [1.0, \"#f0f921\"]], \"sequentialminus\": [[0.0, \"#0d0887\"], [0.1111111111111111, \"#46039f\"], [0.2222222222222222, \"#7201a8\"], [0.3333333333333333, \"#9c179e\"], [0.4444444444444444, \"#bd3786\"], [0.5555555555555556, \"#d8576b\"], [0.6666666666666666, \"#ed7953\"], [0.7777777777777778, \"#fb9f3a\"], [0.8888888888888888, \"#fdca26\"], [1.0, \"#f0f921\"]]}, \"colorway\": [\"#636efa\", \"#EF553B\", \"#00cc96\", \"#ab63fa\", \"#FFA15A\", \"#19d3f3\", \"#FF6692\", \"#B6E880\", \"#FF97FF\", \"#FECB52\"], \"font\": {\"color\": \"#2a3f5f\"}, \"geo\": {\"bgcolor\": \"white\", \"lakecolor\": \"white\", \"landcolor\": \"#E5ECF6\", \"showlakes\": true, \"showland\": true, \"subunitcolor\": \"white\"}, \"hoverlabel\": {\"align\": \"left\"}, \"hovermode\": \"closest\", \"mapbox\": {\"style\": \"light\"}, \"paper_bgcolor\": \"white\", \"plot_bgcolor\": \"#E5ECF6\", \"polar\": {\"angularaxis\": {\"gridcolor\": \"white\", \"linecolor\": \"white\", \"ticks\": \"\"}, \"bgcolor\": \"#E5ECF6\", \"radialaxis\": {\"gridcolor\": \"white\", \"linecolor\": \"white\", \"ticks\": \"\"}}, \"scene\": {\"xaxis\": {\"backgroundcolor\": \"#E5ECF6\", \"gridcolor\": \"white\", \"gridwidth\": 2, \"linecolor\": \"white\", \"showbackground\": true, \"ticks\": \"\", \"zerolinecolor\": \"white\"}, \"yaxis\": {\"backgroundcolor\": \"#E5ECF6\", \"gridcolor\": \"white\", \"gridwidth\": 2, \"linecolor\": \"white\", \"showbackground\": true, \"ticks\": \"\", \"zerolinecolor\": \"white\"}, \"zaxis\": {\"backgroundcolor\": \"#E5ECF6\", \"gridcolor\": \"white\", \"gridwidth\": 2, \"linecolor\": \"white\", \"showbackground\": true, \"ticks\": \"\", \"zerolinecolor\": \"white\"}}, \"shapedefaults\": {\"line\": {\"color\": \"#2a3f5f\"}}, \"ternary\": {\"aaxis\": {\"gridcolor\": \"white\", \"linecolor\": \"white\", \"ticks\": \"\"}, \"baxis\": {\"gridcolor\": \"white\", \"linecolor\": \"white\", \"ticks\": \"\"}, \"bgcolor\": \"#E5ECF6\", \"caxis\": {\"gridcolor\": \"white\", \"linecolor\": \"white\", \"ticks\": \"\"}}, \"title\": {\"x\": 0.05}, \"xaxis\": {\"automargin\": true, \"gridcolor\": \"white\", \"linecolor\": \"white\", \"ticks\": \"\", \"title\": {\"standoff\": 15}, \"zerolinecolor\": \"white\", \"zerolinewidth\": 2}, \"yaxis\": {\"automargin\": true, \"gridcolor\": \"white\", \"linecolor\": \"white\", \"ticks\": \"\", \"title\": {\"standoff\": 15}, \"zerolinecolor\": \"white\", \"zerolinewidth\": 2}}}, \"title\": {\"text\": \"Antig\\u00fcedad vs Ingreso\"}, \"xaxis\": {\"anchor\": \"y\", \"domain\": [0.0, 1.0], \"title\": {\"text\": \"Antig\\u00fcedad\"}}, \"yaxis\": {\"anchor\": \"x\", \"domain\": [0.0, 1.0], \"title\": {\"text\": \"Ingresos\"}}},                        {\"responsive\": true}                    ).then(function(){\n",
       "                            \n",
       "var gd = document.getElementById('dfd2781a-1e7d-4e23-875e-10470da0244f');\n",
       "var x = new MutationObserver(function (mutations, observer) {{\n",
       "        var display = window.getComputedStyle(gd).display;\n",
       "        if (!display || display === 'none') {{\n",
       "            console.log([gd, 'removed!']);\n",
       "            Plotly.purge(gd);\n",
       "            observer.disconnect();\n",
       "        }}\n",
       "}});\n",
       "\n",
       "// Listen for the removal of the full notebook cells\n",
       "var notebookContainer = gd.closest('#notebook-container');\n",
       "if (notebookContainer) {{\n",
       "    x.observe(notebookContainer, {childList: true});\n",
       "}}\n",
       "\n",
       "// Listen for the clearing of the current output cell\n",
       "var outputEl = gd.closest('.output');\n",
       "if (outputEl) {{\n",
       "    x.observe(outputEl, {childList: true});\n",
       "}}\n",
       "\n",
       "                        })                };                });            </script>        </div>"
      ]
     },
     "metadata": {},
     "output_type": "display_data"
    }
   ],
   "source": [
    "fig = px.scatter(df, x='Antigüedad', y=\"Ingresos\", title='Antigüedad vs Ingreso') #no hay una tendencia\n",
    "fig.show()"
   ]
  },
  {
   "cell_type": "code",
   "execution_count": 19,
   "metadata": {
    "scrolled": false
   },
   "outputs": [
    {
     "data": {
      "text/plain": [
       "<matplotlib.axes._subplots.AxesSubplot at 0x7fe42a530d90>"
      ]
     },
     "execution_count": 19,
     "metadata": {},
     "output_type": "execute_result"
    },
    {
     "data": {
      "image/png": "[encoded data removed]",
      "text/plain": [
       "<Figure size 432x288 with 1 Axes>"
      ]
     },
     "metadata": {
      "needs_background": "light"
     },
     "output_type": "display_data"
    }
   ],
   "source": [
    "df.groupby('Antigüedad')['Ingresos'].mean().plot()"
   ]
  },
  {
   "cell_type": "code",
   "execution_count": 21,
   "metadata": {},
   "outputs": [
    {
     "data": {
      "text/plain": [
       "Index(['Llave', 'Edad', 'Sexo', 'Edo Civil', 'Antigüedad', 'Ingresos',\n",
       "       'Saldo'],\n",
       "      dtype='object')"
      ]
     },
     "execution_count": 21,
     "metadata": {},
     "output_type": "execute_result"
    }
   ],
   "source": [
    "df.columns"
   ]
  },
  {
   "cell_type": "code",
   "execution_count": 22,
   "metadata": {
    "scrolled": true
   },
   "outputs": [
    {
     "data": {
      "text/plain": [
       "<matplotlib.axes._subplots.AxesSubplot at 0x7fe42a559a50>"
      ]
     },
     "execution_count": 22,
     "metadata": {},
     "output_type": "execute_result"
    },
    {
     "data": {
      "image/png": "[encoded data removed]",
      "text/plain": [
       "<Figure size 432x288 with 1 Axes>"
      ]
     },
     "metadata": {
      "needs_background": "light"
     },
     "output_type": "display_data"
    }
   ],
   "source": [
    "df['Edo Civil'].value_counts().plot(kind='bar') #Hay ligeramente más solteros que casados"
   ]
  },
  {
   "cell_type": "code",
   "execution_count": 28,
   "metadata": {
    "scrolled": true
   },
   "outputs": [
    {
     "data": {
      "text/plain": [
       "Edo Civil\n",
       "C    24669.383978\n",
       "S    24835.644444\n",
       "Name: Ingresos, dtype: float64"
      ]
     },
     "execution_count": 28,
     "metadata": {},
     "output_type": "execute_result"
    }
   ],
   "source": [
    "df.groupby('Edo Civil')['Ingresos'].mean() #sus ingresos en promedio son similares"
   ]
  },
  {
   "cell_type": "code",
   "execution_count": 31,
   "metadata": {
    "scrolled": false
   },
   "outputs": [
    {
     "data": {
      "application/vnd.plotly.v1+json": {
       "config": {
        "plotlyServerURL": "https://plot.ly"
       },
       "data": [
        {
         "alignmentgroup": "True",
         "hovertemplate": "Ingresos=%{y}<extra></extra>",
         "legendgroup": "",
         "marker": {
          "color": "#636efa"
         },
         "name": "",
         "notched": false,
         "offsetgroup": "",
         "orientation": "v",
         "showlegend": false,
         "type": "box",
         "x0": " ",
         "xaxis": "x",
         "y": [
          24177,
          43386,
          49929,
          695,
          15015,
          33501,
          23469,
          34550,
          49733,
          33626,
          38198,
          18536,
          49089,
          18270,
          23288,
          43783,
          10156,
          3632,
          7294,
          276,
          7423,
          24002,
          39490,
          14970,
          7122,
          30464,
          8965,
          35782,
          238,
          42229,
          32970,
          46878,
          49858,
          21893,
          30425,
          7792,
          44071,
          5938,
          40862,
          35684,
          8517,
          3413,
          22434,
          18932,
          22300,
          17247,
          44032,
          35757,
          38920,
          23419,
          14495,
          43967,
          18186,
          890,
          29789,
          30946,
          34392,
          45740,
          37352,
          24156,
          13237,
          41981,
          23039,
          25849,
          1349,
          9234,
          12603,
          17166,
          41883,
          23809,
          42055,
          2072,
          24435,
          7185,
          24586,
          18817,
          17534,
          48821,
          577,
          44564,
          49983,
          37777,
          6251,
          27743,
          29723,
          13532,
          20131,
          25537,
          2784,
          22416,
          15314,
          39541,
          13835,
          40852,
          32211,
          25083,
          29662,
          38048,
          12551,
          16622,
          1412,
          29586,
          31288,
          35574,
          26038,
          32600,
          8398,
          7525,
          45718,
          45187,
          20711,
          28737,
          49194,
          38452,
          4854,
          26526,
          47389,
          15687,
          13702,
          48763,
          21885,
          34892,
          34099,
          27398,
          23818,
          25766,
          26792,
          46882,
          39055,
          24026,
          30486,
          3308,
          30515,
          30367,
          17924,
          37256,
          980,
          18068,
          49397,
          44636,
          39552,
          15306,
          45950,
          38940,
          17280,
          16193,
          40977,
          41029,
          2002,
          8793,
          10433,
          31285,
          33177,
          25251,
          46409,
          34618,
          16370,
          22847,
          4192,
          39195,
          40257,
          9232,
          10685,
          16274,
          29607,
          26767,
          21830,
          37814,
          29529,
          5639,
          35071,
          31818,
          30817,
          14063,
          46007,
          29421,
          31249,
          46351,
          5285,
          34780,
          26152,
          42325,
          35368,
          9629,
          23754,
          4884,
          14462,
          10983,
          42995,
          43075,
          9551,
          41747,
          6465,
          21982,
          9114,
          41032,
          26075,
          28018,
          16311,
          28764,
          30823,
          28375,
          5947,
          37055,
          3271,
          11184,
          1078,
          10040,
          779,
          38004,
          18401,
          44006,
          451,
          37925,
          17530,
          21516,
          43694,
          2676,
          2181,
          27037,
          44366,
          38277,
          24692,
          17332,
          23548,
          33936,
          29695,
          24939,
          27538,
          33838,
          11928,
          42915,
          6236,
          25197,
          23691,
          36860,
          43928,
          38214,
          31604,
          35765,
          499,
          10104,
          44135,
          19978,
          7326,
          2977,
          49494,
          21065,
          14643,
          22034,
          33494,
          12436,
          27417,
          45792,
          36178,
          40978,
          18066,
          45874,
          32243,
          19722,
          1138,
          46346,
          15284,
          25246,
          26088,
          37615,
          36675,
          21929,
          27290,
          21696,
          48832,
          16428,
          25447,
          3501,
          40099,
          23202,
          43593,
          9096,
          6204,
          39687,
          49358,
          31596,
          1230,
          1723,
          13182,
          1811,
          29396,
          234,
          16782,
          31607,
          3867,
          20333,
          29347,
          4770,
          31800,
          18801,
          1305,
          24802,
          17455,
          28354,
          21261,
          13668,
          35247,
          4501,
          29752,
          49590,
          12434,
          7021,
          47979,
          46411,
          25026,
          32526,
          14504,
          23238,
          46101,
          20060,
          45956,
          28211,
          6130,
          37095,
          28793,
          2626,
          43079,
          31448,
          17934,
          39370,
          47981,
          18457,
          25581,
          42543,
          17245,
          28906,
          16410,
          21863,
          28333,
          10965,
          46159,
          10456,
          11652,
          18369,
          47796,
          14222,
          3796,
          23418,
          37539,
          29847,
          45702,
          6197,
          18937,
          40815,
          31503,
          7418,
          18778,
          12028,
          21431,
          39875,
          1761,
          8327,
          9770,
          40868,
          26873,
          11193,
          13819,
          6776,
          25158,
          37433,
          17354,
          47287,
          34654,
          37145,
          37099,
          48745,
          29054,
          43615,
          28332,
          5127,
          14029,
          1606,
          48749,
          45457,
          49544,
          1961,
          20901,
          23770,
          21921,
          31571,
          3555,
          22835,
          30954,
          24758,
          46862,
          17211,
          21936,
          22974,
          8621,
          33912,
          28962,
          41155,
          33873,
          44416,
          6467,
          2816,
          12057,
          11324,
          38852,
          40804,
          39010,
          5942,
          21829,
          19804,
          3172,
          39063,
          32732,
          2046,
          26020,
          17296,
          42371,
          35054,
          40541,
          1338,
          16954,
          374,
          20786,
          35026,
          20770,
          19409,
          39463,
          28065,
          39112,
          9099,
          149,
          25257,
          10597,
          5439,
          32696,
          11794,
          18293,
          41598,
          48162,
          10250,
          12470,
          29771,
          41357,
          29566,
          16420,
          1985,
          33746,
          48816,
          20966,
          15307,
          33175,
          48190,
          32743,
          2472,
          32332,
          9449,
          25569,
          15354,
          20102,
          19177,
          9979,
          48366,
          39152,
          25332,
          17010,
          10935,
          3377,
          6181,
          32455,
          10170,
          1851,
          43995,
          29904,
          30257,
          28219,
          32535,
          36977,
          44121,
          49891,
          32319,
          30997,
          48966,
          40507,
          11397,
          41558,
          14170,
          10818,
          29612,
          44386,
          4184,
          9144,
          28480,
          4913,
          30906,
          20657,
          23133,
          6858,
          7237,
          16274,
          3247,
          30188,
          17879,
          23684,
          12247,
          40636,
          33534,
          26679,
          11767,
          29819,
          28086,
          13236,
          28046,
          31700,
          20176,
          345,
          7751,
          22060,
          27494,
          4979,
          13542,
          5231,
          25407,
          20681,
          37307,
          19607,
          26252,
          722,
          40409,
          43024,
          31237,
          21989,
          22500,
          8651,
          41519,
          18420,
          36118,
          37032,
          10104,
          11405,
          48497,
          35395,
          43831,
          38587,
          18439,
          4234,
          16981,
          45574,
          25184,
          3172,
          168,
          4988,
          27980,
          16114,
          42764,
          31508,
          42485,
          3798,
          6314,
          21541,
          15984,
          18695,
          38657,
          35581,
          37841,
          6961,
          10085,
          39965,
          41628,
          17363,
          2309,
          71,
          23633,
          16599,
          29894,
          18547,
          4913,
          7706,
          18197,
          1567,
          30028,
          16892,
          23597,
          29113,
          42797,
          25454,
          26508,
          36453,
          12667,
          20938,
          32799,
          27685,
          4029,
          35000,
          35685,
          26619,
          44836,
          4929,
          48766,
          7510,
          12466,
          49787,
          25789,
          4987,
          30144,
          29634,
          42437,
          47034,
          28647,
          43855,
          18018,
          13930,
          2762,
          997,
          33032,
          43789,
          33725,
          4225,
          40985,
          11482,
          7286,
          6257,
          45328,
          18811,
          34071,
          21738,
          28768,
          23265,
          24786,
          38738,
          12055,
          31366,
          31289,
          30489,
          34014,
          11353,
          23895,
          44509,
          38543,
          44069,
          34934,
          11188,
          27440,
          33449,
          13948,
          49614,
          18808,
          21551,
          16260,
          41437,
          49089,
          21049,
          31906,
          17272,
          14075,
          22680,
          7403,
          31304,
          13368,
          12041,
          28417,
          36329,
          31742,
          32579,
          31676,
          34899,
          34648,
          19227,
          16942,
          38975,
          12982,
          39548,
          40832,
          13814,
          42283,
          21245,
          7153,
          47338,
          19730,
          2434,
          40486,
          43527,
          4275,
          21574,
          2150,
          47002,
          22138,
          1094,
          4688,
          5004,
          27717,
          32678,
          43963,
          45567,
          29035,
          49644,
          46688,
          34333,
          49817,
          32735,
          45979,
          35068,
          8381,
          6212,
          10556,
          20637,
          16324,
          40516,
          22403,
          35654,
          6944,
          5158,
          12267,
          44978,
          23356,
          12113,
          1751,
          45760,
          39901,
          11155,
          45818,
          30628,
          34479,
          20505,
          48412,
          13347,
          22967,
          48434,
          26134,
          48629,
          37785,
          16893,
          19378,
          10549,
          864,
          21643,
          43676,
          39659,
          42667,
          43358,
          34072,
          20061,
          3749,
          20821,
          1727,
          27421,
          28848,
          24138,
          474,
          11745,
          37124,
          27749,
          9435,
          41685,
          22484,
          25197,
          2344,
          36680,
          6541,
          28058,
          27538,
          4740,
          20429,
          5280,
          11855,
          7230,
          2039,
          12497
         ],
         "y0": " ",
         "yaxis": "y"
        }
       ],
       "layout": {
        "boxmode": "group",
        "legend": {
         "tracegroupgap": 0
        },
        "template": {
         "data": {
          "bar": [
           {
            "error_x": {
             "color": "#2a3f5f"
            },
            "error_y": {
             "color": "#2a3f5f"
            },
            "marker": {
             "line": {
              "color": "#E5ECF6",
              "width": 0.5
             }
            },
            "type": "bar"
           }
          ],
          "barpolar": [
           {
            "marker": {
             "line": {
              "color": "#E5ECF6",
              "width": 0.5
             }
            },
            "type": "barpolar"
           }
          ],
          "carpet": [
           {
            "aaxis": {
             "endlinecolor": "#2a3f5f",
             "gridcolor": "white",
             "linecolor": "white",
             "minorgridcolor": "white",
             "startlinecolor": "#2a3f5f"
            },
            "baxis": {
             "endlinecolor": "#2a3f5f",
             "gridcolor": "white",
             "linecolor": "white",
             "minorgridcolor": "white",
             "startlinecolor": "#2a3f5f"
            },
            "type": "carpet"
           }
          ],
          "choropleth": [
           {
            "colorbar": {
             "outlinewidth": 0,
             "ticks": ""
            },
            "type": "choropleth"
           }
          ],
          "contour": [
           {
            "colorbar": {
             "outlinewidth": 0,
             "ticks": ""
            },
            "colorscale": [
             [
              0,
              "#0d0887"
             ],
             [
              0.1111111111111111,
              "#46039f"
             ],
             [
              0.2222222222222222,
              "#7201a8"
             ],
             [
              0.3333333333333333,
              "#9c179e"
             ],
             [
              0.4444444444444444,
              "#bd3786"
             ],
             [
              0.5555555555555556,
              "#d8576b"
             ],
             [
              0.6666666666666666,
              "#ed7953"
             ],
             [
              0.7777777777777778,
              "#fb9f3a"
             ],
             [
              0.8888888888888888,
              "#fdca26"
             ],
             [
              1,
              "#f0f921"
             ]
            ],
            "type": "contour"
           }
          ],
          "contourcarpet": [
           {
            "colorbar": {
             "outlinewidth": 0,
             "ticks": ""
            },
            "type": "contourcarpet"
           }
          ],
          "heatmap": [
           {
            "colorbar": {
             "outlinewidth": 0,
             "ticks": ""
            },
            "colorscale": [
             [
              0,
              "#0d0887"
             ],
             [
              0.1111111111111111,
              "#46039f"
             ],
             [
              0.2222222222222222,
              "#7201a8"
             ],
             [
              0.3333333333333333,
              "#9c179e"
             ],
             [
              0.4444444444444444,
              "#bd3786"
             ],
             [
              0.5555555555555556,
              "#d8576b"
             ],
             [
              0.6666666666666666,
              "#ed7953"
             ],
             [
              0.7777777777777778,
              "#fb9f3a"
             ],
             [
              0.8888888888888888,
              "#fdca26"
             ],
             [
              1,
              "#f0f921"
             ]
            ],
            "type": "heatmap"
           }
          ],
          "heatmapgl": [
           {
            "colorbar": {
             "outlinewidth": 0,
             "ticks": ""
            },
            "colorscale": [
             [
              0,
              "#0d0887"
             ],
             [
              0.1111111111111111,
              "#46039f"
             ],
             [
              0.2222222222222222,
              "#7201a8"
             ],
             [
              0.3333333333333333,
              "#9c179e"
             ],
             [
              0.4444444444444444,
              "#bd3786"
             ],
             [
              0.5555555555555556,
              "#d8576b"
             ],
             [
              0.6666666666666666,
              "#ed7953"
             ],
             [
              0.7777777777777778,
              "#fb9f3a"
             ],
             [
              0.8888888888888888,
              "#fdca26"
             ],
             [
              1,
              "#f0f921"
             ]
            ],
            "type": "heatmapgl"
           }
          ],
          "histogram": [
           {
            "marker": {
             "colorbar": {
              "outlinewidth": 0,
              "ticks": ""
             }
            },
            "type": "histogram"
           }
          ],
          "histogram2d": [
           {
            "colorbar": {
             "outlinewidth": 0,
             "ticks": ""
            },
            "colorscale": [
             [
              0,
              "#0d0887"
             ],
             [
              0.1111111111111111,
              "#46039f"
             ],
             [
              0.2222222222222222,
              "#7201a8"
             ],
             [
              0.3333333333333333,
              "#9c179e"
             ],
             [
              0.4444444444444444,
              "#bd3786"
             ],
             [
              0.5555555555555556,
              "#d8576b"
             ],
             [
              0.6666666666666666,
              "#ed7953"
             ],
             [
              0.7777777777777778,
              "#fb9f3a"
             ],
             [
              0.8888888888888888,
              "#fdca26"
             ],
             [
              1,
              "#f0f921"
             ]
            ],
            "type": "histogram2d"
           }
          ],
          "histogram2dcontour": [
           {
            "colorbar": {
             "outlinewidth": 0,
             "ticks": ""
            },
            "colorscale": [
             [
              0,
              "#0d0887"
             ],
             [
              0.1111111111111111,
              "#46039f"
             ],
             [
              0.2222222222222222,
              "#7201a8"
             ],
             [
              0.3333333333333333,
              "#9c179e"
             ],
             [
              0.4444444444444444,
              "#bd3786"
             ],
             [
              0.5555555555555556,
              "#d8576b"
             ],
             [
              0.6666666666666666,
              "#ed7953"
             ],
             [
              0.7777777777777778,
              "#fb9f3a"
             ],
             [
              0.8888888888888888,
              "#fdca26"
             ],
             [
              1,
              "#f0f921"
             ]
            ],
            "type": "histogram2dcontour"
           }
          ],
          "mesh3d": [
           {
            "colorbar": {
             "outlinewidth": 0,
             "ticks": ""
            },
            "type": "mesh3d"
           }
          ],
          "parcoords": [
           {
            "line": {
             "colorbar": {
              "outlinewidth": 0,
              "ticks": ""
             }
            },
            "type": "parcoords"
           }
          ],
          "pie": [
           {
            "automargin": true,
            "type": "pie"
           }
          ],
          "scatter": [
           {
            "marker": {
             "colorbar": {
              "outlinewidth": 0,
              "ticks": ""
             }
            },
            "type": "scatter"
           }
          ],
          "scatter3d": [
           {
            "line": {
             "colorbar": {
              "outlinewidth": 0,
              "ticks": ""
             }
            },
            "marker": {
             "colorbar": {
              "outlinewidth": 0,
              "ticks": ""
             }
            },
            "type": "scatter3d"
           }
          ],
          "scattercarpet": [
           {
            "marker": {
             "colorbar": {
              "outlinewidth": 0,
              "ticks": ""
             }
            },
            "type": "scattercarpet"
           }
          ],
          "scattergeo": [
           {
            "marker": {
             "colorbar": {
              "outlinewidth": 0,
              "ticks": ""
             }
            },
            "type": "scattergeo"
           }
          ],
          "scattergl": [
           {
            "marker": {
             "colorbar": {
              "outlinewidth": 0,
              "ticks": ""
             }
            },
            "type": "scattergl"
           }
          ],
          "scattermapbox": [
           {
            "marker": {
             "colorbar": {
              "outlinewidth": 0,
              "ticks": ""
             }
            },
            "type": "scattermapbox"
           }
          ],
          "scatterpolar": [
           {
            "marker": {
             "colorbar": {
              "outlinewidth": 0,
              "ticks": ""
             }
            },
            "type": "scatterpolar"
           }
          ],
          "scatterpolargl": [
           {
            "marker": {
             "colorbar": {
              "outlinewidth": 0,
              "ticks": ""
             }
            },
            "type": "scatterpolargl"
           }
          ],
          "scatterternary": [
           {
            "marker": {
             "colorbar": {
              "outlinewidth": 0,
              "ticks": ""
             }
            },
            "type": "scatterternary"
           }
          ],
          "surface": [
           {
            "colorbar": {
             "outlinewidth": 0,
             "ticks": ""
            },
            "colorscale": [
             [
              0,
              "#0d0887"
             ],
             [
              0.1111111111111111,
              "#46039f"
             ],
             [
              0.2222222222222222,
              "#7201a8"
             ],
             [
              0.3333333333333333,
              "#9c179e"
             ],
             [
              0.4444444444444444,
              "#bd3786"
             ],
             [
              0.5555555555555556,
              "#d8576b"
             ],
             [
              0.6666666666666666,
              "#ed7953"
             ],
             [
              0.7777777777777778,
              "#fb9f3a"
             ],
             [
              0.8888888888888888,
              "#fdca26"
             ],
             [
              1,
              "#f0f921"
             ]
            ],
            "type": "surface"
           }
          ],
          "table": [
           {
            "cells": {
             "fill": {
              "color": "#EBF0F8"
             },
             "line": {
              "color": "white"
             }
            },
            "header": {
             "fill": {
              "color": "#C8D4E3"
             },
             "line": {
              "color": "white"
             }
            },
            "type": "table"
           }
          ]
         },
         "layout": {
          "annotationdefaults": {
           "arrowcolor": "#2a3f5f",
           "arrowhead": 0,
           "arrowwidth": 1
          },
          "coloraxis": {
           "colorbar": {
            "outlinewidth": 0,
            "ticks": ""
           }
          },
          "colorscale": {
           "diverging": [
            [
             0,
             "#8e0152"
            ],
            [
             0.1,
             "#c51b7d"
            ],
            [
             0.2,
             "#de77ae"
            ],
            [
             0.3,
             "#f1b6da"
            ],
            [
             0.4,
             "#fde0ef"
            ],
            [
             0.5,
             "#f7f7f7"
            ],
            [
             0.6,
             "#e6f5d0"
            ],
            [
             0.7,
             "#b8e186"
            ],
            [
             0.8,
             "#7fbc41"
            ],
            [
             0.9,
             "#4d9221"
            ],
            [
             1,
             "#276419"
            ]
           ],
           "sequential": [
            [
             0,
             "#0d0887"
            ],
            [
             0.1111111111111111,
             "#46039f"
            ],
            [
             0.2222222222222222,
             "#7201a8"
            ],
            [
             0.3333333333333333,
             "#9c179e"
            ],
            [
             0.4444444444444444,
             "#bd3786"
            ],
            [
             0.5555555555555556,
             "#d8576b"
            ],
            [
             0.6666666666666666,
             "#ed7953"
            ],
            [
             0.7777777777777778,
             "#fb9f3a"
            ],
            [
             0.8888888888888888,
             "#fdca26"
            ],
            [
             1,
             "#f0f921"
            ]
           ],
           "sequentialminus": [
            [
             0,
             "#0d0887"
            ],
            [
             0.1111111111111111,
             "#46039f"
            ],
            [
             0.2222222222222222,
             "#7201a8"
            ],
            [
             0.3333333333333333,
             "#9c179e"
            ],
            [
             0.4444444444444444,
             "#bd3786"
            ],
            [
             0.5555555555555556,
             "#d8576b"
            ],
            [
             0.6666666666666666,
             "#ed7953"
            ],
            [
             0.7777777777777778,
             "#fb9f3a"
            ],
            [
             0.8888888888888888,
             "#fdca26"
            ],
            [
             1,
             "#f0f921"
            ]
           ]
          },
          "colorway": [
           "#636efa",
           "#EF553B",
           "#00cc96",
           "#ab63fa",
           "#FFA15A",
           "#19d3f3",
           "#FF6692",
           "#B6E880",
           "#FF97FF",
           "#FECB52"
          ],
          "font": {
           "color": "#2a3f5f"
          },
          "geo": {
           "bgcolor": "white",
           "lakecolor": "white",
           "landcolor": "#E5ECF6",
           "showlakes": true,
           "showland": true,
           "subunitcolor": "white"
          },
          "hoverlabel": {
           "align": "left"
          },
          "hovermode": "closest",
          "mapbox": {
           "style": "light"
          },
          "paper_bgcolor": "white",
          "plot_bgcolor": "#E5ECF6",
          "polar": {
           "angularaxis": {
            "gridcolor": "white",
            "linecolor": "white",
            "ticks": ""
           },
           "bgcolor": "#E5ECF6",
           "radialaxis": {
            "gridcolor": "white",
            "linecolor": "white",
            "ticks": ""
           }
          },
          "scene": {
           "xaxis": {
            "backgroundcolor": "#E5ECF6",
            "gridcolor": "white",
            "gridwidth": 2,
            "linecolor": "white",
            "showbackground": true,
            "ticks": "",
            "zerolinecolor": "white"
           },
           "yaxis": {
            "backgroundcolor": "#E5ECF6",
            "gridcolor": "white",
            "gridwidth": 2,
            "linecolor": "white",
            "showbackground": true,
            "ticks": "",
            "zerolinecolor": "white"
           },
           "zaxis": {
            "backgroundcolor": "#E5ECF6",
            "gridcolor": "white",
            "gridwidth": 2,
            "linecolor": "white",
            "showbackground": true,
            "ticks": "",
            "zerolinecolor": "white"
           }
          },
          "shapedefaults": {
           "line": {
            "color": "#2a3f5f"
           }
          },
          "ternary": {
           "aaxis": {
            "gridcolor": "white",
            "linecolor": "white",
            "ticks": ""
           },
           "baxis": {
            "gridcolor": "white",
            "linecolor": "white",
            "ticks": ""
           },
           "bgcolor": "#E5ECF6",
           "caxis": {
            "gridcolor": "white",
            "linecolor": "white",
            "ticks": ""
           }
          },
          "title": {
           "x": 0.05
          },
          "xaxis": {
           "automargin": true,
           "gridcolor": "white",
           "linecolor": "white",
           "ticks": "",
           "title": {
            "standoff": 15
           },
           "zerolinecolor": "white",
           "zerolinewidth": 2
          },
          "yaxis": {
           "automargin": true,
           "gridcolor": "white",
           "linecolor": "white",
           "ticks": "",
           "title": {
            "standoff": 15
           },
           "zerolinecolor": "white",
           "zerolinewidth": 2
          }
         }
        },
        "title": {
         "text": "Box plot Ingresos"
        },
        "xaxis": {
         "anchor": "y",
         "domain": [
          0,
          1
         ]
        },
        "yaxis": {
         "anchor": "x",
         "domain": [
          0,
          1
         ],
         "title": {
          "text": "Ingresos"
         }
        }
       }
      },
      "text/html": [
       "<div>                            <div id=\"6d1f6e6f-d7ff-4445-91f6-9784f5a27e1d\" class=\"plotly-graph-div\" style=\"height:525px; width:100%;\"></div>            <script type=\"text/javascript\">                require([\"plotly\"], function(Plotly) {                    window.PLOTLYENV=window.PLOTLYENV || {};                                    if (document.getElementById(\"6d1f6e6f-d7ff-4445-91f6-9784f5a27e1d\")) {                    Plotly.newPlot(                        \"6d1f6e6f-d7ff-4445-91f6-9784f5a27e1d\",                        [{\"alignmentgroup\": \"True\", \"hovertemplate\": \"Ingresos=%{y}<extra></extra>\", \"legendgroup\": \"\", \"marker\": {\"color\": \"#636efa\"}, \"name\": \"\", \"notched\": false, \"offsetgroup\": \"\", \"orientation\": \"v\", \"showlegend\": false, \"type\": \"box\", \"x0\": \" \", \"xaxis\": \"x\", \"y\": [24177, 43386, 49929, 695, 15015, 33501, 23469, 34550, 49733, 33626, 38198, 18536, 49089, 18270, 23288, 43783, 10156, 3632, 7294, 276, 7423, 24002, 39490, 14970, 7122, 30464, 8965, 35782, 238, 42229, 32970, 46878, 49858, 21893, 30425, 7792, 44071, 5938, 40862, 35684, 8517, 3413, 22434, 18932, 22300, 17247, 44032, 35757, 38920, 23419, 14495, 43967, 18186, 890, 29789, 30946, 34392, 45740, 37352, 24156, 13237, 41981, 23039, 25849, 1349, 9234, 12603, 17166, 41883, 23809, 42055, 2072, 24435, 7185, 24586, 18817, 17534, 48821, 577, 44564, 49983, 37777, 6251, 27743, 29723, 13532, 20131, 25537, 2784, 22416, 15314, 39541, 13835, 40852, 32211, 25083, 29662, 38048, 12551, 16622, 1412, 29586, 31288, 35574, 26038, 32600, 8398, 7525, 45718, 45187, 20711, 28737, 49194, 38452, 4854, 26526, 47389, 15687, 13702, 48763, 21885, 34892, 34099, 27398, 23818, 25766, 26792, 46882, 39055, 24026, 30486, 3308, 30515, 30367, 17924, 37256, 980, 18068, 49397, 44636, 39552, 15306, 45950, 38940, 17280, 16193, 40977, 41029, 2002, 8793, 10433, 31285, 33177, 25251, 46409, 34618, 16370, 22847, 4192, 39195, 40257, 9232, 10685, 16274, 29607, 26767, 21830, 37814, 29529, 5639, 35071, 31818, 30817, 14063, 46007, 29421, 31249, 46351, 5285, 34780, 26152, 42325, 35368, 9629, 23754, 4884, 14462, 10983, 42995, 43075, 9551, 41747, 6465, 21982, 9114, 41032, 26075, 28018, 16311, 28764, 30823, 28375, 5947, 37055, 3271, 11184, 1078, 10040, 779, 38004, 18401, 44006, 451, 37925, 17530, 21516, 43694, 2676, 2181, 27037, 44366, 38277, 24692, 17332, 23548, 33936, 29695, 24939, 27538, 33838, 11928, 42915, 6236, 25197, 23691, 36860, 43928, 38214, 31604, 35765, 499, 10104, 44135, 19978, 7326, 2977, 49494, 21065, 14643, 22034, 33494, 12436, 27417, 45792, 36178, 40978, 18066, 45874, 32243, 19722, 1138, 46346, 15284, 25246, 26088, 37615, 36675, 21929, 27290, 21696, 48832, 16428, 25447, 3501, 40099, 23202, 43593, 9096, 6204, 39687, 49358, 31596, 1230, 1723, 13182, 1811, 29396, 234, 16782, 31607, 3867, 20333, 29347, 4770, 31800, 18801, 1305, 24802, 17455, 28354, 21261, 13668, 35247, 4501, 29752, 49590, 12434, 7021, 47979, 46411, 25026, 32526, 14504, 23238, 46101, 20060, 45956, 28211, 6130, 37095, 28793, 2626, 43079, 31448, 17934, 39370, 47981, 18457, 25581, 42543, 17245, 28906, 16410, 21863, 28333, 10965, 46159, 10456, 11652, 18369, 47796, 14222, 3796, 23418, 37539, 29847, 45702, 6197, 18937, 40815, 31503, 7418, 18778, 12028, 21431, 39875, 1761, 8327, 9770, 40868, 26873, 11193, 13819, 6776, 25158, 37433, 17354, 47287, 34654, 37145, 37099, 48745, 29054, 43615, 28332, 5127, 14029, 1606, 48749, 45457, 49544, 1961, 20901, 23770, 21921, 31571, 3555, 22835, 30954, 24758, 46862, 17211, 21936, 22974, 8621, 33912, 28962, 41155, 33873, 44416, 6467, 2816, 12057, 11324, 38852, 40804, 39010, 5942, 21829, 19804, 3172, 39063, 32732, 2046, 26020, 17296, 42371, 35054, 40541, 1338, 16954, 374, 20786, 35026, 20770, 19409, 39463, 28065, 39112, 9099, 149, 25257, 10597, 5439, 32696, 11794, 18293, 41598, 48162, 10250, 12470, 29771, 41357, 29566, 16420, 1985, 33746, 48816, 20966, 15307, 33175, 48190, 32743, 2472, 32332, 9449, 25569, 15354, 20102, 19177, 9979, 48366, 39152, 25332, 17010, 10935, 3377, 6181, 32455, 10170, 1851, 43995, 29904, 30257, 28219, 32535, 36977, 44121, 49891, 32319, 30997, 48966, 40507, 11397, 41558, 14170, 10818, 29612, 44386, 4184, 9144, 28480, 4913, 30906, 20657, 23133, 6858, 7237, 16274, 3247, 30188, 17879, 23684, 12247, 40636, 33534, 26679, 11767, 29819, 28086, 13236, 28046, 31700, 20176, 345, 7751, 22060, 27494, 4979, 13542, 5231, 25407, 20681, 37307, 19607, 26252, 722, 40409, 43024, 31237, 21989, 22500, 8651, 41519, 18420, 36118, 37032, 10104, 11405, 48497, 35395, 43831, 38587, 18439, 4234, 16981, 45574, 25184, 3172, 168, 4988, 27980, 16114, 42764, 31508, 42485, 3798, 6314, 21541, 15984, 18695, 38657, 35581, 37841, 6961, 10085, 39965, 41628, 17363, 2309, 71, 23633, 16599, 29894, 18547, 4913, 7706, 18197, 1567, 30028, 16892, 23597, 29113, 42797, 25454, 26508, 36453, 12667, 20938, 32799, 27685, 4029, 35000, 35685, 26619, 44836, 4929, 48766, 7510, 12466, 49787, 25789, 4987, 30144, 29634, 42437, 47034, 28647, 43855, 18018, 13930, 2762, 997, 33032, 43789, 33725, 4225, 40985, 11482, 7286, 6257, 45328, 18811, 34071, 21738, 28768, 23265, 24786, 38738, 12055, 31366, 31289, 30489, 34014, 11353, 23895, 44509, 38543, 44069, 34934, 11188, 27440, 33449, 13948, 49614, 18808, 21551, 16260, 41437, 49089, 21049, 31906, 17272, 14075, 22680, 7403, 31304, 13368, 12041, 28417, 36329, 31742, 32579, 31676, 34899, 34648, 19227, 16942, 38975, 12982, 39548, 40832, 13814, 42283, 21245, 7153, 47338, 19730, 2434, 40486, 43527, 4275, 21574, 2150, 47002, 22138, 1094, 4688, 5004, 27717, 32678, 43963, 45567, 29035, 49644, 46688, 34333, 49817, 32735, 45979, 35068, 8381, 6212, 10556, 20637, 16324, 40516, 22403, 35654, 6944, 5158, 12267, 44978, 23356, 12113, 1751, 45760, 39901, 11155, 45818, 30628, 34479, 20505, 48412, 13347, 22967, 48434, 26134, 48629, 37785, 16893, 19378, 10549, 864, 21643, 43676, 39659, 42667, 43358, 34072, 20061, 3749, 20821, 1727, 27421, 28848, 24138, 474, 11745, 37124, 27749, 9435, 41685, 22484, 25197, 2344, 36680, 6541, 28058, 27538, 4740, 20429, 5280, 11855, 7230, 2039, 12497], \"y0\": \" \", \"yaxis\": \"y\"}],                        {\"boxmode\": \"group\", \"legend\": {\"tracegroupgap\": 0}, \"template\": {\"data\": {\"bar\": [{\"error_x\": {\"color\": \"#2a3f5f\"}, \"error_y\": {\"color\": \"#2a3f5f\"}, \"marker\": {\"line\": {\"color\": \"#E5ECF6\", \"width\": 0.5}}, \"type\": \"bar\"}], \"barpolar\": [{\"marker\": {\"line\": {\"color\": \"#E5ECF6\", \"width\": 0.5}}, \"type\": \"barpolar\"}], \"carpet\": [{\"aaxis\": {\"endlinecolor\": \"#2a3f5f\", \"gridcolor\": \"white\", \"linecolor\": \"white\", \"minorgridcolor\": \"white\", \"startlinecolor\": \"#2a3f5f\"}, \"baxis\": {\"endlinecolor\": \"#2a3f5f\", \"gridcolor\": \"white\", \"linecolor\": \"white\", \"minorgridcolor\": \"white\", \"startlinecolor\": \"#2a3f5f\"}, \"type\": \"carpet\"}], \"choropleth\": [{\"colorbar\": {\"outlinewidth\": 0, \"ticks\": \"\"}, \"type\": \"choropleth\"}], \"contour\": [{\"colorbar\": {\"outlinewidth\": 0, \"ticks\": \"\"}, \"colorscale\": [[0.0, \"#0d0887\"], [0.1111111111111111, \"#46039f\"], [0.2222222222222222, \"#7201a8\"], [0.3333333333333333, \"#9c179e\"], [0.4444444444444444, \"#bd3786\"], [0.5555555555555556, \"#d8576b\"], [0.6666666666666666, \"#ed7953\"], [0.7777777777777778, \"#fb9f3a\"], [0.8888888888888888, \"#fdca26\"], [1.0, \"#f0f921\"]], \"type\": \"contour\"}], \"contourcarpet\": [{\"colorbar\": {\"outlinewidth\": 0, \"ticks\": \"\"}, \"type\": \"contourcarpet\"}], \"heatmap\": [{\"colorbar\": {\"outlinewidth\": 0, \"ticks\": \"\"}, \"colorscale\": [[0.0, \"#0d0887\"], [0.1111111111111111, \"#46039f\"], [0.2222222222222222, \"#7201a8\"], [0.3333333333333333, \"#9c179e\"], [0.4444444444444444, \"#bd3786\"], [0.5555555555555556, \"#d8576b\"], [0.6666666666666666, \"#ed7953\"], [0.7777777777777778, \"#fb9f3a\"], [0.8888888888888888, \"#fdca26\"], [1.0, \"#f0f921\"]], \"type\": \"heatmap\"}], \"heatmapgl\": [{\"colorbar\": {\"outlinewidth\": 0, \"ticks\": \"\"}, \"colorscale\": [[0.0, \"#0d0887\"], [0.1111111111111111, \"#46039f\"], [0.2222222222222222, \"#7201a8\"], [0.3333333333333333, \"#9c179e\"], [0.4444444444444444, \"#bd3786\"], [0.5555555555555556, \"#d8576b\"], [0.6666666666666666, \"#ed7953\"], [0.7777777777777778, \"#fb9f3a\"], [0.8888888888888888, \"#fdca26\"], [1.0, \"#f0f921\"]], \"type\": \"heatmapgl\"}], \"histogram\": [{\"marker\": {\"colorbar\": {\"outlinewidth\": 0, \"ticks\": \"\"}}, \"type\": \"histogram\"}], \"histogram2d\": [{\"colorbar\": {\"outlinewidth\": 0, \"ticks\": \"\"}, \"colorscale\": [[0.0, \"#0d0887\"], [0.1111111111111111, \"#46039f\"], [0.2222222222222222, \"#7201a8\"], [0.3333333333333333, \"#9c179e\"], [0.4444444444444444, \"#bd3786\"], [0.5555555555555556, \"#d8576b\"], [0.6666666666666666, \"#ed7953\"], [0.7777777777777778, \"#fb9f3a\"], [0.8888888888888888, \"#fdca26\"], [1.0, \"#f0f921\"]], \"type\": \"histogram2d\"}], \"histogram2dcontour\": [{\"colorbar\": {\"outlinewidth\": 0, \"ticks\": \"\"}, \"colorscale\": [[0.0, \"#0d0887\"], [0.1111111111111111, \"#46039f\"], [0.2222222222222222, \"#7201a8\"], [0.3333333333333333, \"#9c179e\"], [0.4444444444444444, \"#bd3786\"], [0.5555555555555556, \"#d8576b\"], [0.6666666666666666, \"#ed7953\"], [0.7777777777777778, \"#fb9f3a\"], [0.8888888888888888, \"#fdca26\"], [1.0, \"#f0f921\"]], \"type\": \"histogram2dcontour\"}], \"mesh3d\": [{\"colorbar\": {\"outlinewidth\": 0, \"ticks\": \"\"}, \"type\": \"mesh3d\"}], \"parcoords\": [{\"line\": {\"colorbar\": {\"outlinewidth\": 0, \"ticks\": \"\"}}, \"type\": \"parcoords\"}], \"pie\": [{\"automargin\": true, \"type\": \"pie\"}], \"scatter\": [{\"marker\": {\"colorbar\": {\"outlinewidth\": 0, \"ticks\": \"\"}}, \"type\": \"scatter\"}], \"scatter3d\": [{\"line\": {\"colorbar\": {\"outlinewidth\": 0, \"ticks\": \"\"}}, \"marker\": {\"colorbar\": {\"outlinewidth\": 0, \"ticks\": \"\"}}, \"type\": \"scatter3d\"}], \"scattercarpet\": [{\"marker\": {\"colorbar\": {\"outlinewidth\": 0, \"ticks\": \"\"}}, \"type\": \"scattercarpet\"}], \"scattergeo\": [{\"marker\": {\"colorbar\": {\"outlinewidth\": 0, \"ticks\": \"\"}}, \"type\": \"scattergeo\"}], \"scattergl\": [{\"marker\": {\"colorbar\": {\"outlinewidth\": 0, \"ticks\": \"\"}}, \"type\": \"scattergl\"}], \"scattermapbox\": [{\"marker\": {\"colorbar\": {\"outlinewidth\": 0, \"ticks\": \"\"}}, \"type\": \"scattermapbox\"}], \"scatterpolar\": [{\"marker\": {\"colorbar\": {\"outlinewidth\": 0, \"ticks\": \"\"}}, \"type\": \"scatterpolar\"}], \"scatterpolargl\": [{\"marker\": {\"colorbar\": {\"outlinewidth\": 0, \"ticks\": \"\"}}, \"type\": \"scatterpolargl\"}], \"scatterternary\": [{\"marker\": {\"colorbar\": {\"outlinewidth\": 0, \"ticks\": \"\"}}, \"type\": \"scatterternary\"}], \"surface\": [{\"colorbar\": {\"outlinewidth\": 0, \"ticks\": \"\"}, \"colorscale\": [[0.0, \"#0d0887\"], [0.1111111111111111, \"#46039f\"], [0.2222222222222222, \"#7201a8\"], [0.3333333333333333, \"#9c179e\"], [0.4444444444444444, \"#bd3786\"], [0.5555555555555556, \"#d8576b\"], [0.6666666666666666, \"#ed7953\"], [0.7777777777777778, \"#fb9f3a\"], [0.8888888888888888, \"#fdca26\"], [1.0, \"#f0f921\"]], \"type\": \"surface\"}], \"table\": [{\"cells\": {\"fill\": {\"color\": \"#EBF0F8\"}, \"line\": {\"color\": \"white\"}}, \"header\": {\"fill\": {\"color\": \"#C8D4E3\"}, \"line\": {\"color\": \"white\"}}, \"type\": \"table\"}]}, \"layout\": {\"annotationdefaults\": {\"arrowcolor\": \"#2a3f5f\", \"arrowhead\": 0, \"arrowwidth\": 1}, \"coloraxis\": {\"colorbar\": {\"outlinewidth\": 0, \"ticks\": \"\"}}, \"colorscale\": {\"diverging\": [[0, \"#8e0152\"], [0.1, \"#c51b7d\"], [0.2, \"#de77ae\"], [0.3, \"#f1b6da\"], [0.4, \"#fde0ef\"], [0.5, \"#f7f7f7\"], [0.6, \"#e6f5d0\"], [0.7, \"#b8e186\"], [0.8, \"#7fbc41\"], [0.9, \"#4d9221\"], [1, \"#276419\"]], \"sequential\": [[0.0, \"#0d0887\"], [0.1111111111111111, \"#46039f\"], [0.2222222222222222, \"#7201a8\"], [0.3333333333333333, \"#9c179e\"], [0.4444444444444444, \"#bd3786\"], [0.5555555555555556, \"#d8576b\"], [0.6666666666666666, \"#ed7953\"], [0.7777777777777778, \"#fb9f3a\"], [0.8888888888888888, \"#fdca26\"], [1.0, \"#f0f921\"]], \"sequentialminus\": [[0.0, \"#0d0887\"], [0.1111111111111111, \"#46039f\"], [0.2222222222222222, \"#7201a8\"], [0.3333333333333333, \"#9c179e\"], [0.4444444444444444, \"#bd3786\"], [0.5555555555555556, \"#d8576b\"], [0.6666666666666666, \"#ed7953\"], [0.7777777777777778, \"#fb9f3a\"], [0.8888888888888888, \"#fdca26\"], [1.0, \"#f0f921\"]]}, \"colorway\": [\"#636efa\", \"#EF553B\", \"#00cc96\", \"#ab63fa\", \"#FFA15A\", \"#19d3f3\", \"#FF6692\", \"#B6E880\", \"#FF97FF\", \"#FECB52\"], \"font\": {\"color\": \"#2a3f5f\"}, \"geo\": {\"bgcolor\": \"white\", \"lakecolor\": \"white\", \"landcolor\": \"#E5ECF6\", \"showlakes\": true, \"showland\": true, \"subunitcolor\": \"white\"}, \"hoverlabel\": {\"align\": \"left\"}, \"hovermode\": \"closest\", \"mapbox\": {\"style\": \"light\"}, \"paper_bgcolor\": \"white\", \"plot_bgcolor\": \"#E5ECF6\", \"polar\": {\"angularaxis\": {\"gridcolor\": \"white\", \"linecolor\": \"white\", \"ticks\": \"\"}, \"bgcolor\": \"#E5ECF6\", \"radialaxis\": {\"gridcolor\": \"white\", \"linecolor\": \"white\", \"ticks\": \"\"}}, \"scene\": {\"xaxis\": {\"backgroundcolor\": \"#E5ECF6\", \"gridcolor\": \"white\", \"gridwidth\": 2, \"linecolor\": \"white\", \"showbackground\": true, \"ticks\": \"\", \"zerolinecolor\": \"white\"}, \"yaxis\": {\"backgroundcolor\": \"#E5ECF6\", \"gridcolor\": \"white\", \"gridwidth\": 2, \"linecolor\": \"white\", \"showbackground\": true, \"ticks\": \"\", \"zerolinecolor\": \"white\"}, \"zaxis\": {\"backgroundcolor\": \"#E5ECF6\", \"gridcolor\": \"white\", \"gridwidth\": 2, \"linecolor\": \"white\", \"showbackground\": true, \"ticks\": \"\", \"zerolinecolor\": \"white\"}}, \"shapedefaults\": {\"line\": {\"color\": \"#2a3f5f\"}}, \"ternary\": {\"aaxis\": {\"gridcolor\": \"white\", \"linecolor\": \"white\", \"ticks\": \"\"}, \"baxis\": {\"gridcolor\": \"white\", \"linecolor\": \"white\", \"ticks\": \"\"}, \"bgcolor\": \"#E5ECF6\", \"caxis\": {\"gridcolor\": \"white\", \"linecolor\": \"white\", \"ticks\": \"\"}}, \"title\": {\"x\": 0.05}, \"xaxis\": {\"automargin\": true, \"gridcolor\": \"white\", \"linecolor\": \"white\", \"ticks\": \"\", \"title\": {\"standoff\": 15}, \"zerolinecolor\": \"white\", \"zerolinewidth\": 2}, \"yaxis\": {\"automargin\": true, \"gridcolor\": \"white\", \"linecolor\": \"white\", \"ticks\": \"\", \"title\": {\"standoff\": 15}, \"zerolinecolor\": \"white\", \"zerolinewidth\": 2}}}, \"title\": {\"text\": \"Box plot Ingresos\"}, \"xaxis\": {\"anchor\": \"y\", \"domain\": [0.0, 1.0]}, \"yaxis\": {\"anchor\": \"x\", \"domain\": [0.0, 1.0], \"title\": {\"text\": \"Ingresos\"}}},                        {\"responsive\": true}                    ).then(function(){\n",
       "                            \n",
       "var gd = document.getElementById('6d1f6e6f-d7ff-4445-91f6-9784f5a27e1d');\n",
       "var x = new MutationObserver(function (mutations, observer) {{\n",
       "        var display = window.getComputedStyle(gd).display;\n",
       "        if (!display || display === 'none') {{\n",
       "            console.log([gd, 'removed!']);\n",
       "            Plotly.purge(gd);\n",
       "            observer.disconnect();\n",
       "        }}\n",
       "}});\n",
       "\n",
       "// Listen for the removal of the full notebook cells\n",
       "var notebookContainer = gd.closest('#notebook-container');\n",
       "if (notebookContainer) {{\n",
       "    x.observe(notebookContainer, {childList: true});\n",
       "}}\n",
       "\n",
       "// Listen for the clearing of the current output cell\n",
       "var outputEl = gd.closest('.output');\n",
       "if (outputEl) {{\n",
       "    x.observe(outputEl, {childList: true});\n",
       "}}\n",
       "\n",
       "                        })                };                });            </script>        </div>"
      ]
     },
     "metadata": {},
     "output_type": "display_data"
    }
   ],
   "source": [
    "fig = px.box(df, y=\"Ingresos\", title= 'Box plot Ingresos')\n",
    "fig.show()\n",
    "#No hay outliers el 50% de los datos se ecuentra entre 12.476 K y 36.678 K the median is 25.083 K"
   ]
  },
  {
   "cell_type": "code",
   "execution_count": 32,
   "metadata": {
    "scrolled": false
   },
   "outputs": [
    {
     "data": {
      "application/vnd.plotly.v1+json": {
       "config": {
        "plotlyServerURL": "https://plot.ly"
       },
       "data": [
        {
         "alignmentgroup": "True",
         "hovertemplate": "Saldo=%{y}<extra></extra>",
         "legendgroup": "",
         "marker": {
          "color": "#636efa"
         },
         "name": "",
         "notched": false,
         "offsetgroup": "",
         "orientation": "v",
         "showlegend": false,
         "type": "box",
         "x0": " ",
         "xaxis": "x",
         "y": [
          60868,
          17586,
          60831,
          32623,
          28221,
          65154,
          29176,
          42894,
          52034,
          4715,
          46196,
          68817,
          58484,
          46052,
          878,
          18833,
          47785,
          16887,
          32761,
          46553,
          35291,
          1212,
          22402,
          44507,
          47750,
          47093,
          40018,
          60595,
          14020,
          62031,
          50014,
          64709,
          53323,
          25368,
          66819,
          23158,
          2350,
          28441,
          63174,
          46581,
          48351,
          66823,
          28287,
          23158,
          69651,
          4333,
          52841,
          17327,
          9389,
          25176,
          30725,
          68295,
          17676,
          34563,
          17861,
          26306,
          37531,
          63318,
          28439,
          69513,
          33505,
          30264,
          44400,
          10108,
          43278,
          31894,
          13675,
          13317,
          7338,
          39327,
          24788,
          1074,
          28946,
          52591,
          46041,
          47274,
          11653,
          68915,
          57618,
          59985,
          35209,
          41216,
          25758,
          4004,
          28888,
          6327,
          14450,
          45378,
          32141,
          47014,
          58962,
          31938,
          23878,
          37085,
          18886,
          52885,
          45639,
          26229,
          2846,
          7061,
          46871,
          69771,
          17613,
          2749,
          38790,
          65074,
          35942,
          67542,
          60035,
          51209,
          31650,
          49895,
          19991,
          59952,
          25863,
          23838,
          21081,
          24251,
          68777,
          28557,
          9875,
          9468,
          27635,
          64345,
          55139,
          66766,
          22512,
          60813,
          65792,
          55071,
          19735,
          52883,
          32208,
          22732,
          42455,
          39786,
          28870,
          9266,
          15862,
          15490,
          51824,
          67938,
          69345,
          35852,
          49156,
          46373,
          31964,
          32289,
          8944,
          3554,
          33351,
          10001,
          15189,
          62448,
          17037,
          66147,
          5156,
          49400,
          66444,
          2367,
          39799,
          10580,
          50501,
          52698,
          442,
          27173,
          49314,
          59523,
          63209,
          50632,
          24470,
          28485,
          45861,
          53374,
          25556,
          37318,
          32059,
          5233,
          67954,
          11854,
          36242,
          61497,
          44987,
          51588,
          22492,
          48773,
          38196,
          67711,
          24471,
          41848,
          44476,
          17855,
          58327,
          5935,
          10681,
          26286,
          18790,
          30236,
          16488,
          8105,
          53640,
          53994,
          47642,
          35478,
          23003,
          62473,
          25042,
          34080,
          58207,
          13211,
          69508,
          15391,
          22429,
          7089,
          29783,
          24159,
          11264,
          3396,
          769,
          35298,
          28054,
          45568,
          18551,
          5495,
          6903,
          20059,
          26891,
          57291,
          10458,
          56186,
          24612,
          37394,
          20785,
          63554,
          48713,
          36235,
          54747,
          65770,
          53278,
          5867,
          29215,
          21378,
          2581,
          61931,
          59871,
          46857,
          18775,
          5098,
          38125,
          57768,
          58531,
          21098,
          18104,
          34556,
          58633,
          45102,
          57559,
          61632,
          3411,
          60996,
          30313,
          10836,
          34821,
          18380,
          38441,
          27286,
          41831,
          667,
          47525,
          54816,
          42508,
          50738,
          62093,
          13831,
          54297,
          62881,
          20143,
          7982,
          63984,
          26943,
          42549,
          6263,
          58655,
          9275,
          3524,
          17190,
          22713,
          54712,
          23227,
          13194,
          13338,
          22366,
          21137,
          31451,
          24642,
          55086,
          37786,
          61290,
          62449,
          34712,
          65386,
          69970,
          43949,
          23952,
          47508,
          24793,
          50920,
          26278,
          11810,
          63082,
          69159,
          42184,
          3846,
          19182,
          35486,
          24097,
          69752,
          44174,
          47410,
          28365,
          21492,
          28286,
          59094,
          14016,
          21985,
          61576,
          25115,
          59923,
          3983,
          47296,
          52221,
          16117,
          32970,
          53859,
          36853,
          56340,
          40549,
          34720,
          63868,
          64916,
          52145,
          51636,
          690,
          7364,
          2899,
          64348,
          45413,
          58311,
          15600,
          12243,
          35542,
          4122,
          53963,
          29905,
          8590,
          52956,
          65129,
          32680,
          65552,
          2305,
          59432,
          53923,
          827,
          58001,
          46913,
          51765,
          50102,
          9045,
          54951,
          1035,
          37801,
          17385,
          12301,
          57856,
          8746,
          28431,
          63642,
          17829,
          44777,
          27215,
          49199,
          3655,
          48623,
          53214,
          47598,
          46984,
          58433,
          8849,
          43527,
          68340,
          41647,
          56038,
          55285,
          30629,
          38493,
          42503,
          46132,
          68170,
          24374,
          7820,
          43341,
          69795,
          51436,
          43324,
          22372,
          58929,
          20529,
          56091,
          19971,
          42443,
          39375,
          10093,
          7787,
          58329,
          45973,
          14723,
          22293,
          64902,
          2900,
          51068,
          48386,
          37116,
          22037,
          48775,
          28470,
          7306,
          53057,
          43048,
          11036,
          69702,
          46119,
          28942,
          13503,
          13800,
          20449,
          60450,
          18554,
          58244,
          42972,
          40486,
          24296,
          62452,
          26021,
          1950,
          43611,
          32056,
          68990,
          63792,
          8886,
          38354,
          61351,
          8835,
          62886,
          52104,
          53290,
          17796,
          30742,
          21093,
          58239,
          66009,
          41404,
          24555,
          24043,
          55928,
          9424,
          25155,
          69844,
          47456,
          27674,
          20630,
          24824,
          15302,
          43379,
          67019,
          56361,
          67537,
          66412,
          63954,
          6564,
          67674,
          35247,
          63401,
          7648,
          18716,
          34448,
          43177,
          14395,
          5463,
          65714,
          64687,
          3402,
          67736,
          34123,
          8347,
          52434,
          38522,
          28482,
          45632,
          47393,
          16950,
          59143,
          60897,
          1148,
          15344,
          43909,
          21368,
          62673,
          5105,
          4272,
          36290,
          25245,
          49591,
          32648,
          29058,
          2361,
          60349,
          69964,
          62716,
          52991,
          9096,
          53926,
          34151,
          37310,
          37379,
          27802,
          50902,
          27587,
          46983,
          30468,
          3821,
          52425,
          347,
          24358,
          58516,
          53263,
          41726,
          52150,
          48752,
          60421,
          47055,
          66022,
          56910,
          9420,
          20184,
          59820,
          24802,
          34743,
          49329,
          18778,
          15857,
          8743,
          57049,
          64628,
          60832,
          1044,
          61184,
          48072,
          59242,
          17793,
          25439,
          8559,
          66673,
          50861,
          62050,
          50764,
          28138,
          3053,
          45478,
          47042,
          29396,
          56481,
          56838,
          49444,
          1331,
          64,
          12824,
          37485,
          2259,
          22811,
          33118,
          63182,
          61239,
          19927,
          36413,
          54694,
          27848,
          26087,
          46727,
          18038,
          6259,
          20018,
          49388,
          29143,
          68084,
          45913,
          30575,
          48304,
          58036,
          8080,
          10841,
          59146,
          407,
          47235,
          60327,
          23086,
          65870,
          2371,
          10859,
          54283,
          45650,
          50368,
          58131,
          64825,
          7579,
          35056,
          17987,
          56842,
          23874,
          56695,
          10081,
          67356,
          66374,
          65256,
          47092,
          50373,
          35170,
          52242,
          20336,
          1125,
          7892,
          39029,
          8599,
          66632,
          68186,
          23052,
          65357,
          21084,
          65429,
          58381,
          67778,
          8758,
          10770,
          33255,
          39728,
          36245,
          3323,
          7030,
          5238,
          23193,
          14175,
          54659,
          25211,
          24771,
          6546,
          42128,
          47189,
          41724,
          32676,
          36775,
          12647,
          41433,
          50138,
          6986,
          59242,
          21736,
          68366,
          9735,
          67663,
          58162,
          17711,
          50571,
          48259,
          49236,
          25932,
          11983,
          69209,
          54727,
          3407,
          62953,
          42841,
          35780,
          10159,
          44401,
          40818,
          59176,
          64056,
          29572,
          49603,
          34693,
          51013,
          16718,
          7507,
          56344,
          27456,
          16081,
          6583,
          33864,
          67987,
          61354,
          26746,
          12839,
          68179,
          39784,
          50126,
          57470,
          35395,
          22971,
          13263,
          29172,
          67120,
          58585,
          43614,
          17776,
          40662,
          69667,
          4629,
          29909,
          1781,
          18774,
          8662,
          21967,
          21427,
          35776,
          23008,
          15970,
          47431,
          11602,
          33172,
          17343,
          64632,
          41650,
          11360,
          49564,
          8687,
          26829,
          25592,
          60799,
          63619,
          19480,
          44490,
          39228,
          65091,
          36050,
          10517,
          45174,
          23999,
          37156,
          39217,
          20011,
          26101,
          7792,
          11472,
          58990,
          9079,
          11668,
          7454,
          46685,
          1052,
          66692,
          2958,
          12862,
          28834,
          68799,
          40248,
          59379,
          8675,
          41727
         ],
         "y0": " ",
         "yaxis": "y"
        }
       ],
       "layout": {
        "boxmode": "group",
        "legend": {
         "tracegroupgap": 0
        },
        "template": {
         "data": {
          "bar": [
           {
            "error_x": {
             "color": "#2a3f5f"
            },
            "error_y": {
             "color": "#2a3f5f"
            },
            "marker": {
             "line": {
              "color": "#E5ECF6",
              "width": 0.5
             }
            },
            "type": "bar"
           }
          ],
          "barpolar": [
           {
            "marker": {
             "line": {
              "color": "#E5ECF6",
              "width": 0.5
             }
            },
            "type": "barpolar"
           }
          ],
          "carpet": [
           {
            "aaxis": {
             "endlinecolor": "#2a3f5f",
             "gridcolor": "white",
             "linecolor": "white",
             "minorgridcolor": "white",
             "startlinecolor": "#2a3f5f"
            },
            "baxis": {
             "endlinecolor": "#2a3f5f",
             "gridcolor": "white",
             "linecolor": "white",
             "minorgridcolor": "white",
             "startlinecolor": "#2a3f5f"
            },
            "type": "carpet"
           }
          ],
          "choropleth": [
           {
            "colorbar": {
             "outlinewidth": 0,
             "ticks": ""
            },
            "type": "choropleth"
           }
          ],
          "contour": [
           {
            "colorbar": {
             "outlinewidth": 0,
             "ticks": ""
            },
            "colorscale": [
             [
              0,
              "#0d0887"
             ],
             [
              0.1111111111111111,
              "#46039f"
             ],
             [
              0.2222222222222222,
              "#7201a8"
             ],
             [
              0.3333333333333333,
              "#9c179e"
             ],
             [
              0.4444444444444444,
              "#bd3786"
             ],
             [
              0.5555555555555556,
              "#d8576b"
             ],
             [
              0.6666666666666666,
              "#ed7953"
             ],
             [
              0.7777777777777778,
              "#fb9f3a"
             ],
             [
              0.8888888888888888,
              "#fdca26"
             ],
             [
              1,
              "#f0f921"
             ]
            ],
            "type": "contour"
           }
          ],
          "contourcarpet": [
           {
            "colorbar": {
             "outlinewidth": 0,
             "ticks": ""
            },
            "type": "contourcarpet"
           }
          ],
          "heatmap": [
           {
            "colorbar": {
             "outlinewidth": 0,
             "ticks": ""
            },
            "colorscale": [
             [
              0,
              "#0d0887"
             ],
             [
              0.1111111111111111,
              "#46039f"
             ],
             [
              0.2222222222222222,
              "#7201a8"
             ],
             [
              0.3333333333333333,
              "#9c179e"
             ],
             [
              0.4444444444444444,
              "#bd3786"
             ],
             [
              0.5555555555555556,
              "#d8576b"
             ],
             [
              0.6666666666666666,
              "#ed7953"
             ],
             [
              0.7777777777777778,
              "#fb9f3a"
             ],
             [
              0.8888888888888888,
              "#fdca26"
             ],
             [
              1,
              "#f0f921"
             ]
            ],
            "type": "heatmap"
           }
          ],
          "heatmapgl": [
           {
            "colorbar": {
             "outlinewidth": 0,
             "ticks": ""
            },
            "colorscale": [
             [
              0,
              "#0d0887"
             ],
             [
              0.1111111111111111,
              "#46039f"
             ],
             [
              0.2222222222222222,
              "#7201a8"
             ],
             [
              0.3333333333333333,
              "#9c179e"
             ],
             [
              0.4444444444444444,
              "#bd3786"
             ],
             [
              0.5555555555555556,
              "#d8576b"
             ],
             [
              0.6666666666666666,
              "#ed7953"
             ],
             [
              0.7777777777777778,
              "#fb9f3a"
             ],
             [
              0.8888888888888888,
              "#fdca26"
             ],
             [
              1,
              "#f0f921"
             ]
            ],
            "type": "heatmapgl"
           }
          ],
          "histogram": [
           {
            "marker": {
             "colorbar": {
              "outlinewidth": 0,
              "ticks": ""
             }
            },
            "type": "histogram"
           }
          ],
          "histogram2d": [
           {
            "colorbar": {
             "outlinewidth": 0,
             "ticks": ""
            },
            "colorscale": [
             [
              0,
              "#0d0887"
             ],
             [
              0.1111111111111111,
              "#46039f"
             ],
             [
              0.2222222222222222,
              "#7201a8"
             ],
             [
              0.3333333333333333,
              "#9c179e"
             ],
             [
              0.4444444444444444,
              "#bd3786"
             ],
             [
              0.5555555555555556,
              "#d8576b"
             ],
             [
              0.6666666666666666,
              "#ed7953"
             ],
             [
              0.7777777777777778,
              "#fb9f3a"
             ],
             [
              0.8888888888888888,
              "#fdca26"
             ],
             [
              1,
              "#f0f921"
             ]
            ],
            "type": "histogram2d"
           }
          ],
          "histogram2dcontour": [
           {
            "colorbar": {
             "outlinewidth": 0,
             "ticks": ""
            },
            "colorscale": [
             [
              0,
              "#0d0887"
             ],
             [
              0.1111111111111111,
              "#46039f"
             ],
             [
              0.2222222222222222,
              "#7201a8"
             ],
             [
              0.3333333333333333,
              "#9c179e"
             ],
             [
              0.4444444444444444,
              "#bd3786"
             ],
             [
              0.5555555555555556,
              "#d8576b"
             ],
             [
              0.6666666666666666,
              "#ed7953"
             ],
             [
              0.7777777777777778,
              "#fb9f3a"
             ],
             [
              0.8888888888888888,
              "#fdca26"
             ],
             [
              1,
              "#f0f921"
             ]
            ],
            "type": "histogram2dcontour"
           }
          ],
          "mesh3d": [
           {
            "colorbar": {
             "outlinewidth": 0,
             "ticks": ""
            },
            "type": "mesh3d"
           }
          ],
          "parcoords": [
           {
            "line": {
             "colorbar": {
              "outlinewidth": 0,
              "ticks": ""
             }
            },
            "type": "parcoords"
           }
          ],
          "pie": [
           {
            "automargin": true,
            "type": "pie"
           }
          ],
          "scatter": [
           {
            "marker": {
             "colorbar": {
              "outlinewidth": 0,
              "ticks": ""
             }
            },
            "type": "scatter"
           }
          ],
          "scatter3d": [
           {
            "line": {
             "colorbar": {
              "outlinewidth": 0,
              "ticks": ""
             }
            },
            "marker": {
             "colorbar": {
              "outlinewidth": 0,
              "ticks": ""
             }
            },
            "type": "scatter3d"
           }
          ],
          "scattercarpet": [
           {
            "marker": {
             "colorbar": {
              "outlinewidth": 0,
              "ticks": ""
             }
            },
            "type": "scattercarpet"
           }
          ],
          "scattergeo": [
           {
            "marker": {
             "colorbar": {
              "outlinewidth": 0,
              "ticks": ""
             }
            },
            "type": "scattergeo"
           }
          ],
          "scattergl": [
           {
            "marker": {
             "colorbar": {
              "outlinewidth": 0,
              "ticks": ""
             }
            },
            "type": "scattergl"
           }
          ],
          "scattermapbox": [
           {
            "marker": {
             "colorbar": {
              "outlinewidth": 0,
              "ticks": ""
             }
            },
            "type": "scattermapbox"
           }
          ],
          "scatterpolar": [
           {
            "marker": {
             "colorbar": {
              "outlinewidth": 0,
              "ticks": ""
             }
            },
            "type": "scatterpolar"
           }
          ],
          "scatterpolargl": [
           {
            "marker": {
             "colorbar": {
              "outlinewidth": 0,
              "ticks": ""
             }
            },
            "type": "scatterpolargl"
           }
          ],
          "scatterternary": [
           {
            "marker": {
             "colorbar": {
              "outlinewidth": 0,
              "ticks": ""
             }
            },
            "type": "scatterternary"
           }
          ],
          "surface": [
           {
            "colorbar": {
             "outlinewidth": 0,
             "ticks": ""
            },
            "colorscale": [
             [
              0,
              "#0d0887"
             ],
             [
              0.1111111111111111,
              "#46039f"
             ],
             [
              0.2222222222222222,
              "#7201a8"
             ],
             [
              0.3333333333333333,
              "#9c179e"
             ],
             [
              0.4444444444444444,
              "#bd3786"
             ],
             [
              0.5555555555555556,
              "#d8576b"
             ],
             [
              0.6666666666666666,
              "#ed7953"
             ],
             [
              0.7777777777777778,
              "#fb9f3a"
             ],
             [
              0.8888888888888888,
              "#fdca26"
             ],
             [
              1,
              "#f0f921"
             ]
            ],
            "type": "surface"
           }
          ],
          "table": [
           {
            "cells": {
             "fill": {
              "color": "#EBF0F8"
             },
             "line": {
              "color": "white"
             }
            },
            "header": {
             "fill": {
              "color": "#C8D4E3"
             },
             "line": {
              "color": "white"
             }
            },
            "type": "table"
           }
          ]
         },
         "layout": {
          "annotationdefaults": {
           "arrowcolor": "#2a3f5f",
           "arrowhead": 0,
           "arrowwidth": 1
          },
          "coloraxis": {
           "colorbar": {
            "outlinewidth": 0,
            "ticks": ""
           }
          },
          "colorscale": {
           "diverging": [
            [
             0,
             "#8e0152"
            ],
            [
             0.1,
             "#c51b7d"
            ],
            [
             0.2,
             "#de77ae"
            ],
            [
             0.3,
             "#f1b6da"
            ],
            [
             0.4,
             "#fde0ef"
            ],
            [
             0.5,
             "#f7f7f7"
            ],
            [
             0.6,
             "#e6f5d0"
            ],
            [
             0.7,
             "#b8e186"
            ],
            [
             0.8,
             "#7fbc41"
            ],
            [
             0.9,
             "#4d9221"
            ],
            [
             1,
             "#276419"
            ]
           ],
           "sequential": [
            [
             0,
             "#0d0887"
            ],
            [
             0.1111111111111111,
             "#46039f"
            ],
            [
             0.2222222222222222,
             "#7201a8"
            ],
            [
             0.3333333333333333,
             "#9c179e"
            ],
            [
             0.4444444444444444,
             "#bd3786"
            ],
            [
             0.5555555555555556,
             "#d8576b"
            ],
            [
             0.6666666666666666,
             "#ed7953"
            ],
            [
             0.7777777777777778,
             "#fb9f3a"
            ],
            [
             0.8888888888888888,
             "#fdca26"
            ],
            [
             1,
             "#f0f921"
            ]
           ],
           "sequentialminus": [
            [
             0,
             "#0d0887"
            ],
            [
             0.1111111111111111,
             "#46039f"
            ],
            [
             0.2222222222222222,
             "#7201a8"
            ],
            [
             0.3333333333333333,
             "#9c179e"
            ],
            [
             0.4444444444444444,
             "#bd3786"
            ],
            [
             0.5555555555555556,
             "#d8576b"
            ],
            [
             0.6666666666666666,
             "#ed7953"
            ],
            [
             0.7777777777777778,
             "#fb9f3a"
            ],
            [
             0.8888888888888888,
             "#fdca26"
            ],
            [
             1,
             "#f0f921"
            ]
           ]
          },
          "colorway": [
           "#636efa",
           "#EF553B",
           "#00cc96",
           "#ab63fa",
           "#FFA15A",
           "#19d3f3",
           "#FF6692",
           "#B6E880",
           "#FF97FF",
           "#FECB52"
          ],
          "font": {
           "color": "#2a3f5f"
          },
          "geo": {
           "bgcolor": "white",
           "lakecolor": "white",
           "landcolor": "#E5ECF6",
           "showlakes": true,
           "showland": true,
           "subunitcolor": "white"
          },
          "hoverlabel": {
           "align": "left"
          },
          "hovermode": "closest",
          "mapbox": {
           "style": "light"
          },
          "paper_bgcolor": "white",
          "plot_bgcolor": "#E5ECF6",
          "polar": {
           "angularaxis": {
            "gridcolor": "white",
            "linecolor": "white",
            "ticks": ""
           },
           "bgcolor": "#E5ECF6",
           "radialaxis": {
            "gridcolor": "white",
            "linecolor": "white",
            "ticks": ""
           }
          },
          "scene": {
           "xaxis": {
            "backgroundcolor": "#E5ECF6",
            "gridcolor": "white",
            "gridwidth": 2,
            "linecolor": "white",
            "showbackground": true,
            "ticks": "",
            "zerolinecolor": "white"
           },
           "yaxis": {
            "backgroundcolor": "#E5ECF6",
            "gridcolor": "white",
            "gridwidth": 2,
            "linecolor": "white",
            "showbackground": true,
            "ticks": "",
            "zerolinecolor": "white"
           },
           "zaxis": {
            "backgroundcolor": "#E5ECF6",
            "gridcolor": "white",
            "gridwidth": 2,
            "linecolor": "white",
            "showbackground": true,
            "ticks": "",
            "zerolinecolor": "white"
           }
          },
          "shapedefaults": {
           "line": {
            "color": "#2a3f5f"
           }
          },
          "ternary": {
           "aaxis": {
            "gridcolor": "white",
            "linecolor": "white",
            "ticks": ""
           },
           "baxis": {
            "gridcolor": "white",
            "linecolor": "white",
            "ticks": ""
           },
           "bgcolor": "#E5ECF6",
           "caxis": {
            "gridcolor": "white",
            "linecolor": "white",
            "ticks": ""
           }
          },
          "title": {
           "x": 0.05
          },
          "xaxis": {
           "automargin": true,
           "gridcolor": "white",
           "linecolor": "white",
           "ticks": "",
           "title": {
            "standoff": 15
           },
           "zerolinecolor": "white",
           "zerolinewidth": 2
          },
          "yaxis": {
           "automargin": true,
           "gridcolor": "white",
           "linecolor": "white",
           "ticks": "",
           "title": {
            "standoff": 15
           },
           "zerolinecolor": "white",
           "zerolinewidth": 2
          }
         }
        },
        "title": {
         "text": "Box plot Saldo"
        },
        "xaxis": {
         "anchor": "y",
         "domain": [
          0,
          1
         ]
        },
        "yaxis": {
         "anchor": "x",
         "domain": [
          0,
          1
         ],
         "title": {
          "text": "Saldo"
         }
        }
       }
      },
      "text/html": [
       "<div>                            <div id=\"30de3be0-674d-4c74-8c28-500e7cd557ab\" class=\"plotly-graph-div\" style=\"height:525px; width:100%;\"></div>            <script type=\"text/javascript\">                require([\"plotly\"], function(Plotly) {                    window.PLOTLYENV=window.PLOTLYENV || {};                                    if (document.getElementById(\"30de3be0-674d-4c74-8c28-500e7cd557ab\")) {                    Plotly.newPlot(                        \"30de3be0-674d-4c74-8c28-500e7cd557ab\",                        [{\"alignmentgroup\": \"True\", \"hovertemplate\": \"Saldo=%{y}<extra></extra>\", \"legendgroup\": \"\", \"marker\": {\"color\": \"#636efa\"}, \"name\": \"\", \"notched\": false, \"offsetgroup\": \"\", \"orientation\": \"v\", \"showlegend\": false, \"type\": \"box\", \"x0\": \" \", \"xaxis\": \"x\", \"y\": [60868, 17586, 60831, 32623, 28221, 65154, 29176, 42894, 52034, 4715, 46196, 68817, 58484, 46052, 878, 18833, 47785, 16887, 32761, 46553, 35291, 1212, 22402, 44507, 47750, 47093, 40018, 60595, 14020, 62031, 50014, 64709, 53323, 25368, 66819, 23158, 2350, 28441, 63174, 46581, 48351, 66823, 28287, 23158, 69651, 4333, 52841, 17327, 9389, 25176, 30725, 68295, 17676, 34563, 17861, 26306, 37531, 63318, 28439, 69513, 33505, 30264, 44400, 10108, 43278, 31894, 13675, 13317, 7338, 39327, 24788, 1074, 28946, 52591, 46041, 47274, 11653, 68915, 57618, 59985, 35209, 41216, 25758, 4004, 28888, 6327, 14450, 45378, 32141, 47014, 58962, 31938, 23878, 37085, 18886, 52885, 45639, 26229, 2846, 7061, 46871, 69771, 17613, 2749, 38790, 65074, 35942, 67542, 60035, 51209, 31650, 49895, 19991, 59952, 25863, 23838, 21081, 24251, 68777, 28557, 9875, 9468, 27635, 64345, 55139, 66766, 22512, 60813, 65792, 55071, 19735, 52883, 32208, 22732, 42455, 39786, 28870, 9266, 15862, 15490, 51824, 67938, 69345, 35852, 49156, 46373, 31964, 32289, 8944, 3554, 33351, 10001, 15189, 62448, 17037, 66147, 5156, 49400, 66444, 2367, 39799, 10580, 50501, 52698, 442, 27173, 49314, 59523, 63209, 50632, 24470, 28485, 45861, 53374, 25556, 37318, 32059, 5233, 67954, 11854, 36242, 61497, 44987, 51588, 22492, 48773, 38196, 67711, 24471, 41848, 44476, 17855, 58327, 5935, 10681, 26286, 18790, 30236, 16488, 8105, 53640, 53994, 47642, 35478, 23003, 62473, 25042, 34080, 58207, 13211, 69508, 15391, 22429, 7089, 29783, 24159, 11264, 3396, 769, 35298, 28054, 45568, 18551, 5495, 6903, 20059, 26891, 57291, 10458, 56186, 24612, 37394, 20785, 63554, 48713, 36235, 54747, 65770, 53278, 5867, 29215, 21378, 2581, 61931, 59871, 46857, 18775, 5098, 38125, 57768, 58531, 21098, 18104, 34556, 58633, 45102, 57559, 61632, 3411, 60996, 30313, 10836, 34821, 18380, 38441, 27286, 41831, 667, 47525, 54816, 42508, 50738, 62093, 13831, 54297, 62881, 20143, 7982, 63984, 26943, 42549, 6263, 58655, 9275, 3524, 17190, 22713, 54712, 23227, 13194, 13338, 22366, 21137, 31451, 24642, 55086, 37786, 61290, 62449, 34712, 65386, 69970, 43949, 23952, 47508, 24793, 50920, 26278, 11810, 63082, 69159, 42184, 3846, 19182, 35486, 24097, 69752, 44174, 47410, 28365, 21492, 28286, 59094, 14016, 21985, 61576, 25115, 59923, 3983, 47296, 52221, 16117, 32970, 53859, 36853, 56340, 40549, 34720, 63868, 64916, 52145, 51636, 690, 7364, 2899, 64348, 45413, 58311, 15600, 12243, 35542, 4122, 53963, 29905, 8590, 52956, 65129, 32680, 65552, 2305, 59432, 53923, 827, 58001, 46913, 51765, 50102, 9045, 54951, 1035, 37801, 17385, 12301, 57856, 8746, 28431, 63642, 17829, 44777, 27215, 49199, 3655, 48623, 53214, 47598, 46984, 58433, 8849, 43527, 68340, 41647, 56038, 55285, 30629, 38493, 42503, 46132, 68170, 24374, 7820, 43341, 69795, 51436, 43324, 22372, 58929, 20529, 56091, 19971, 42443, 39375, 10093, 7787, 58329, 45973, 14723, 22293, 64902, 2900, 51068, 48386, 37116, 22037, 48775, 28470, 7306, 53057, 43048, 11036, 69702, 46119, 28942, 13503, 13800, 20449, 60450, 18554, 58244, 42972, 40486, 24296, 62452, 26021, 1950, 43611, 32056, 68990, 63792, 8886, 38354, 61351, 8835, 62886, 52104, 53290, 17796, 30742, 21093, 58239, 66009, 41404, 24555, 24043, 55928, 9424, 25155, 69844, 47456, 27674, 20630, 24824, 15302, 43379, 67019, 56361, 67537, 66412, 63954, 6564, 67674, 35247, 63401, 7648, 18716, 34448, 43177, 14395, 5463, 65714, 64687, 3402, 67736, 34123, 8347, 52434, 38522, 28482, 45632, 47393, 16950, 59143, 60897, 1148, 15344, 43909, 21368, 62673, 5105, 4272, 36290, 25245, 49591, 32648, 29058, 2361, 60349, 69964, 62716, 52991, 9096, 53926, 34151, 37310, 37379, 27802, 50902, 27587, 46983, 30468, 3821, 52425, 347, 24358, 58516, 53263, 41726, 52150, 48752, 60421, 47055, 66022, 56910, 9420, 20184, 59820, 24802, 34743, 49329, 18778, 15857, 8743, 57049, 64628, 60832, 1044, 61184, 48072, 59242, 17793, 25439, 8559, 66673, 50861, 62050, 50764, 28138, 3053, 45478, 47042, 29396, 56481, 56838, 49444, 1331, 64, 12824, 37485, 2259, 22811, 33118, 63182, 61239, 19927, 36413, 54694, 27848, 26087, 46727, 18038, 6259, 20018, 49388, 29143, 68084, 45913, 30575, 48304, 58036, 8080, 10841, 59146, 407, 47235, 60327, 23086, 65870, 2371, 10859, 54283, 45650, 50368, 58131, 64825, 7579, 35056, 17987, 56842, 23874, 56695, 10081, 67356, 66374, 65256, 47092, 50373, 35170, 52242, 20336, 1125, 7892, 39029, 8599, 66632, 68186, 23052, 65357, 21084, 65429, 58381, 67778, 8758, 10770, 33255, 39728, 36245, 3323, 7030, 5238, 23193, 14175, 54659, 25211, 24771, 6546, 42128, 47189, 41724, 32676, 36775, 12647, 41433, 50138, 6986, 59242, 21736, 68366, 9735, 67663, 58162, 17711, 50571, 48259, 49236, 25932, 11983, 69209, 54727, 3407, 62953, 42841, 35780, 10159, 44401, 40818, 59176, 64056, 29572, 49603, 34693, 51013, 16718, 7507, 56344, 27456, 16081, 6583, 33864, 67987, 61354, 26746, 12839, 68179, 39784, 50126, 57470, 35395, 22971, 13263, 29172, 67120, 58585, 43614, 17776, 40662, 69667, 4629, 29909, 1781, 18774, 8662, 21967, 21427, 35776, 23008, 15970, 47431, 11602, 33172, 17343, 64632, 41650, 11360, 49564, 8687, 26829, 25592, 60799, 63619, 19480, 44490, 39228, 65091, 36050, 10517, 45174, 23999, 37156, 39217, 20011, 26101, 7792, 11472, 58990, 9079, 11668, 7454, 46685, 1052, 66692, 2958, 12862, 28834, 68799, 40248, 59379, 8675, 41727], \"y0\": \" \", \"yaxis\": \"y\"}],                        {\"boxmode\": \"group\", \"legend\": {\"tracegroupgap\": 0}, \"template\": {\"data\": {\"bar\": [{\"error_x\": {\"color\": \"#2a3f5f\"}, \"error_y\": {\"color\": \"#2a3f5f\"}, \"marker\": {\"line\": {\"color\": \"#E5ECF6\", \"width\": 0.5}}, \"type\": \"bar\"}], \"barpolar\": [{\"marker\": {\"line\": {\"color\": \"#E5ECF6\", \"width\": 0.5}}, \"type\": \"barpolar\"}], \"carpet\": [{\"aaxis\": {\"endlinecolor\": \"#2a3f5f\", \"gridcolor\": \"white\", \"linecolor\": \"white\", \"minorgridcolor\": \"white\", \"startlinecolor\": \"#2a3f5f\"}, \"baxis\": {\"endlinecolor\": \"#2a3f5f\", \"gridcolor\": \"white\", \"linecolor\": \"white\", \"minorgridcolor\": \"white\", \"startlinecolor\": \"#2a3f5f\"}, \"type\": \"carpet\"}], \"choropleth\": [{\"colorbar\": {\"outlinewidth\": 0, \"ticks\": \"\"}, \"type\": \"choropleth\"}], \"contour\": [{\"colorbar\": {\"outlinewidth\": 0, \"ticks\": \"\"}, \"colorscale\": [[0.0, \"#0d0887\"], [0.1111111111111111, \"#46039f\"], [0.2222222222222222, \"#7201a8\"], [0.3333333333333333, \"#9c179e\"], [0.4444444444444444, \"#bd3786\"], [0.5555555555555556, \"#d8576b\"], [0.6666666666666666, \"#ed7953\"], [0.7777777777777778, \"#fb9f3a\"], [0.8888888888888888, \"#fdca26\"], [1.0, \"#f0f921\"]], \"type\": \"contour\"}], \"contourcarpet\": [{\"colorbar\": {\"outlinewidth\": 0, \"ticks\": \"\"}, \"type\": \"contourcarpet\"}], \"heatmap\": [{\"colorbar\": {\"outlinewidth\": 0, \"ticks\": \"\"}, \"colorscale\": [[0.0, \"#0d0887\"], [0.1111111111111111, \"#46039f\"], [0.2222222222222222, \"#7201a8\"], [0.3333333333333333, \"#9c179e\"], [0.4444444444444444, \"#bd3786\"], [0.5555555555555556, \"#d8576b\"], [0.6666666666666666, \"#ed7953\"], [0.7777777777777778, \"#fb9f3a\"], [0.8888888888888888, \"#fdca26\"], [1.0, \"#f0f921\"]], \"type\": \"heatmap\"}], \"heatmapgl\": [{\"colorbar\": {\"outlinewidth\": 0, \"ticks\": \"\"}, \"colorscale\": [[0.0, \"#0d0887\"], [0.1111111111111111, \"#46039f\"], [0.2222222222222222, \"#7201a8\"], [0.3333333333333333, \"#9c179e\"], [0.4444444444444444, \"#bd3786\"], [0.5555555555555556, \"#d8576b\"], [0.6666666666666666, \"#ed7953\"], [0.7777777777777778, \"#fb9f3a\"], [0.8888888888888888, \"#fdca26\"], [1.0, \"#f0f921\"]], \"type\": \"heatmapgl\"}], \"histogram\": [{\"marker\": {\"colorbar\": {\"outlinewidth\": 0, \"ticks\": \"\"}}, \"type\": \"histogram\"}], \"histogram2d\": [{\"colorbar\": {\"outlinewidth\": 0, \"ticks\": \"\"}, \"colorscale\": [[0.0, \"#0d0887\"], [0.1111111111111111, \"#46039f\"], [0.2222222222222222, \"#7201a8\"], [0.3333333333333333, \"#9c179e\"], [0.4444444444444444, \"#bd3786\"], [0.5555555555555556, \"#d8576b\"], [0.6666666666666666, \"#ed7953\"], [0.7777777777777778, \"#fb9f3a\"], [0.8888888888888888, \"#fdca26\"], [1.0, \"#f0f921\"]], \"type\": \"histogram2d\"}], \"histogram2dcontour\": [{\"colorbar\": {\"outlinewidth\": 0, \"ticks\": \"\"}, \"colorscale\": [[0.0, \"#0d0887\"], [0.1111111111111111, \"#46039f\"], [0.2222222222222222, \"#7201a8\"], [0.3333333333333333, \"#9c179e\"], [0.4444444444444444, \"#bd3786\"], [0.5555555555555556, \"#d8576b\"], [0.6666666666666666, \"#ed7953\"], [0.7777777777777778, \"#fb9f3a\"], [0.8888888888888888, \"#fdca26\"], [1.0, \"#f0f921\"]], \"type\": \"histogram2dcontour\"}], \"mesh3d\": [{\"colorbar\": {\"outlinewidth\": 0, \"ticks\": \"\"}, \"type\": \"mesh3d\"}], \"parcoords\": [{\"line\": {\"colorbar\": {\"outlinewidth\": 0, \"ticks\": \"\"}}, \"type\": \"parcoords\"}], \"pie\": [{\"automargin\": true, \"type\": \"pie\"}], \"scatter\": [{\"marker\": {\"colorbar\": {\"outlinewidth\": 0, \"ticks\": \"\"}}, \"type\": \"scatter\"}], \"scatter3d\": [{\"line\": {\"colorbar\": {\"outlinewidth\": 0, \"ticks\": \"\"}}, \"marker\": {\"colorbar\": {\"outlinewidth\": 0, \"ticks\": \"\"}}, \"type\": \"scatter3d\"}], \"scattercarpet\": [{\"marker\": {\"colorbar\": {\"outlinewidth\": 0, \"ticks\": \"\"}}, \"type\": \"scattercarpet\"}], \"scattergeo\": [{\"marker\": {\"colorbar\": {\"outlinewidth\": 0, \"ticks\": \"\"}}, \"type\": \"scattergeo\"}], \"scattergl\": [{\"marker\": {\"colorbar\": {\"outlinewidth\": 0, \"ticks\": \"\"}}, \"type\": \"scattergl\"}], \"scattermapbox\": [{\"marker\": {\"colorbar\": {\"outlinewidth\": 0, \"ticks\": \"\"}}, \"type\": \"scattermapbox\"}], \"scatterpolar\": [{\"marker\": {\"colorbar\": {\"outlinewidth\": 0, \"ticks\": \"\"}}, \"type\": \"scatterpolar\"}], \"scatterpolargl\": [{\"marker\": {\"colorbar\": {\"outlinewidth\": 0, \"ticks\": \"\"}}, \"type\": \"scatterpolargl\"}], \"scatterternary\": [{\"marker\": {\"colorbar\": {\"outlinewidth\": 0, \"ticks\": \"\"}}, \"type\": \"scatterternary\"}], \"surface\": [{\"colorbar\": {\"outlinewidth\": 0, \"ticks\": \"\"}, \"colorscale\": [[0.0, \"#0d0887\"], [0.1111111111111111, \"#46039f\"], [0.2222222222222222, \"#7201a8\"], [0.3333333333333333, \"#9c179e\"], [0.4444444444444444, \"#bd3786\"], [0.5555555555555556, \"#d8576b\"], [0.6666666666666666, \"#ed7953\"], [0.7777777777777778, \"#fb9f3a\"], [0.8888888888888888, \"#fdca26\"], [1.0, \"#f0f921\"]], \"type\": \"surface\"}], \"table\": [{\"cells\": {\"fill\": {\"color\": \"#EBF0F8\"}, \"line\": {\"color\": \"white\"}}, \"header\": {\"fill\": {\"color\": \"#C8D4E3\"}, \"line\": {\"color\": \"white\"}}, \"type\": \"table\"}]}, \"layout\": {\"annotationdefaults\": {\"arrowcolor\": \"#2a3f5f\", \"arrowhead\": 0, \"arrowwidth\": 1}, \"coloraxis\": {\"colorbar\": {\"outlinewidth\": 0, \"ticks\": \"\"}}, \"colorscale\": {\"diverging\": [[0, \"#8e0152\"], [0.1, \"#c51b7d\"], [0.2, \"#de77ae\"], [0.3, \"#f1b6da\"], [0.4, \"#fde0ef\"], [0.5, \"#f7f7f7\"], [0.6, \"#e6f5d0\"], [0.7, \"#b8e186\"], [0.8, \"#7fbc41\"], [0.9, \"#4d9221\"], [1, \"#276419\"]], \"sequential\": [[0.0, \"#0d0887\"], [0.1111111111111111, \"#46039f\"], [0.2222222222222222, \"#7201a8\"], [0.3333333333333333, \"#9c179e\"], [0.4444444444444444, \"#bd3786\"], [0.5555555555555556, \"#d8576b\"], [0.6666666666666666, \"#ed7953\"], [0.7777777777777778, \"#fb9f3a\"], [0.8888888888888888, \"#fdca26\"], [1.0, \"#f0f921\"]], \"sequentialminus\": [[0.0, \"#0d0887\"], [0.1111111111111111, \"#46039f\"], [0.2222222222222222, \"#7201a8\"], [0.3333333333333333, \"#9c179e\"], [0.4444444444444444, \"#bd3786\"], [0.5555555555555556, \"#d8576b\"], [0.6666666666666666, \"#ed7953\"], [0.7777777777777778, \"#fb9f3a\"], [0.8888888888888888, \"#fdca26\"], [1.0, \"#f0f921\"]]}, \"colorway\": [\"#636efa\", \"#EF553B\", \"#00cc96\", \"#ab63fa\", \"#FFA15A\", \"#19d3f3\", \"#FF6692\", \"#B6E880\", \"#FF97FF\", \"#FECB52\"], \"font\": {\"color\": \"#2a3f5f\"}, \"geo\": {\"bgcolor\": \"white\", \"lakecolor\": \"white\", \"landcolor\": \"#E5ECF6\", \"showlakes\": true, \"showland\": true, \"subunitcolor\": \"white\"}, \"hoverlabel\": {\"align\": \"left\"}, \"hovermode\": \"closest\", \"mapbox\": {\"style\": \"light\"}, \"paper_bgcolor\": \"white\", \"plot_bgcolor\": \"#E5ECF6\", \"polar\": {\"angularaxis\": {\"gridcolor\": \"white\", \"linecolor\": \"white\", \"ticks\": \"\"}, \"bgcolor\": \"#E5ECF6\", \"radialaxis\": {\"gridcolor\": \"white\", \"linecolor\": \"white\", \"ticks\": \"\"}}, \"scene\": {\"xaxis\": {\"backgroundcolor\": \"#E5ECF6\", \"gridcolor\": \"white\", \"gridwidth\": 2, \"linecolor\": \"white\", \"showbackground\": true, \"ticks\": \"\", \"zerolinecolor\": \"white\"}, \"yaxis\": {\"backgroundcolor\": \"#E5ECF6\", \"gridcolor\": \"white\", \"gridwidth\": 2, \"linecolor\": \"white\", \"showbackground\": true, \"ticks\": \"\", \"zerolinecolor\": \"white\"}, \"zaxis\": {\"backgroundcolor\": \"#E5ECF6\", \"gridcolor\": \"white\", \"gridwidth\": 2, \"linecolor\": \"white\", \"showbackground\": true, \"ticks\": \"\", \"zerolinecolor\": \"white\"}}, \"shapedefaults\": {\"line\": {\"color\": \"#2a3f5f\"}}, \"ternary\": {\"aaxis\": {\"gridcolor\": \"white\", \"linecolor\": \"white\", \"ticks\": \"\"}, \"baxis\": {\"gridcolor\": \"white\", \"linecolor\": \"white\", \"ticks\": \"\"}, \"bgcolor\": \"#E5ECF6\", \"caxis\": {\"gridcolor\": \"white\", \"linecolor\": \"white\", \"ticks\": \"\"}}, \"title\": {\"x\": 0.05}, \"xaxis\": {\"automargin\": true, \"gridcolor\": \"white\", \"linecolor\": \"white\", \"ticks\": \"\", \"title\": {\"standoff\": 15}, \"zerolinecolor\": \"white\", \"zerolinewidth\": 2}, \"yaxis\": {\"automargin\": true, \"gridcolor\": \"white\", \"linecolor\": \"white\", \"ticks\": \"\", \"title\": {\"standoff\": 15}, \"zerolinecolor\": \"white\", \"zerolinewidth\": 2}}}, \"title\": {\"text\": \"Box plot Saldo\"}, \"xaxis\": {\"anchor\": \"y\", \"domain\": [0.0, 1.0]}, \"yaxis\": {\"anchor\": \"x\", \"domain\": [0.0, 1.0], \"title\": {\"text\": \"Saldo\"}}},                        {\"responsive\": true}                    ).then(function(){\n",
       "                            \n",
       "var gd = document.getElementById('30de3be0-674d-4c74-8c28-500e7cd557ab');\n",
       "var x = new MutationObserver(function (mutations, observer) {{\n",
       "        var display = window.getComputedStyle(gd).display;\n",
       "        if (!display || display === 'none') {{\n",
       "            console.log([gd, 'removed!']);\n",
       "            Plotly.purge(gd);\n",
       "            observer.disconnect();\n",
       "        }}\n",
       "}});\n",
       "\n",
       "// Listen for the removal of the full notebook cells\n",
       "var notebookContainer = gd.closest('#notebook-container');\n",
       "if (notebookContainer) {{\n",
       "    x.observe(notebookContainer, {childList: true});\n",
       "}}\n",
       "\n",
       "// Listen for the clearing of the current output cell\n",
       "var outputEl = gd.closest('.output');\n",
       "if (outputEl) {{\n",
       "    x.observe(outputEl, {childList: true});\n",
       "}}\n",
       "\n",
       "                        })                };                });            </script>        </div>"
      ]
     },
     "metadata": {},
     "output_type": "display_data"
    }
   ],
   "source": [
    "fig = px.box(df, y=\"Saldo\", title= 'Box plot Saldo')\n",
    "fig.show()\n",
    "#El rango en el que se encuentra el 50% de las personas es más amplio que con el de ingreso,\n",
    "#aquí el rango va de 20 k a 50 K, con una media de 36.242 K"
   ]
  },
  {
   "cell_type": "code",
   "execution_count": 34,
   "metadata": {
    "scrolled": true
   },
   "outputs": [
    {
     "data": {
      "text/html": [
       "<div>\n",
       "<style scoped>\n",
       "    .dataframe tbody tr th:only-of-type {\n",
       "        vertical-align: middle;\n",
       "    }\n",
       "\n",
       "    .dataframe tbody tr th {\n",
       "        vertical-align: top;\n",
       "    }\n",
       "\n",
       "    .dataframe thead th {\n",
       "        text-align: right;\n",
       "    }\n",
       "</style>\n",
       "<table border=\"1\" class=\"dataframe\">\n",
       "  <thead>\n",
       "    <tr style=\"text-align: right;\">\n",
       "      <th></th>\n",
       "      <th>Llave</th>\n",
       "      <th>Edad</th>\n",
       "      <th>Antigüedad</th>\n",
       "      <th>Ingresos</th>\n",
       "      <th>Saldo</th>\n",
       "    </tr>\n",
       "  </thead>\n",
       "  <tbody>\n",
       "    <tr>\n",
       "      <td>count</td>\n",
       "      <td>7.670000e+02</td>\n",
       "      <td>767.000000</td>\n",
       "      <td>767.000000</td>\n",
       "      <td>767.000000</td>\n",
       "      <td>767.000000</td>\n",
       "    </tr>\n",
       "    <tr>\n",
       "      <td>mean</td>\n",
       "      <td>5.168880e+07</td>\n",
       "      <td>35.904824</td>\n",
       "      <td>29.612777</td>\n",
       "      <td>24757.174707</td>\n",
       "      <td>36169.981747</td>\n",
       "    </tr>\n",
       "    <tr>\n",
       "      <td>std</td>\n",
       "      <td>2.815169e+07</td>\n",
       "      <td>20.200563</td>\n",
       "      <td>17.180656</td>\n",
       "      <td>14214.341725</td>\n",
       "      <td>20455.898732</td>\n",
       "    </tr>\n",
       "    <tr>\n",
       "      <td>min</td>\n",
       "      <td>4.529000e+03</td>\n",
       "      <td>0.000000</td>\n",
       "      <td>0.000000</td>\n",
       "      <td>71.000000</td>\n",
       "      <td>64.000000</td>\n",
       "    </tr>\n",
       "    <tr>\n",
       "      <td>25%</td>\n",
       "      <td>2.949331e+07</td>\n",
       "      <td>18.000000</td>\n",
       "      <td>15.000000</td>\n",
       "      <td>12483.500000</td>\n",
       "      <td>18784.000000</td>\n",
       "    </tr>\n",
       "    <tr>\n",
       "      <td>50%</td>\n",
       "      <td>5.343280e+07</td>\n",
       "      <td>36.000000</td>\n",
       "      <td>29.000000</td>\n",
       "      <td>25083.000000</td>\n",
       "      <td>36242.000000</td>\n",
       "    </tr>\n",
       "    <tr>\n",
       "      <td>75%</td>\n",
       "      <td>7.608402e+07</td>\n",
       "      <td>54.000000</td>\n",
       "      <td>44.000000</td>\n",
       "      <td>36677.500000</td>\n",
       "      <td>53891.000000</td>\n",
       "    </tr>\n",
       "    <tr>\n",
       "      <td>max</td>\n",
       "      <td>9.961472e+07</td>\n",
       "      <td>70.000000</td>\n",
       "      <td>60.000000</td>\n",
       "      <td>49983.000000</td>\n",
       "      <td>69970.000000</td>\n",
       "    </tr>\n",
       "  </tbody>\n",
       "</table>\n",
       "</div>"
      ],
      "text/plain": [
       "              Llave        Edad  Antigüedad      Ingresos         Saldo\n",
       "count  7.670000e+02  767.000000  767.000000    767.000000    767.000000\n",
       "mean   5.168880e+07   35.904824   29.612777  24757.174707  36169.981747\n",
       "std    2.815169e+07   20.200563   17.180656  14214.341725  20455.898732\n",
       "min    4.529000e+03    0.000000    0.000000     71.000000     64.000000\n",
       "25%    2.949331e+07   18.000000   15.000000  12483.500000  18784.000000\n",
       "50%    5.343280e+07   36.000000   29.000000  25083.000000  36242.000000\n",
       "75%    7.608402e+07   54.000000   44.000000  36677.500000  53891.000000\n",
       "max    9.961472e+07   70.000000   60.000000  49983.000000  69970.000000"
      ]
     },
     "execution_count": 34,
     "metadata": {},
     "output_type": "execute_result"
    }
   ],
   "source": [
    "df.describe()"
   ]
  },
  {
   "cell_type": "markdown",
   "metadata": {},
   "source": [
    "La informacion de este dataset  no muestra una tendencia ni distribución clara"
   ]
  }
 ],
 "metadata": {
  "kernelspec": {
   "display_name": "Python 3",
   "language": "python",
   "name": "python3"
  },
  "language_info": {
   "codemirror_mode": {
    "name": "ipython",
    "version": 3
   },
   "file_extension": ".py",
   "mimetype": "text/x-python",
   "name": "python",
   "nbconvert_exporter": "python",
   "pygments_lexer": "ipython3",
   "version": "3.7.4"
  }
 },
 "nbformat": 4,
 "nbformat_minor": 2
}
